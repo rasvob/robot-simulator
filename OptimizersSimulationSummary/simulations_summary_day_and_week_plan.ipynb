{
 "cells": [
  {
   "cell_type": "code",
   "execution_count": 1,
   "metadata": {},
   "outputs": [],
   "source": [
    "import pandas as pd\n",
    "import plotly.express as px"
   ]
  },
  {
   "cell_type": "code",
   "execution_count": 33,
   "metadata": {},
   "outputs": [
    {
     "data": {
      "text/html": [
       "<div>\n",
       "<style scoped>\n",
       "    .dataframe tbody tr th:only-of-type {\n",
       "        vertical-align: middle;\n",
       "    }\n",
       "\n",
       "    .dataframe tbody tr th {\n",
       "        vertical-align: top;\n",
       "    }\n",
       "\n",
       "    .dataframe thead th {\n",
       "        text-align: right;\n",
       "    }\n",
       "</style>\n",
       "<table border=\"1\" class=\"dataframe\">\n",
       "  <thead>\n",
       "    <tr style=\"text-align: right;\">\n",
       "      <th></th>\n",
       "      <th>simulation_key</th>\n",
       "      <th>missing_plan_cnt_first_delay</th>\n",
       "      <th>missing_plan_cnt_planned_time</th>\n",
       "      <th>whole_process_delay</th>\n",
       "      <th>controller_name</th>\n",
       "      <th>break_strategy</th>\n",
       "      <th>simulation_index</th>\n",
       "      <th>produced_in_planned_time</th>\n",
       "      <th>process_delay_minutes</th>\n",
       "      <th>process_delay_hours</th>\n",
       "    </tr>\n",
       "  </thead>\n",
       "  <tbody>\n",
       "    <tr>\n",
       "      <th>0</th>\n",
       "      <td>naive-break_skip-1</td>\n",
       "      <td>0</td>\n",
       "      <td>0</td>\n",
       "      <td>0.00</td>\n",
       "      <td>naive</td>\n",
       "      <td>break_skip</td>\n",
       "      <td>1</td>\n",
       "      <td>1416</td>\n",
       "      <td>0.000000</td>\n",
       "      <td>0.000000</td>\n",
       "    </tr>\n",
       "    <tr>\n",
       "      <th>1</th>\n",
       "      <td>naive-break_skip-2</td>\n",
       "      <td>0</td>\n",
       "      <td>0</td>\n",
       "      <td>0.00</td>\n",
       "      <td>naive</td>\n",
       "      <td>break_skip</td>\n",
       "      <td>2</td>\n",
       "      <td>1416</td>\n",
       "      <td>0.000000</td>\n",
       "      <td>0.000000</td>\n",
       "    </tr>\n",
       "    <tr>\n",
       "      <th>2</th>\n",
       "      <td>naive-break_skip-3</td>\n",
       "      <td>1391</td>\n",
       "      <td>342</td>\n",
       "      <td>25687.35</td>\n",
       "      <td>naive</td>\n",
       "      <td>break_skip</td>\n",
       "      <td>3</td>\n",
       "      <td>1074</td>\n",
       "      <td>428.122500</td>\n",
       "      <td>7.135375</td>\n",
       "    </tr>\n",
       "    <tr>\n",
       "      <th>3</th>\n",
       "      <td>naive-break_skip-4</td>\n",
       "      <td>1415</td>\n",
       "      <td>341</td>\n",
       "      <td>25651.99</td>\n",
       "      <td>naive</td>\n",
       "      <td>break_skip</td>\n",
       "      <td>4</td>\n",
       "      <td>1075</td>\n",
       "      <td>427.533167</td>\n",
       "      <td>7.125553</td>\n",
       "    </tr>\n",
       "    <tr>\n",
       "      <th>4</th>\n",
       "      <td>naive-break_skip-5</td>\n",
       "      <td>1386</td>\n",
       "      <td>290</td>\n",
       "      <td>20776.65</td>\n",
       "      <td>naive</td>\n",
       "      <td>break_skip</td>\n",
       "      <td>5</td>\n",
       "      <td>1126</td>\n",
       "      <td>346.277500</td>\n",
       "      <td>5.771292</td>\n",
       "    </tr>\n",
       "  </tbody>\n",
       "</table>\n",
       "</div>"
      ],
      "text/plain": [
       "       simulation_key  missing_plan_cnt_first_delay  \\\n",
       "0  naive-break_skip-1                             0   \n",
       "1  naive-break_skip-2                             0   \n",
       "2  naive-break_skip-3                          1391   \n",
       "3  naive-break_skip-4                          1415   \n",
       "4  naive-break_skip-5                          1386   \n",
       "\n",
       "   missing_plan_cnt_planned_time  whole_process_delay controller_name  \\\n",
       "0                              0                 0.00           naive   \n",
       "1                              0                 0.00           naive   \n",
       "2                            342             25687.35           naive   \n",
       "3                            341             25651.99           naive   \n",
       "4                            290             20776.65           naive   \n",
       "\n",
       "  break_strategy  simulation_index  produced_in_planned_time  \\\n",
       "0     break_skip                 1                      1416   \n",
       "1     break_skip                 2                      1416   \n",
       "2     break_skip                 3                      1074   \n",
       "3     break_skip                 4                      1075   \n",
       "4     break_skip                 5                      1126   \n",
       "\n",
       "   process_delay_minutes  process_delay_hours  \n",
       "0               0.000000             0.000000  \n",
       "1               0.000000             0.000000  \n",
       "2             428.122500             7.135375  \n",
       "3             427.533167             7.125553  \n",
       "4             346.277500             5.771292  "
      ]
     },
     "execution_count": 33,
     "metadata": {},
     "output_type": "execute_result"
    }
   ],
   "source": [
    "df = pd.read_csv('simulations_day_output.csv', sep=';', header=None)\n",
    "df.columns = ['simulation_key', 'missing_plan_cnt_first_delay', 'missing_plan_cnt_planned_time', 'whole_process_delay']\n",
    "df['controller_name'] = df.simulation_key.str.split('-', expand=True)[0]\n",
    "df['break_strategy'] = df.simulation_key.str.split('-', expand=True)[1]\n",
    "df['simulation_index'] = df.simulation_key.str.split('-', expand=True)[2].astype(int)\n",
    "df['produced_in_planned_time'] = 1416 - df.missing_plan_cnt_planned_time\n",
    "df['whole_process_delay'] = df.whole_process_delay.str.replace(',', '.').astype(float)\n",
    "df['process_delay_minutes'] = df.whole_process_delay / 60\n",
    "df['process_delay_hours'] = df.process_delay_minutes / 60\n",
    "df.head()"
   ]
  },
  {
   "cell_type": "code",
   "execution_count": 35,
   "metadata": {},
   "outputs": [
    {
     "data": {
      "text/html": [
       "<div>\n",
       "<style scoped>\n",
       "    .dataframe tbody tr th:only-of-type {\n",
       "        vertical-align: middle;\n",
       "    }\n",
       "\n",
       "    .dataframe tbody tr th {\n",
       "        vertical-align: top;\n",
       "    }\n",
       "\n",
       "    .dataframe thead th {\n",
       "        text-align: right;\n",
       "    }\n",
       "</style>\n",
       "<table border=\"1\" class=\"dataframe\">\n",
       "  <thead>\n",
       "    <tr style=\"text-align: right;\">\n",
       "      <th></th>\n",
       "      <th>missing_plan_cnt_first_delay</th>\n",
       "      <th>missing_plan_cnt_planned_time</th>\n",
       "      <th>whole_process_delay</th>\n",
       "      <th>simulation_index</th>\n",
       "      <th>produced_in_planned_time</th>\n",
       "      <th>process_delay_minutes</th>\n",
       "      <th>process_delay_hours</th>\n",
       "    </tr>\n",
       "  </thead>\n",
       "  <tbody>\n",
       "    <tr>\n",
       "      <th>count</th>\n",
       "      <td>1200.000000</td>\n",
       "      <td>1200.000000</td>\n",
       "      <td>1200.000000</td>\n",
       "      <td>1200.000000</td>\n",
       "      <td>1200.000000</td>\n",
       "      <td>1200.000000</td>\n",
       "      <td>1200.000000</td>\n",
       "    </tr>\n",
       "    <tr>\n",
       "      <th>mean</th>\n",
       "      <td>1078.953333</td>\n",
       "      <td>24.125833</td>\n",
       "      <td>1794.164483</td>\n",
       "      <td>600.500000</td>\n",
       "      <td>1391.874167</td>\n",
       "      <td>29.902741</td>\n",
       "      <td>0.498379</td>\n",
       "    </tr>\n",
       "    <tr>\n",
       "      <th>std</th>\n",
       "      <td>518.697658</td>\n",
       "      <td>75.428661</td>\n",
       "      <td>5468.415229</td>\n",
       "      <td>346.554469</td>\n",
       "      <td>75.428661</td>\n",
       "      <td>91.140254</td>\n",
       "      <td>1.519004</td>\n",
       "    </tr>\n",
       "    <tr>\n",
       "      <th>min</th>\n",
       "      <td>0.000000</td>\n",
       "      <td>0.000000</td>\n",
       "      <td>0.000000</td>\n",
       "      <td>1.000000</td>\n",
       "      <td>1073.000000</td>\n",
       "      <td>0.000000</td>\n",
       "      <td>0.000000</td>\n",
       "    </tr>\n",
       "    <tr>\n",
       "      <th>25%</th>\n",
       "      <td>1083.750000</td>\n",
       "      <td>0.000000</td>\n",
       "      <td>7.380000</td>\n",
       "      <td>300.750000</td>\n",
       "      <td>1411.000000</td>\n",
       "      <td>0.123000</td>\n",
       "      <td>0.002050</td>\n",
       "    </tr>\n",
       "    <tr>\n",
       "      <th>50%</th>\n",
       "      <td>1362.000000</td>\n",
       "      <td>0.000000</td>\n",
       "      <td>110.060000</td>\n",
       "      <td>600.500000</td>\n",
       "      <td>1416.000000</td>\n",
       "      <td>1.834333</td>\n",
       "      <td>0.030572</td>\n",
       "    </tr>\n",
       "    <tr>\n",
       "      <th>75%</th>\n",
       "      <td>1382.000000</td>\n",
       "      <td>5.000000</td>\n",
       "      <td>504.625000</td>\n",
       "      <td>900.250000</td>\n",
       "      <td>1416.000000</td>\n",
       "      <td>8.410417</td>\n",
       "      <td>0.140174</td>\n",
       "    </tr>\n",
       "    <tr>\n",
       "      <th>max</th>\n",
       "      <td>1415.000000</td>\n",
       "      <td>343.000000</td>\n",
       "      <td>25806.420000</td>\n",
       "      <td>1200.000000</td>\n",
       "      <td>1416.000000</td>\n",
       "      <td>430.107000</td>\n",
       "      <td>7.168450</td>\n",
       "    </tr>\n",
       "  </tbody>\n",
       "</table>\n",
       "</div>"
      ],
      "text/plain": [
       "       missing_plan_cnt_first_delay  missing_plan_cnt_planned_time  \\\n",
       "count                   1200.000000                    1200.000000   \n",
       "mean                    1078.953333                      24.125833   \n",
       "std                      518.697658                      75.428661   \n",
       "min                        0.000000                       0.000000   \n",
       "25%                     1083.750000                       0.000000   \n",
       "50%                     1362.000000                       0.000000   \n",
       "75%                     1382.000000                       5.000000   \n",
       "max                     1415.000000                     343.000000   \n",
       "\n",
       "       whole_process_delay  simulation_index  produced_in_planned_time  \\\n",
       "count          1200.000000       1200.000000               1200.000000   \n",
       "mean           1794.164483        600.500000               1391.874167   \n",
       "std            5468.415229        346.554469                 75.428661   \n",
       "min               0.000000          1.000000               1073.000000   \n",
       "25%               7.380000        300.750000               1411.000000   \n",
       "50%             110.060000        600.500000               1416.000000   \n",
       "75%             504.625000        900.250000               1416.000000   \n",
       "max           25806.420000       1200.000000               1416.000000   \n",
       "\n",
       "       process_delay_minutes  process_delay_hours  \n",
       "count            1200.000000          1200.000000  \n",
       "mean               29.902741             0.498379  \n",
       "std                91.140254             1.519004  \n",
       "min                 0.000000             0.000000  \n",
       "25%                 0.123000             0.002050  \n",
       "50%                 1.834333             0.030572  \n",
       "75%                 8.410417             0.140174  \n",
       "max               430.107000             7.168450  "
      ]
     },
     "execution_count": 35,
     "metadata": {},
     "output_type": "execute_result"
    }
   ],
   "source": [
    "df.describe()"
   ]
  },
  {
   "cell_type": "code",
   "execution_count": 40,
   "metadata": {},
   "outputs": [
    {
     "data": {
      "text/plain": [
       "0.6083333333333333"
      ]
     },
     "execution_count": 40,
     "metadata": {},
     "output_type": "execute_result"
    }
   ],
   "source": [
    "df[df.missing_plan_cnt_planned_time == 0].shape[0] / df.shape[0]"
   ]
  },
  {
   "cell_type": "code",
   "execution_count": 47,
   "metadata": {},
   "outputs": [
    {
     "data": {
      "text/plain": [
       "0.16083333333333333"
      ]
     },
     "execution_count": 47,
     "metadata": {},
     "output_type": "execute_result"
    }
   ],
   "source": [
    "df[df.whole_process_delay == 0].shape[0] / df.shape[0]"
   ]
  },
  {
   "cell_type": "code",
   "execution_count": 48,
   "metadata": {},
   "outputs": [
    {
     "data": {
      "text/html": [
       "<div>\n",
       "<style scoped>\n",
       "    .dataframe tbody tr th:only-of-type {\n",
       "        vertical-align: middle;\n",
       "    }\n",
       "\n",
       "    .dataframe tbody tr th {\n",
       "        vertical-align: top;\n",
       "    }\n",
       "\n",
       "    .dataframe thead th {\n",
       "        text-align: right;\n",
       "    }\n",
       "</style>\n",
       "<table border=\"1\" class=\"dataframe\">\n",
       "  <thead>\n",
       "    <tr style=\"text-align: right;\">\n",
       "      <th></th>\n",
       "      <th>simulation_key</th>\n",
       "      <th>missing_plan_cnt_first_delay</th>\n",
       "      <th>missing_plan_cnt_planned_time</th>\n",
       "      <th>whole_process_delay</th>\n",
       "      <th>controller_name</th>\n",
       "      <th>break_strategy</th>\n",
       "      <th>simulation_index</th>\n",
       "      <th>produced_in_planned_time</th>\n",
       "      <th>process_delay_minutes</th>\n",
       "      <th>process_delay_hours</th>\n",
       "    </tr>\n",
       "  </thead>\n",
       "  <tbody>\n",
       "    <tr>\n",
       "      <th>29</th>\n",
       "      <td>naive-break_skip-30</td>\n",
       "      <td>1368</td>\n",
       "      <td>0</td>\n",
       "      <td>184.76</td>\n",
       "      <td>naive</td>\n",
       "      <td>break_skip</td>\n",
       "      <td>30</td>\n",
       "      <td>1416</td>\n",
       "      <td>3.079333</td>\n",
       "      <td>0.051322</td>\n",
       "    </tr>\n",
       "    <tr>\n",
       "      <th>30</th>\n",
       "      <td>naive-break_skip-31</td>\n",
       "      <td>1380</td>\n",
       "      <td>0</td>\n",
       "      <td>179.92</td>\n",
       "      <td>naive</td>\n",
       "      <td>break_skip</td>\n",
       "      <td>31</td>\n",
       "      <td>1416</td>\n",
       "      <td>2.998667</td>\n",
       "      <td>0.049978</td>\n",
       "    </tr>\n",
       "    <tr>\n",
       "      <th>34</th>\n",
       "      <td>naive-break_skip-35</td>\n",
       "      <td>1355</td>\n",
       "      <td>0</td>\n",
       "      <td>45.09</td>\n",
       "      <td>naive</td>\n",
       "      <td>break_skip</td>\n",
       "      <td>35</td>\n",
       "      <td>1416</td>\n",
       "      <td>0.751500</td>\n",
       "      <td>0.012525</td>\n",
       "    </tr>\n",
       "    <tr>\n",
       "      <th>35</th>\n",
       "      <td>naive-break_skip-36</td>\n",
       "      <td>1372</td>\n",
       "      <td>0</td>\n",
       "      <td>280.17</td>\n",
       "      <td>naive</td>\n",
       "      <td>break_skip</td>\n",
       "      <td>36</td>\n",
       "      <td>1416</td>\n",
       "      <td>4.669500</td>\n",
       "      <td>0.077825</td>\n",
       "    </tr>\n",
       "    <tr>\n",
       "      <th>39</th>\n",
       "      <td>naive-break_skip-40</td>\n",
       "      <td>1351</td>\n",
       "      <td>0</td>\n",
       "      <td>205.43</td>\n",
       "      <td>naive</td>\n",
       "      <td>break_skip</td>\n",
       "      <td>40</td>\n",
       "      <td>1416</td>\n",
       "      <td>3.423833</td>\n",
       "      <td>0.057064</td>\n",
       "    </tr>\n",
       "    <tr>\n",
       "      <th>40</th>\n",
       "      <td>naive-break_skip-41</td>\n",
       "      <td>1375</td>\n",
       "      <td>0</td>\n",
       "      <td>137.47</td>\n",
       "      <td>naive</td>\n",
       "      <td>break_skip</td>\n",
       "      <td>41</td>\n",
       "      <td>1416</td>\n",
       "      <td>2.291167</td>\n",
       "      <td>0.038186</td>\n",
       "    </tr>\n",
       "    <tr>\n",
       "      <th>41</th>\n",
       "      <td>naive-break_skip-42</td>\n",
       "      <td>1353</td>\n",
       "      <td>0</td>\n",
       "      <td>97.89</td>\n",
       "      <td>naive</td>\n",
       "      <td>break_skip</td>\n",
       "      <td>42</td>\n",
       "      <td>1416</td>\n",
       "      <td>1.631500</td>\n",
       "      <td>0.027192</td>\n",
       "    </tr>\n",
       "    <tr>\n",
       "      <th>42</th>\n",
       "      <td>naive-break_skip-43</td>\n",
       "      <td>1254</td>\n",
       "      <td>0</td>\n",
       "      <td>241.60</td>\n",
       "      <td>naive</td>\n",
       "      <td>break_skip</td>\n",
       "      <td>43</td>\n",
       "      <td>1416</td>\n",
       "      <td>4.026667</td>\n",
       "      <td>0.067111</td>\n",
       "    </tr>\n",
       "    <tr>\n",
       "      <th>43</th>\n",
       "      <td>naive-break_skip-44</td>\n",
       "      <td>1357</td>\n",
       "      <td>0</td>\n",
       "      <td>164.03</td>\n",
       "      <td>naive</td>\n",
       "      <td>break_skip</td>\n",
       "      <td>44</td>\n",
       "      <td>1416</td>\n",
       "      <td>2.733833</td>\n",
       "      <td>0.045564</td>\n",
       "    </tr>\n",
       "    <tr>\n",
       "      <th>44</th>\n",
       "      <td>naive-break_skip-45</td>\n",
       "      <td>1334</td>\n",
       "      <td>0</td>\n",
       "      <td>32.37</td>\n",
       "      <td>naive</td>\n",
       "      <td>break_skip</td>\n",
       "      <td>45</td>\n",
       "      <td>1416</td>\n",
       "      <td>0.539500</td>\n",
       "      <td>0.008992</td>\n",
       "    </tr>\n",
       "    <tr>\n",
       "      <th>45</th>\n",
       "      <td>naive-break_skip-46</td>\n",
       "      <td>1368</td>\n",
       "      <td>0</td>\n",
       "      <td>209.12</td>\n",
       "      <td>naive</td>\n",
       "      <td>break_skip</td>\n",
       "      <td>46</td>\n",
       "      <td>1416</td>\n",
       "      <td>3.485333</td>\n",
       "      <td>0.058089</td>\n",
       "    </tr>\n",
       "    <tr>\n",
       "      <th>46</th>\n",
       "      <td>naive-break_skip-47</td>\n",
       "      <td>1370</td>\n",
       "      <td>0</td>\n",
       "      <td>133.50</td>\n",
       "      <td>naive</td>\n",
       "      <td>break_skip</td>\n",
       "      <td>47</td>\n",
       "      <td>1416</td>\n",
       "      <td>2.225000</td>\n",
       "      <td>0.037083</td>\n",
       "    </tr>\n",
       "    <tr>\n",
       "      <th>47</th>\n",
       "      <td>naive-break_skip-48</td>\n",
       "      <td>1332</td>\n",
       "      <td>0</td>\n",
       "      <td>127.80</td>\n",
       "      <td>naive</td>\n",
       "      <td>break_skip</td>\n",
       "      <td>48</td>\n",
       "      <td>1416</td>\n",
       "      <td>2.130000</td>\n",
       "      <td>0.035500</td>\n",
       "    </tr>\n",
       "    <tr>\n",
       "      <th>48</th>\n",
       "      <td>naive-break_skip-49</td>\n",
       "      <td>1376</td>\n",
       "      <td>0</td>\n",
       "      <td>179.78</td>\n",
       "      <td>naive</td>\n",
       "      <td>break_skip</td>\n",
       "      <td>49</td>\n",
       "      <td>1416</td>\n",
       "      <td>2.996333</td>\n",
       "      <td>0.049939</td>\n",
       "    </tr>\n",
       "    <tr>\n",
       "      <th>49</th>\n",
       "      <td>naive-break_skip-50</td>\n",
       "      <td>1334</td>\n",
       "      <td>0</td>\n",
       "      <td>23.75</td>\n",
       "      <td>naive</td>\n",
       "      <td>break_skip</td>\n",
       "      <td>50</td>\n",
       "      <td>1416</td>\n",
       "      <td>0.395833</td>\n",
       "      <td>0.006597</td>\n",
       "    </tr>\n",
       "    <tr>\n",
       "      <th>50</th>\n",
       "      <td>naive-break_skip-51</td>\n",
       "      <td>1350</td>\n",
       "      <td>0</td>\n",
       "      <td>26.85</td>\n",
       "      <td>naive</td>\n",
       "      <td>break_skip</td>\n",
       "      <td>51</td>\n",
       "      <td>1416</td>\n",
       "      <td>0.447500</td>\n",
       "      <td>0.007458</td>\n",
       "    </tr>\n",
       "    <tr>\n",
       "      <th>51</th>\n",
       "      <td>naive-break_skip-52</td>\n",
       "      <td>1362</td>\n",
       "      <td>0</td>\n",
       "      <td>15.64</td>\n",
       "      <td>naive</td>\n",
       "      <td>break_skip</td>\n",
       "      <td>52</td>\n",
       "      <td>1416</td>\n",
       "      <td>0.260667</td>\n",
       "      <td>0.004344</td>\n",
       "    </tr>\n",
       "    <tr>\n",
       "      <th>52</th>\n",
       "      <td>naive-break_skip-53</td>\n",
       "      <td>1282</td>\n",
       "      <td>0</td>\n",
       "      <td>21.43</td>\n",
       "      <td>naive</td>\n",
       "      <td>break_skip</td>\n",
       "      <td>53</td>\n",
       "      <td>1416</td>\n",
       "      <td>0.357167</td>\n",
       "      <td>0.005953</td>\n",
       "    </tr>\n",
       "    <tr>\n",
       "      <th>53</th>\n",
       "      <td>naive-break_skip-54</td>\n",
       "      <td>863</td>\n",
       "      <td>0</td>\n",
       "      <td>20.97</td>\n",
       "      <td>naive</td>\n",
       "      <td>break_skip</td>\n",
       "      <td>54</td>\n",
       "      <td>1416</td>\n",
       "      <td>0.349500</td>\n",
       "      <td>0.005825</td>\n",
       "    </tr>\n",
       "    <tr>\n",
       "      <th>54</th>\n",
       "      <td>naive-break_skip-55</td>\n",
       "      <td>1334</td>\n",
       "      <td>0</td>\n",
       "      <td>12.95</td>\n",
       "      <td>naive</td>\n",
       "      <td>break_skip</td>\n",
       "      <td>55</td>\n",
       "      <td>1416</td>\n",
       "      <td>0.215833</td>\n",
       "      <td>0.003597</td>\n",
       "    </tr>\n",
       "    <tr>\n",
       "      <th>55</th>\n",
       "      <td>naive-break_skip-56</td>\n",
       "      <td>1348</td>\n",
       "      <td>0</td>\n",
       "      <td>10.31</td>\n",
       "      <td>naive</td>\n",
       "      <td>break_skip</td>\n",
       "      <td>56</td>\n",
       "      <td>1416</td>\n",
       "      <td>0.171833</td>\n",
       "      <td>0.002864</td>\n",
       "    </tr>\n",
       "    <tr>\n",
       "      <th>56</th>\n",
       "      <td>naive-break_skip-57</td>\n",
       "      <td>1415</td>\n",
       "      <td>0</td>\n",
       "      <td>173.84</td>\n",
       "      <td>naive</td>\n",
       "      <td>break_skip</td>\n",
       "      <td>57</td>\n",
       "      <td>1416</td>\n",
       "      <td>2.897333</td>\n",
       "      <td>0.048289</td>\n",
       "    </tr>\n",
       "    <tr>\n",
       "      <th>57</th>\n",
       "      <td>naive-break_skip-58</td>\n",
       "      <td>928</td>\n",
       "      <td>0</td>\n",
       "      <td>9.40</td>\n",
       "      <td>naive</td>\n",
       "      <td>break_skip</td>\n",
       "      <td>58</td>\n",
       "      <td>1416</td>\n",
       "      <td>0.156667</td>\n",
       "      <td>0.002611</td>\n",
       "    </tr>\n",
       "    <tr>\n",
       "      <th>58</th>\n",
       "      <td>naive-break_skip-59</td>\n",
       "      <td>1224</td>\n",
       "      <td>0</td>\n",
       "      <td>37.75</td>\n",
       "      <td>naive</td>\n",
       "      <td>break_skip</td>\n",
       "      <td>59</td>\n",
       "      <td>1416</td>\n",
       "      <td>0.629167</td>\n",
       "      <td>0.010486</td>\n",
       "    </tr>\n",
       "    <tr>\n",
       "      <th>61</th>\n",
       "      <td>naive-break_skip-62</td>\n",
       "      <td>1415</td>\n",
       "      <td>0</td>\n",
       "      <td>7.71</td>\n",
       "      <td>naive</td>\n",
       "      <td>break_skip</td>\n",
       "      <td>62</td>\n",
       "      <td>1416</td>\n",
       "      <td>0.128500</td>\n",
       "      <td>0.002142</td>\n",
       "    </tr>\n",
       "    <tr>\n",
       "      <th>62</th>\n",
       "      <td>naive-break_skip-63</td>\n",
       "      <td>42</td>\n",
       "      <td>0</td>\n",
       "      <td>4.31</td>\n",
       "      <td>naive</td>\n",
       "      <td>break_skip</td>\n",
       "      <td>63</td>\n",
       "      <td>1416</td>\n",
       "      <td>0.071833</td>\n",
       "      <td>0.001197</td>\n",
       "    </tr>\n",
       "    <tr>\n",
       "      <th>64</th>\n",
       "      <td>naive-break_skip-65</td>\n",
       "      <td>667</td>\n",
       "      <td>0</td>\n",
       "      <td>5.20</td>\n",
       "      <td>naive</td>\n",
       "      <td>break_skip</td>\n",
       "      <td>65</td>\n",
       "      <td>1416</td>\n",
       "      <td>0.086667</td>\n",
       "      <td>0.001444</td>\n",
       "    </tr>\n",
       "    <tr>\n",
       "      <th>65</th>\n",
       "      <td>naive-break_skip-66</td>\n",
       "      <td>1316</td>\n",
       "      <td>0</td>\n",
       "      <td>4.56</td>\n",
       "      <td>naive</td>\n",
       "      <td>break_skip</td>\n",
       "      <td>66</td>\n",
       "      <td>1416</td>\n",
       "      <td>0.076000</td>\n",
       "      <td>0.001267</td>\n",
       "    </tr>\n",
       "    <tr>\n",
       "      <th>66</th>\n",
       "      <td>naive-break_skip-67</td>\n",
       "      <td>1257</td>\n",
       "      <td>0</td>\n",
       "      <td>12.60</td>\n",
       "      <td>naive</td>\n",
       "      <td>break_skip</td>\n",
       "      <td>67</td>\n",
       "      <td>1416</td>\n",
       "      <td>0.210000</td>\n",
       "      <td>0.003500</td>\n",
       "    </tr>\n",
       "    <tr>\n",
       "      <th>68</th>\n",
       "      <td>naive-break_skip-69</td>\n",
       "      <td>1024</td>\n",
       "      <td>0</td>\n",
       "      <td>2.95</td>\n",
       "      <td>naive</td>\n",
       "      <td>break_skip</td>\n",
       "      <td>69</td>\n",
       "      <td>1416</td>\n",
       "      <td>0.049167</td>\n",
       "      <td>0.000819</td>\n",
       "    </tr>\n",
       "    <tr>\n",
       "      <th>...</th>\n",
       "      <td>...</td>\n",
       "      <td>...</td>\n",
       "      <td>...</td>\n",
       "      <td>...</td>\n",
       "      <td>...</td>\n",
       "      <td>...</td>\n",
       "      <td>...</td>\n",
       "      <td>...</td>\n",
       "      <td>...</td>\n",
       "      <td>...</td>\n",
       "    </tr>\n",
       "    <tr>\n",
       "      <th>1142</th>\n",
       "      <td>naive-break_skip-1143</td>\n",
       "      <td>1354</td>\n",
       "      <td>0</td>\n",
       "      <td>64.69</td>\n",
       "      <td>naive</td>\n",
       "      <td>break_skip</td>\n",
       "      <td>1143</td>\n",
       "      <td>1416</td>\n",
       "      <td>1.078167</td>\n",
       "      <td>0.017969</td>\n",
       "    </tr>\n",
       "    <tr>\n",
       "      <th>1143</th>\n",
       "      <td>naive-break_skip-1144</td>\n",
       "      <td>1377</td>\n",
       "      <td>0</td>\n",
       "      <td>132.66</td>\n",
       "      <td>naive</td>\n",
       "      <td>break_skip</td>\n",
       "      <td>1144</td>\n",
       "      <td>1416</td>\n",
       "      <td>2.211000</td>\n",
       "      <td>0.036850</td>\n",
       "    </tr>\n",
       "    <tr>\n",
       "      <th>1144</th>\n",
       "      <td>naive-break_skip-1145</td>\n",
       "      <td>1370</td>\n",
       "      <td>0</td>\n",
       "      <td>140.57</td>\n",
       "      <td>naive</td>\n",
       "      <td>break_skip</td>\n",
       "      <td>1145</td>\n",
       "      <td>1416</td>\n",
       "      <td>2.342833</td>\n",
       "      <td>0.039047</td>\n",
       "    </tr>\n",
       "    <tr>\n",
       "      <th>1145</th>\n",
       "      <td>naive-break_skip-1146</td>\n",
       "      <td>1371</td>\n",
       "      <td>0</td>\n",
       "      <td>86.08</td>\n",
       "      <td>naive</td>\n",
       "      <td>break_skip</td>\n",
       "      <td>1146</td>\n",
       "      <td>1416</td>\n",
       "      <td>1.434667</td>\n",
       "      <td>0.023911</td>\n",
       "    </tr>\n",
       "    <tr>\n",
       "      <th>1146</th>\n",
       "      <td>naive-break_skip-1147</td>\n",
       "      <td>1335</td>\n",
       "      <td>0</td>\n",
       "      <td>149.85</td>\n",
       "      <td>naive</td>\n",
       "      <td>break_skip</td>\n",
       "      <td>1147</td>\n",
       "      <td>1416</td>\n",
       "      <td>2.497500</td>\n",
       "      <td>0.041625</td>\n",
       "    </tr>\n",
       "    <tr>\n",
       "      <th>1147</th>\n",
       "      <td>naive-break_skip-1148</td>\n",
       "      <td>1012</td>\n",
       "      <td>0</td>\n",
       "      <td>64.16</td>\n",
       "      <td>naive</td>\n",
       "      <td>break_skip</td>\n",
       "      <td>1148</td>\n",
       "      <td>1416</td>\n",
       "      <td>1.069333</td>\n",
       "      <td>0.017822</td>\n",
       "    </tr>\n",
       "    <tr>\n",
       "      <th>1148</th>\n",
       "      <td>naive-break_skip-1149</td>\n",
       "      <td>1030</td>\n",
       "      <td>0</td>\n",
       "      <td>47.68</td>\n",
       "      <td>naive</td>\n",
       "      <td>break_skip</td>\n",
       "      <td>1149</td>\n",
       "      <td>1416</td>\n",
       "      <td>0.794667</td>\n",
       "      <td>0.013244</td>\n",
       "    </tr>\n",
       "    <tr>\n",
       "      <th>1149</th>\n",
       "      <td>naive-break_skip-1150</td>\n",
       "      <td>1240</td>\n",
       "      <td>0</td>\n",
       "      <td>4.56</td>\n",
       "      <td>naive</td>\n",
       "      <td>break_skip</td>\n",
       "      <td>1150</td>\n",
       "      <td>1416</td>\n",
       "      <td>0.076000</td>\n",
       "      <td>0.001267</td>\n",
       "    </tr>\n",
       "    <tr>\n",
       "      <th>1150</th>\n",
       "      <td>naive-break_skip-1151</td>\n",
       "      <td>1255</td>\n",
       "      <td>0</td>\n",
       "      <td>4.31</td>\n",
       "      <td>naive</td>\n",
       "      <td>break_skip</td>\n",
       "      <td>1151</td>\n",
       "      <td>1416</td>\n",
       "      <td>0.071833</td>\n",
       "      <td>0.001197</td>\n",
       "    </tr>\n",
       "    <tr>\n",
       "      <th>1151</th>\n",
       "      <td>naive-break_skip-1152</td>\n",
       "      <td>1140</td>\n",
       "      <td>0</td>\n",
       "      <td>2.00</td>\n",
       "      <td>naive</td>\n",
       "      <td>break_skip</td>\n",
       "      <td>1152</td>\n",
       "      <td>1416</td>\n",
       "      <td>0.033333</td>\n",
       "      <td>0.000556</td>\n",
       "    </tr>\n",
       "    <tr>\n",
       "      <th>1152</th>\n",
       "      <td>naive-break_skip-1153</td>\n",
       "      <td>1363</td>\n",
       "      <td>0</td>\n",
       "      <td>8.31</td>\n",
       "      <td>naive</td>\n",
       "      <td>break_skip</td>\n",
       "      <td>1153</td>\n",
       "      <td>1416</td>\n",
       "      <td>0.138500</td>\n",
       "      <td>0.002308</td>\n",
       "    </tr>\n",
       "    <tr>\n",
       "      <th>1153</th>\n",
       "      <td>naive-break_skip-1154</td>\n",
       "      <td>1206</td>\n",
       "      <td>0</td>\n",
       "      <td>42.44</td>\n",
       "      <td>naive</td>\n",
       "      <td>break_skip</td>\n",
       "      <td>1154</td>\n",
       "      <td>1416</td>\n",
       "      <td>0.707333</td>\n",
       "      <td>0.011789</td>\n",
       "    </tr>\n",
       "    <tr>\n",
       "      <th>1155</th>\n",
       "      <td>naive-break_skip-1156</td>\n",
       "      <td>1351</td>\n",
       "      <td>0</td>\n",
       "      <td>27.63</td>\n",
       "      <td>naive</td>\n",
       "      <td>break_skip</td>\n",
       "      <td>1156</td>\n",
       "      <td>1416</td>\n",
       "      <td>0.460500</td>\n",
       "      <td>0.007675</td>\n",
       "    </tr>\n",
       "    <tr>\n",
       "      <th>1156</th>\n",
       "      <td>naive-break_skip-1157</td>\n",
       "      <td>1315</td>\n",
       "      <td>0</td>\n",
       "      <td>9.65</td>\n",
       "      <td>naive</td>\n",
       "      <td>break_skip</td>\n",
       "      <td>1157</td>\n",
       "      <td>1416</td>\n",
       "      <td>0.160833</td>\n",
       "      <td>0.002681</td>\n",
       "    </tr>\n",
       "    <tr>\n",
       "      <th>1157</th>\n",
       "      <td>naive-break_skip-1158</td>\n",
       "      <td>1356</td>\n",
       "      <td>0</td>\n",
       "      <td>76.08</td>\n",
       "      <td>naive</td>\n",
       "      <td>break_skip</td>\n",
       "      <td>1158</td>\n",
       "      <td>1416</td>\n",
       "      <td>1.268000</td>\n",
       "      <td>0.021133</td>\n",
       "    </tr>\n",
       "    <tr>\n",
       "      <th>1158</th>\n",
       "      <td>naive-break_skip-1159</td>\n",
       "      <td>1352</td>\n",
       "      <td>0</td>\n",
       "      <td>24.37</td>\n",
       "      <td>naive</td>\n",
       "      <td>break_skip</td>\n",
       "      <td>1159</td>\n",
       "      <td>1416</td>\n",
       "      <td>0.406167</td>\n",
       "      <td>0.006769</td>\n",
       "    </tr>\n",
       "    <tr>\n",
       "      <th>1159</th>\n",
       "      <td>naive-break_skip-1160</td>\n",
       "      <td>94</td>\n",
       "      <td>0</td>\n",
       "      <td>2.95</td>\n",
       "      <td>naive</td>\n",
       "      <td>break_skip</td>\n",
       "      <td>1160</td>\n",
       "      <td>1416</td>\n",
       "      <td>0.049167</td>\n",
       "      <td>0.000819</td>\n",
       "    </tr>\n",
       "    <tr>\n",
       "      <th>1163</th>\n",
       "      <td>naive-break_skip-1164</td>\n",
       "      <td>919</td>\n",
       "      <td>0</td>\n",
       "      <td>6.81</td>\n",
       "      <td>naive</td>\n",
       "      <td>break_skip</td>\n",
       "      <td>1164</td>\n",
       "      <td>1416</td>\n",
       "      <td>0.113500</td>\n",
       "      <td>0.001892</td>\n",
       "    </tr>\n",
       "    <tr>\n",
       "      <th>1164</th>\n",
       "      <td>naive-break_skip-1165</td>\n",
       "      <td>812</td>\n",
       "      <td>0</td>\n",
       "      <td>3.69</td>\n",
       "      <td>naive</td>\n",
       "      <td>break_skip</td>\n",
       "      <td>1165</td>\n",
       "      <td>1416</td>\n",
       "      <td>0.061500</td>\n",
       "      <td>0.001025</td>\n",
       "    </tr>\n",
       "    <tr>\n",
       "      <th>1173</th>\n",
       "      <td>naive-break_skip-1174</td>\n",
       "      <td>860</td>\n",
       "      <td>0</td>\n",
       "      <td>2.95</td>\n",
       "      <td>naive</td>\n",
       "      <td>break_skip</td>\n",
       "      <td>1174</td>\n",
       "      <td>1416</td>\n",
       "      <td>0.049167</td>\n",
       "      <td>0.000819</td>\n",
       "    </tr>\n",
       "    <tr>\n",
       "      <th>1174</th>\n",
       "      <td>naive-break_skip-1175</td>\n",
       "      <td>1415</td>\n",
       "      <td>0</td>\n",
       "      <td>3.46</td>\n",
       "      <td>naive</td>\n",
       "      <td>break_skip</td>\n",
       "      <td>1175</td>\n",
       "      <td>1416</td>\n",
       "      <td>0.057667</td>\n",
       "      <td>0.000961</td>\n",
       "    </tr>\n",
       "    <tr>\n",
       "      <th>1183</th>\n",
       "      <td>naive-break_skip-1184</td>\n",
       "      <td>185</td>\n",
       "      <td>0</td>\n",
       "      <td>11.88</td>\n",
       "      <td>naive</td>\n",
       "      <td>break_skip</td>\n",
       "      <td>1184</td>\n",
       "      <td>1416</td>\n",
       "      <td>0.198000</td>\n",
       "      <td>0.003300</td>\n",
       "    </tr>\n",
       "    <tr>\n",
       "      <th>1184</th>\n",
       "      <td>naive-break_skip-1185</td>\n",
       "      <td>1271</td>\n",
       "      <td>0</td>\n",
       "      <td>3.69</td>\n",
       "      <td>naive</td>\n",
       "      <td>break_skip</td>\n",
       "      <td>1185</td>\n",
       "      <td>1416</td>\n",
       "      <td>0.061500</td>\n",
       "      <td>0.001025</td>\n",
       "    </tr>\n",
       "    <tr>\n",
       "      <th>1189</th>\n",
       "      <td>naive-break_skip-1190</td>\n",
       "      <td>1353</td>\n",
       "      <td>0</td>\n",
       "      <td>24.99</td>\n",
       "      <td>naive</td>\n",
       "      <td>break_skip</td>\n",
       "      <td>1190</td>\n",
       "      <td>1416</td>\n",
       "      <td>0.416500</td>\n",
       "      <td>0.006942</td>\n",
       "    </tr>\n",
       "    <tr>\n",
       "      <th>1190</th>\n",
       "      <td>naive-break_skip-1191</td>\n",
       "      <td>1347</td>\n",
       "      <td>0</td>\n",
       "      <td>100.06</td>\n",
       "      <td>naive</td>\n",
       "      <td>break_skip</td>\n",
       "      <td>1191</td>\n",
       "      <td>1416</td>\n",
       "      <td>1.667667</td>\n",
       "      <td>0.027794</td>\n",
       "    </tr>\n",
       "    <tr>\n",
       "      <th>1191</th>\n",
       "      <td>naive-break_skip-1192</td>\n",
       "      <td>1366</td>\n",
       "      <td>0</td>\n",
       "      <td>11.88</td>\n",
       "      <td>naive</td>\n",
       "      <td>break_skip</td>\n",
       "      <td>1192</td>\n",
       "      <td>1416</td>\n",
       "      <td>0.198000</td>\n",
       "      <td>0.003300</td>\n",
       "    </tr>\n",
       "    <tr>\n",
       "      <th>1193</th>\n",
       "      <td>naive-break_skip-1194</td>\n",
       "      <td>1365</td>\n",
       "      <td>0</td>\n",
       "      <td>29.20</td>\n",
       "      <td>naive</td>\n",
       "      <td>break_skip</td>\n",
       "      <td>1194</td>\n",
       "      <td>1416</td>\n",
       "      <td>0.486667</td>\n",
       "      <td>0.008111</td>\n",
       "    </tr>\n",
       "    <tr>\n",
       "      <th>1194</th>\n",
       "      <td>naive-break_skip-1195</td>\n",
       "      <td>1254</td>\n",
       "      <td>0</td>\n",
       "      <td>3.69</td>\n",
       "      <td>naive</td>\n",
       "      <td>break_skip</td>\n",
       "      <td>1195</td>\n",
       "      <td>1416</td>\n",
       "      <td>0.061500</td>\n",
       "      <td>0.001025</td>\n",
       "    </tr>\n",
       "    <tr>\n",
       "      <th>1195</th>\n",
       "      <td>naive-break_skip-1196</td>\n",
       "      <td>1403</td>\n",
       "      <td>0</td>\n",
       "      <td>235.32</td>\n",
       "      <td>naive</td>\n",
       "      <td>break_skip</td>\n",
       "      <td>1196</td>\n",
       "      <td>1416</td>\n",
       "      <td>3.922000</td>\n",
       "      <td>0.065367</td>\n",
       "    </tr>\n",
       "    <tr>\n",
       "      <th>1199</th>\n",
       "      <td>naive-break_skip-1200</td>\n",
       "      <td>1388</td>\n",
       "      <td>0</td>\n",
       "      <td>12.40</td>\n",
       "      <td>naive</td>\n",
       "      <td>break_skip</td>\n",
       "      <td>1200</td>\n",
       "      <td>1416</td>\n",
       "      <td>0.206667</td>\n",
       "      <td>0.003444</td>\n",
       "    </tr>\n",
       "  </tbody>\n",
       "</table>\n",
       "<p>537 rows × 10 columns</p>\n",
       "</div>"
      ],
      "text/plain": [
       "             simulation_key  missing_plan_cnt_first_delay  \\\n",
       "29      naive-break_skip-30                          1368   \n",
       "30      naive-break_skip-31                          1380   \n",
       "34      naive-break_skip-35                          1355   \n",
       "35      naive-break_skip-36                          1372   \n",
       "39      naive-break_skip-40                          1351   \n",
       "40      naive-break_skip-41                          1375   \n",
       "41      naive-break_skip-42                          1353   \n",
       "42      naive-break_skip-43                          1254   \n",
       "43      naive-break_skip-44                          1357   \n",
       "44      naive-break_skip-45                          1334   \n",
       "45      naive-break_skip-46                          1368   \n",
       "46      naive-break_skip-47                          1370   \n",
       "47      naive-break_skip-48                          1332   \n",
       "48      naive-break_skip-49                          1376   \n",
       "49      naive-break_skip-50                          1334   \n",
       "50      naive-break_skip-51                          1350   \n",
       "51      naive-break_skip-52                          1362   \n",
       "52      naive-break_skip-53                          1282   \n",
       "53      naive-break_skip-54                           863   \n",
       "54      naive-break_skip-55                          1334   \n",
       "55      naive-break_skip-56                          1348   \n",
       "56      naive-break_skip-57                          1415   \n",
       "57      naive-break_skip-58                           928   \n",
       "58      naive-break_skip-59                          1224   \n",
       "61      naive-break_skip-62                          1415   \n",
       "62      naive-break_skip-63                            42   \n",
       "64      naive-break_skip-65                           667   \n",
       "65      naive-break_skip-66                          1316   \n",
       "66      naive-break_skip-67                          1257   \n",
       "68      naive-break_skip-69                          1024   \n",
       "...                     ...                           ...   \n",
       "1142  naive-break_skip-1143                          1354   \n",
       "1143  naive-break_skip-1144                          1377   \n",
       "1144  naive-break_skip-1145                          1370   \n",
       "1145  naive-break_skip-1146                          1371   \n",
       "1146  naive-break_skip-1147                          1335   \n",
       "1147  naive-break_skip-1148                          1012   \n",
       "1148  naive-break_skip-1149                          1030   \n",
       "1149  naive-break_skip-1150                          1240   \n",
       "1150  naive-break_skip-1151                          1255   \n",
       "1151  naive-break_skip-1152                          1140   \n",
       "1152  naive-break_skip-1153                          1363   \n",
       "1153  naive-break_skip-1154                          1206   \n",
       "1155  naive-break_skip-1156                          1351   \n",
       "1156  naive-break_skip-1157                          1315   \n",
       "1157  naive-break_skip-1158                          1356   \n",
       "1158  naive-break_skip-1159                          1352   \n",
       "1159  naive-break_skip-1160                            94   \n",
       "1163  naive-break_skip-1164                           919   \n",
       "1164  naive-break_skip-1165                           812   \n",
       "1173  naive-break_skip-1174                           860   \n",
       "1174  naive-break_skip-1175                          1415   \n",
       "1183  naive-break_skip-1184                           185   \n",
       "1184  naive-break_skip-1185                          1271   \n",
       "1189  naive-break_skip-1190                          1353   \n",
       "1190  naive-break_skip-1191                          1347   \n",
       "1191  naive-break_skip-1192                          1366   \n",
       "1193  naive-break_skip-1194                          1365   \n",
       "1194  naive-break_skip-1195                          1254   \n",
       "1195  naive-break_skip-1196                          1403   \n",
       "1199  naive-break_skip-1200                          1388   \n",
       "\n",
       "      missing_plan_cnt_planned_time  whole_process_delay controller_name  \\\n",
       "29                                0               184.76           naive   \n",
       "30                                0               179.92           naive   \n",
       "34                                0                45.09           naive   \n",
       "35                                0               280.17           naive   \n",
       "39                                0               205.43           naive   \n",
       "40                                0               137.47           naive   \n",
       "41                                0                97.89           naive   \n",
       "42                                0               241.60           naive   \n",
       "43                                0               164.03           naive   \n",
       "44                                0                32.37           naive   \n",
       "45                                0               209.12           naive   \n",
       "46                                0               133.50           naive   \n",
       "47                                0               127.80           naive   \n",
       "48                                0               179.78           naive   \n",
       "49                                0                23.75           naive   \n",
       "50                                0                26.85           naive   \n",
       "51                                0                15.64           naive   \n",
       "52                                0                21.43           naive   \n",
       "53                                0                20.97           naive   \n",
       "54                                0                12.95           naive   \n",
       "55                                0                10.31           naive   \n",
       "56                                0               173.84           naive   \n",
       "57                                0                 9.40           naive   \n",
       "58                                0                37.75           naive   \n",
       "61                                0                 7.71           naive   \n",
       "62                                0                 4.31           naive   \n",
       "64                                0                 5.20           naive   \n",
       "65                                0                 4.56           naive   \n",
       "66                                0                12.60           naive   \n",
       "68                                0                 2.95           naive   \n",
       "...                             ...                  ...             ...   \n",
       "1142                              0                64.69           naive   \n",
       "1143                              0               132.66           naive   \n",
       "1144                              0               140.57           naive   \n",
       "1145                              0                86.08           naive   \n",
       "1146                              0               149.85           naive   \n",
       "1147                              0                64.16           naive   \n",
       "1148                              0                47.68           naive   \n",
       "1149                              0                 4.56           naive   \n",
       "1150                              0                 4.31           naive   \n",
       "1151                              0                 2.00           naive   \n",
       "1152                              0                 8.31           naive   \n",
       "1153                              0                42.44           naive   \n",
       "1155                              0                27.63           naive   \n",
       "1156                              0                 9.65           naive   \n",
       "1157                              0                76.08           naive   \n",
       "1158                              0                24.37           naive   \n",
       "1159                              0                 2.95           naive   \n",
       "1163                              0                 6.81           naive   \n",
       "1164                              0                 3.69           naive   \n",
       "1173                              0                 2.95           naive   \n",
       "1174                              0                 3.46           naive   \n",
       "1183                              0                11.88           naive   \n",
       "1184                              0                 3.69           naive   \n",
       "1189                              0                24.99           naive   \n",
       "1190                              0               100.06           naive   \n",
       "1191                              0                11.88           naive   \n",
       "1193                              0                29.20           naive   \n",
       "1194                              0                 3.69           naive   \n",
       "1195                              0               235.32           naive   \n",
       "1199                              0                12.40           naive   \n",
       "\n",
       "     break_strategy  simulation_index  produced_in_planned_time  \\\n",
       "29       break_skip                30                      1416   \n",
       "30       break_skip                31                      1416   \n",
       "34       break_skip                35                      1416   \n",
       "35       break_skip                36                      1416   \n",
       "39       break_skip                40                      1416   \n",
       "40       break_skip                41                      1416   \n",
       "41       break_skip                42                      1416   \n",
       "42       break_skip                43                      1416   \n",
       "43       break_skip                44                      1416   \n",
       "44       break_skip                45                      1416   \n",
       "45       break_skip                46                      1416   \n",
       "46       break_skip                47                      1416   \n",
       "47       break_skip                48                      1416   \n",
       "48       break_skip                49                      1416   \n",
       "49       break_skip                50                      1416   \n",
       "50       break_skip                51                      1416   \n",
       "51       break_skip                52                      1416   \n",
       "52       break_skip                53                      1416   \n",
       "53       break_skip                54                      1416   \n",
       "54       break_skip                55                      1416   \n",
       "55       break_skip                56                      1416   \n",
       "56       break_skip                57                      1416   \n",
       "57       break_skip                58                      1416   \n",
       "58       break_skip                59                      1416   \n",
       "61       break_skip                62                      1416   \n",
       "62       break_skip                63                      1416   \n",
       "64       break_skip                65                      1416   \n",
       "65       break_skip                66                      1416   \n",
       "66       break_skip                67                      1416   \n",
       "68       break_skip                69                      1416   \n",
       "...             ...               ...                       ...   \n",
       "1142     break_skip              1143                      1416   \n",
       "1143     break_skip              1144                      1416   \n",
       "1144     break_skip              1145                      1416   \n",
       "1145     break_skip              1146                      1416   \n",
       "1146     break_skip              1147                      1416   \n",
       "1147     break_skip              1148                      1416   \n",
       "1148     break_skip              1149                      1416   \n",
       "1149     break_skip              1150                      1416   \n",
       "1150     break_skip              1151                      1416   \n",
       "1151     break_skip              1152                      1416   \n",
       "1152     break_skip              1153                      1416   \n",
       "1153     break_skip              1154                      1416   \n",
       "1155     break_skip              1156                      1416   \n",
       "1156     break_skip              1157                      1416   \n",
       "1157     break_skip              1158                      1416   \n",
       "1158     break_skip              1159                      1416   \n",
       "1159     break_skip              1160                      1416   \n",
       "1163     break_skip              1164                      1416   \n",
       "1164     break_skip              1165                      1416   \n",
       "1173     break_skip              1174                      1416   \n",
       "1174     break_skip              1175                      1416   \n",
       "1183     break_skip              1184                      1416   \n",
       "1184     break_skip              1185                      1416   \n",
       "1189     break_skip              1190                      1416   \n",
       "1190     break_skip              1191                      1416   \n",
       "1191     break_skip              1192                      1416   \n",
       "1193     break_skip              1194                      1416   \n",
       "1194     break_skip              1195                      1416   \n",
       "1195     break_skip              1196                      1416   \n",
       "1199     break_skip              1200                      1416   \n",
       "\n",
       "      process_delay_minutes  process_delay_hours  \n",
       "29                 3.079333             0.051322  \n",
       "30                 2.998667             0.049978  \n",
       "34                 0.751500             0.012525  \n",
       "35                 4.669500             0.077825  \n",
       "39                 3.423833             0.057064  \n",
       "40                 2.291167             0.038186  \n",
       "41                 1.631500             0.027192  \n",
       "42                 4.026667             0.067111  \n",
       "43                 2.733833             0.045564  \n",
       "44                 0.539500             0.008992  \n",
       "45                 3.485333             0.058089  \n",
       "46                 2.225000             0.037083  \n",
       "47                 2.130000             0.035500  \n",
       "48                 2.996333             0.049939  \n",
       "49                 0.395833             0.006597  \n",
       "50                 0.447500             0.007458  \n",
       "51                 0.260667             0.004344  \n",
       "52                 0.357167             0.005953  \n",
       "53                 0.349500             0.005825  \n",
       "54                 0.215833             0.003597  \n",
       "55                 0.171833             0.002864  \n",
       "56                 2.897333             0.048289  \n",
       "57                 0.156667             0.002611  \n",
       "58                 0.629167             0.010486  \n",
       "61                 0.128500             0.002142  \n",
       "62                 0.071833             0.001197  \n",
       "64                 0.086667             0.001444  \n",
       "65                 0.076000             0.001267  \n",
       "66                 0.210000             0.003500  \n",
       "68                 0.049167             0.000819  \n",
       "...                     ...                  ...  \n",
       "1142               1.078167             0.017969  \n",
       "1143               2.211000             0.036850  \n",
       "1144               2.342833             0.039047  \n",
       "1145               1.434667             0.023911  \n",
       "1146               2.497500             0.041625  \n",
       "1147               1.069333             0.017822  \n",
       "1148               0.794667             0.013244  \n",
       "1149               0.076000             0.001267  \n",
       "1150               0.071833             0.001197  \n",
       "1151               0.033333             0.000556  \n",
       "1152               0.138500             0.002308  \n",
       "1153               0.707333             0.011789  \n",
       "1155               0.460500             0.007675  \n",
       "1156               0.160833             0.002681  \n",
       "1157               1.268000             0.021133  \n",
       "1158               0.406167             0.006769  \n",
       "1159               0.049167             0.000819  \n",
       "1163               0.113500             0.001892  \n",
       "1164               0.061500             0.001025  \n",
       "1173               0.049167             0.000819  \n",
       "1174               0.057667             0.000961  \n",
       "1183               0.198000             0.003300  \n",
       "1184               0.061500             0.001025  \n",
       "1189               0.416500             0.006942  \n",
       "1190               1.667667             0.027794  \n",
       "1191               0.198000             0.003300  \n",
       "1193               0.486667             0.008111  \n",
       "1194               0.061500             0.001025  \n",
       "1195               3.922000             0.065367  \n",
       "1199               0.206667             0.003444  \n",
       "\n",
       "[537 rows x 10 columns]"
      ]
     },
     "execution_count": 48,
     "metadata": {},
     "output_type": "execute_result"
    }
   ],
   "source": [
    "df[(df.whole_process_delay != 0) & (df.missing_plan_cnt_planned_time == 0)]"
   ]
  },
  {
   "cell_type": "code",
   "execution_count": 45,
   "metadata": {},
   "outputs": [
    {
     "data": {
      "text/html": [
       "<div>\n",
       "<style scoped>\n",
       "    .dataframe tbody tr th:only-of-type {\n",
       "        vertical-align: middle;\n",
       "    }\n",
       "\n",
       "    .dataframe tbody tr th {\n",
       "        vertical-align: top;\n",
       "    }\n",
       "\n",
       "    .dataframe thead th {\n",
       "        text-align: right;\n",
       "    }\n",
       "</style>\n",
       "<table border=\"1\" class=\"dataframe\">\n",
       "  <thead>\n",
       "    <tr style=\"text-align: right;\">\n",
       "      <th></th>\n",
       "      <th>produced_in_planned_time</th>\n",
       "      <th>process_delay_minutes</th>\n",
       "    </tr>\n",
       "  </thead>\n",
       "  <tbody>\n",
       "    <tr>\n",
       "      <th>count</th>\n",
       "      <td>1200.000000</td>\n",
       "      <td>1200.000000</td>\n",
       "    </tr>\n",
       "    <tr>\n",
       "      <th>mean</th>\n",
       "      <td>1391.874167</td>\n",
       "      <td>29.902741</td>\n",
       "    </tr>\n",
       "    <tr>\n",
       "      <th>std</th>\n",
       "      <td>75.428661</td>\n",
       "      <td>91.140254</td>\n",
       "    </tr>\n",
       "    <tr>\n",
       "      <th>min</th>\n",
       "      <td>1073.000000</td>\n",
       "      <td>0.000000</td>\n",
       "    </tr>\n",
       "    <tr>\n",
       "      <th>25%</th>\n",
       "      <td>1411.000000</td>\n",
       "      <td>0.123000</td>\n",
       "    </tr>\n",
       "    <tr>\n",
       "      <th>50%</th>\n",
       "      <td>1416.000000</td>\n",
       "      <td>1.834333</td>\n",
       "    </tr>\n",
       "    <tr>\n",
       "      <th>75%</th>\n",
       "      <td>1416.000000</td>\n",
       "      <td>8.410417</td>\n",
       "    </tr>\n",
       "    <tr>\n",
       "      <th>max</th>\n",
       "      <td>1416.000000</td>\n",
       "      <td>430.107000</td>\n",
       "    </tr>\n",
       "  </tbody>\n",
       "</table>\n",
       "</div>"
      ],
      "text/plain": [
       "       produced_in_planned_time  process_delay_minutes\n",
       "count               1200.000000            1200.000000\n",
       "mean                1391.874167              29.902741\n",
       "std                   75.428661              91.140254\n",
       "min                 1073.000000               0.000000\n",
       "25%                 1411.000000               0.123000\n",
       "50%                 1416.000000               1.834333\n",
       "75%                 1416.000000               8.410417\n",
       "max                 1416.000000             430.107000"
      ]
     },
     "execution_count": 45,
     "metadata": {},
     "output_type": "execute_result"
    }
   ],
   "source": [
    "df[['produced_in_planned_time', 'process_delay_minutes']].describe()"
   ]
  },
  {
   "cell_type": "code",
   "execution_count": 43,
   "metadata": {},
   "outputs": [
    {
     "data": {
      "text/plain": [
       "produced_in_planned_time    1391.874167\n",
       "process_delay_minutes         29.902741\n",
       "dtype: float64"
      ]
     },
     "execution_count": 43,
     "metadata": {},
     "output_type": "execute_result"
    }
   ],
   "source": [
    "df[['produced_in_planned_time', 'process_delay_minutes']].mean()"
   ]
  },
  {
   "cell_type": "markdown",
   "metadata": {},
   "source": [
    "| Experiment | Plánovaný počet kusů | Procentuální počet splněných plánů | Procentuální počet plánů bez zpoždění | Průměrný počet vyprodukovaných kusů za plánované období 1-|\n",
    "| --- | --- | --- | --- | --- |\n",
    "| Naivní bez přeskládávání | 1416 | .608 | 0.161 | 1391.87 | 29.90"
   ]
  },
  {
   "cell_type": "markdown",
   "metadata": {},
   "source": [
    "###  Plan je 1416"
   ]
  },
  {
   "cell_type": "code",
   "execution_count": 37,
   "metadata": {},
   "outputs": [
    {
     "data": {
      "text/plain": [
       "count    1200.000000\n",
       "mean     1391.874167\n",
       "std        75.428661\n",
       "min      1073.000000\n",
       "0%       1073.000000\n",
       "10%      1390.000000\n",
       "20%      1408.000000\n",
       "30%      1413.000000\n",
       "40%      1416.000000\n",
       "50%      1416.000000\n",
       "60%      1416.000000\n",
       "70%      1416.000000\n",
       "80%      1416.000000\n",
       "90%      1416.000000\n",
       "100%     1416.000000\n",
       "max      1416.000000\n",
       "Name: produced_in_planned_time, dtype: float64"
      ]
     },
     "execution_count": 37,
     "metadata": {},
     "output_type": "execute_result"
    }
   ],
   "source": [
    "df.produced_in_planned_time.describe(percentiles=[0, .1, .2, .3, .4, .5, .6, .7, .8, .9, 1])"
   ]
  },
  {
   "cell_type": "code",
   "execution_count": 34,
   "metadata": {},
   "outputs": [
    {
     "data": {
      "application/vnd.plotly.v1+json": {
       "config": {
        "plotlyServerURL": "https://plot.ly"
       },
       "data": [
        {
         "alignmentgroup": "True",
         "hoverlabel": {
          "namelength": 0
         },
         "hovertemplate": "controller_name=naive<br>produced_in_planned_time=%{y}",
         "legendgroup": "controller_name=naive",
         "marker": {
          "color": "#636efa"
         },
         "name": "controller_name=naive",
         "notched": false,
         "offsetgroup": "controller_name=naive",
         "orientation": "v",
         "showlegend": true,
         "type": "box",
         "x0": " ",
         "xaxis": "x",
         "y": [
          1416,
          1416,
          1074,
          1075,
          1126,
          1073,
          1125,
          1073,
          1073,
          1404,
          1373,
          1393,
          1416,
          1403,
          1405,
          1405,
          1389,
          1362,
          1376,
          1410,
          1406,
          1413,
          1408,
          1416,
          1410,
          1406,
          1413,
          1408,
          1407,
          1416,
          1416,
          1415,
          1413,
          1413,
          1416,
          1416,
          1412,
          1415,
          1414,
          1416,
          1416,
          1416,
          1416,
          1416,
          1416,
          1416,
          1416,
          1416,
          1416,
          1416,
          1416,
          1416,
          1416,
          1416,
          1416,
          1416,
          1416,
          1416,
          1416,
          1416,
          1416,
          1416,
          1416,
          1416,
          1416,
          1416,
          1416,
          1412,
          1416,
          1416,
          1416,
          1416,
          1416,
          1416,
          1416,
          1416,
          1416,
          1416,
          1410,
          1416,
          1416,
          1416,
          1416,
          1416,
          1416,
          1416,
          1416,
          1416,
          1416,
          1405,
          1416,
          1416,
          1416,
          1416,
          1416,
          1416,
          1416,
          1416,
          1416,
          1416,
          1413,
          1416,
          1416,
          1416,
          1416,
          1416,
          1416,
          1416,
          1416,
          1073,
          1125,
          1416,
          1416,
          1125,
          1126,
          1073,
          1074,
          1074,
          1073,
          1386,
          1382,
          1400,
          1395,
          1409,
          1409,
          1385,
          1396,
          1394,
          1381,
          1407,
          1406,
          1411,
          1405,
          1410,
          1416,
          1403,
          1408,
          1402,
          1408,
          1405,
          1413,
          1412,
          1414,
          1410,
          1412,
          1416,
          1415,
          1416,
          1411,
          1416,
          1416,
          1416,
          1416,
          1416,
          1416,
          1416,
          1416,
          1416,
          1416,
          1416,
          1416,
          1416,
          1416,
          1416,
          1416,
          1416,
          1416,
          1416,
          1416,
          1416,
          1416,
          1416,
          1416,
          1416,
          1416,
          1416,
          1416,
          1416,
          1415,
          1416,
          1416,
          1416,
          1416,
          1416,
          1416,
          1416,
          1416,
          1416,
          1416,
          1400,
          1416,
          1416,
          1416,
          1416,
          1416,
          1416,
          1416,
          1416,
          1416,
          1416,
          1385,
          1416,
          1416,
          1416,
          1416,
          1416,
          1416,
          1416,
          1416,
          1416,
          1416,
          1413,
          1416,
          1416,
          1416,
          1416,
          1416,
          1416,
          1416,
          1073,
          1074,
          1073,
          1416,
          1360,
          1073,
          1073,
          1073,
          1125,
          1073,
          1400,
          1391,
          1391,
          1386,
          1399,
          1416,
          1381,
          1416,
          1416,
          1413,
          1416,
          1416,
          1416,
          1416,
          1416,
          1416,
          1416,
          1416,
          1416,
          1416,
          1416,
          1416,
          1416,
          1416,
          1416,
          1416,
          1416,
          1416,
          1416,
          1416,
          1416,
          1416,
          1416,
          1416,
          1416,
          1416,
          1416,
          1415,
          1416,
          1416,
          1414,
          1415,
          1416,
          1416,
          1413,
          1416,
          1416,
          1416,
          1415,
          1415,
          1411,
          1416,
          1416,
          1412,
          1414,
          1411,
          1416,
          1415,
          1414,
          1411,
          1415,
          1411,
          1415,
          1399,
          1414,
          1414,
          1414,
          1411,
          1411,
          1407,
          1407,
          1399,
          1406,
          1403,
          1408,
          1411,
          1398,
          1402,
          1408,
          1376,
          1389,
          1399,
          1403,
          1413,
          1379,
          1375,
          1395,
          1392,
          1383,
          1411,
          1415,
          1413,
          1411,
          1413,
          1414,
          1414,
          1412,
          1413,
          1413,
          1413,
          1267,
          1361,
          1196,
          1360,
          1416,
          1197,
          1266,
          1359,
          1267,
          1416,
          1416,
          1404,
          1416,
          1413,
          1416,
          1416,
          1416,
          1416,
          1416,
          1406,
          1416,
          1416,
          1416,
          1416,
          1416,
          1416,
          1416,
          1416,
          1416,
          1416,
          1416,
          1416,
          1416,
          1416,
          1416,
          1416,
          1416,
          1416,
          1416,
          1416,
          1416,
          1416,
          1416,
          1416,
          1416,
          1416,
          1416,
          1416,
          1415,
          1416,
          1416,
          1416,
          1416,
          1416,
          1416,
          1413,
          1416,
          1416,
          1416,
          1414,
          1414,
          1416,
          1416,
          1416,
          1414,
          1409,
          1416,
          1414,
          1416,
          1416,
          1407,
          1413,
          1416,
          1415,
          1414,
          1416,
          1410,
          1415,
          1409,
          1413,
          1403,
          1405,
          1403,
          1416,
          1403,
          1416,
          1412,
          1416,
          1410,
          1406,
          1410,
          1409,
          1390,
          1401,
          1411,
          1409,
          1403,
          1393,
          1414,
          1410,
          1414,
          1414,
          1413,
          1413,
          1413,
          1414,
          1415,
          1416,
          1414,
          1415,
          1195,
          1125,
          1265,
          1127,
          1266,
          1416,
          1266,
          1127,
          1360,
          1416,
          1416,
          1414,
          1414,
          1415,
          1408,
          1416,
          1416,
          1416,
          1415,
          1416,
          1416,
          1416,
          1416,
          1416,
          1416,
          1416,
          1416,
          1416,
          1416,
          1416,
          1416,
          1416,
          1416,
          1416,
          1416,
          1416,
          1416,
          1416,
          1416,
          1416,
          1416,
          1416,
          1416,
          1416,
          1416,
          1416,
          1416,
          1416,
          1416,
          1416,
          1416,
          1416,
          1416,
          1416,
          1416,
          1416,
          1416,
          1416,
          1416,
          1416,
          1408,
          1416,
          1416,
          1416,
          1416,
          1416,
          1415,
          1416,
          1414,
          1416,
          1415,
          1411,
          1407,
          1416,
          1415,
          1414,
          1416,
          1416,
          1411,
          1412,
          1415,
          1412,
          1403,
          1416,
          1414,
          1416,
          1409,
          1413,
          1413,
          1415,
          1412,
          1403,
          1414,
          1399,
          1405,
          1408,
          1413,
          1416,
          1413,
          1414,
          1416,
          1414,
          1416,
          1416,
          1412,
          1412,
          1416,
          1416,
          1413,
          1414,
          1197,
          1266,
          1197,
          1198,
          1196,
          1264,
          1416,
          1128,
          1127,
          1128,
          1409,
          1402,
          1401,
          1411,
          1411,
          1407,
          1413,
          1416,
          1409,
          1405,
          1416,
          1416,
          1416,
          1416,
          1416,
          1416,
          1416,
          1416,
          1416,
          1416,
          1416,
          1416,
          1416,
          1416,
          1416,
          1416,
          1416,
          1416,
          1416,
          1416,
          1416,
          1416,
          1416,
          1416,
          1416,
          1416,
          1416,
          1416,
          1416,
          1416,
          1412,
          1416,
          1416,
          1416,
          1416,
          1416,
          1416,
          1416,
          1416,
          1416,
          1416,
          1412,
          1416,
          1416,
          1416,
          1416,
          1416,
          1416,
          1416,
          1416,
          1416,
          1414,
          1412,
          1416,
          1416,
          1416,
          1416,
          1416,
          1416,
          1416,
          1412,
          1414,
          1416,
          1372,
          1416,
          1414,
          1414,
          1416,
          1410,
          1413,
          1409,
          1405,
          1388,
          1400,
          1396,
          1408,
          1413,
          1397,
          1416,
          1413,
          1416,
          1416,
          1416,
          1416,
          1416,
          1412,
          1413,
          1412,
          1415,
          1416,
          1196,
          1359,
          1126,
          1127,
          1127,
          1127,
          1124,
          1416,
          1196,
          1266,
          1408,
          1401,
          1399,
          1410,
          1411,
          1400,
          1409,
          1406,
          1416,
          1406,
          1416,
          1416,
          1413,
          1416,
          1416,
          1416,
          1416,
          1410,
          1413,
          1416,
          1416,
          1416,
          1416,
          1416,
          1416,
          1416,
          1416,
          1416,
          1416,
          1416,
          1416,
          1416,
          1416,
          1416,
          1416,
          1416,
          1416,
          1416,
          1416,
          1416,
          1416,
          1413,
          1416,
          1416,
          1416,
          1416,
          1416,
          1416,
          1416,
          1416,
          1416,
          1416,
          1415,
          1416,
          1416,
          1416,
          1416,
          1416,
          1416,
          1416,
          1416,
          1416,
          1416,
          1407,
          1416,
          1416,
          1416,
          1416,
          1416,
          1416,
          1412,
          1410,
          1416,
          1416,
          1412,
          1415,
          1416,
          1416,
          1415,
          1416,
          1408,
          1416,
          1412,
          1416,
          1416,
          1399,
          1416,
          1416,
          1415,
          1416,
          1416,
          1416,
          1415,
          1416,
          1416,
          1415,
          1413,
          1413,
          1416,
          1416,
          1127,
          1127,
          1126,
          1126,
          1125,
          1127,
          1127,
          1126,
          1416,
          1125,
          1402,
          1403,
          1398,
          1405,
          1404,
          1383,
          1406,
          1406,
          1401,
          1416,
          1416,
          1416,
          1408,
          1410,
          1416,
          1415,
          1414,
          1410,
          1412,
          1415,
          1416,
          1415,
          1416,
          1416,
          1416,
          1416,
          1416,
          1416,
          1416,
          1416,
          1416,
          1416,
          1416,
          1416,
          1416,
          1416,
          1416,
          1416,
          1416,
          1416,
          1416,
          1416,
          1416,
          1416,
          1416,
          1416,
          1416,
          1416,
          1416,
          1416,
          1416,
          1416,
          1416,
          1410,
          1416,
          1416,
          1416,
          1416,
          1416,
          1416,
          1416,
          1416,
          1416,
          1416,
          1408,
          1416,
          1416,
          1416,
          1416,
          1416,
          1412,
          1416,
          1414,
          1416,
          1416,
          1403,
          1416,
          1416,
          1416,
          1416,
          1416,
          1416,
          1412,
          1416,
          1416,
          1414,
          1363,
          1416,
          1416,
          1416,
          1416,
          1416,
          1416,
          1416,
          1416,
          1416,
          1416,
          1412,
          1412,
          1416,
          1126,
          1126,
          1125,
          1127,
          1196,
          1125,
          1127,
          1126,
          1127,
          1416,
          1399,
          1399,
          1387,
          1397,
          1400,
          1394,
          1397,
          1405,
          1397,
          1401,
          1416,
          1412,
          1407,
          1404,
          1413,
          1412,
          1415,
          1416,
          1411,
          1408,
          1416,
          1416,
          1409,
          1415,
          1416,
          1415,
          1416,
          1416,
          1416,
          1416,
          1416,
          1416,
          1416,
          1416,
          1416,
          1416,
          1416,
          1416,
          1416,
          1416,
          1416,
          1416,
          1416,
          1413,
          1416,
          1416,
          1416,
          1416,
          1416,
          1416,
          1416,
          1416,
          1416,
          1416,
          1413,
          1416,
          1416,
          1416,
          1416,
          1416,
          1416,
          1416,
          1416,
          1416,
          1416,
          1409,
          1416,
          1416,
          1416,
          1416,
          1416,
          1416,
          1416,
          1416,
          1416,
          1416,
          1406,
          1416,
          1416,
          1416,
          1416,
          1416,
          1416,
          1416,
          1404,
          1416,
          1416,
          1395,
          1416,
          1416,
          1416,
          1416,
          1416,
          1416,
          1416,
          1416,
          1416,
          1416,
          1412,
          1412,
          1126,
          1073,
          1073,
          1075,
          1073,
          1125,
          1074,
          1125,
          1124,
          1125,
          1416,
          1402,
          1399,
          1393,
          1401,
          1401,
          1390,
          1399,
          1391,
          1385,
          1409,
          1416,
          1415,
          1407,
          1410,
          1413,
          1409,
          1404,
          1415,
          1408,
          1415,
          1415,
          1416,
          1416,
          1413,
          1410,
          1416,
          1416,
          1415,
          1412,
          1416,
          1416,
          1416,
          1416,
          1416,
          1416,
          1416,
          1416,
          1416,
          1416,
          1416,
          1416,
          1416,
          1416,
          1415,
          1416,
          1416,
          1416,
          1416,
          1416,
          1416,
          1416,
          1416,
          1416,
          1416,
          1412,
          1416,
          1416,
          1416,
          1416,
          1416,
          1416,
          1416,
          1416,
          1416,
          1416,
          1409,
          1416,
          1416,
          1416,
          1416,
          1416,
          1416,
          1416,
          1416,
          1416,
          1416,
          1413,
          1416,
          1416,
          1416,
          1409,
          1416,
          1414,
          1416,
          1416,
          1416,
          1416,
          1397,
          1416,
          1416,
          1416,
          1416,
          1416,
          1416,
          1416,
          1416,
          1416,
          1416,
          1413,
          1416,
          1124,
          1125,
          1073,
          1126,
          1126,
          1073,
          1075,
          1125,
          1073,
          1403,
          1416,
          1388,
          1376,
          1401,
          1405,
          1400,
          1411,
          1397,
          1399,
          1409,
          1403,
          1416,
          1411,
          1410,
          1402,
          1407,
          1412,
          1407,
          1406,
          1416,
          1416,
          1416,
          1416,
          1416,
          1412,
          1415,
          1416,
          1413,
          1416,
          1416,
          1416,
          1416,
          1416,
          1416,
          1416,
          1416,
          1416,
          1416,
          1416,
          1416,
          1416,
          1416,
          1416,
          1416,
          1414,
          1416,
          1416,
          1416,
          1416,
          1416,
          1416,
          1416,
          1416,
          1416,
          1416,
          1414,
          1416,
          1416,
          1416,
          1416,
          1416,
          1416,
          1416,
          1416,
          1416,
          1416,
          1406,
          1416,
          1416,
          1416,
          1416,
          1416,
          1416,
          1416,
          1416,
          1416,
          1416,
          1406,
          1416,
          1416,
          1416,
          1416,
          1416,
          1416,
          1416,
          1416,
          1416,
          1416,
          1405,
          1416
         ],
         "y0": " ",
         "yaxis": "y"
        }
       ],
       "layout": {
        "boxmode": "group",
        "height": 600,
        "legend": {
         "tracegroupgap": 0
        },
        "margin": {
         "t": 60
        },
        "template": {
         "data": {
          "bar": [
           {
            "error_x": {
             "color": "#2a3f5f"
            },
            "error_y": {
             "color": "#2a3f5f"
            },
            "marker": {
             "line": {
              "color": "#E5ECF6",
              "width": 0.5
             }
            },
            "type": "bar"
           }
          ],
          "barpolar": [
           {
            "marker": {
             "line": {
              "color": "#E5ECF6",
              "width": 0.5
             }
            },
            "type": "barpolar"
           }
          ],
          "carpet": [
           {
            "aaxis": {
             "endlinecolor": "#2a3f5f",
             "gridcolor": "white",
             "linecolor": "white",
             "minorgridcolor": "white",
             "startlinecolor": "#2a3f5f"
            },
            "baxis": {
             "endlinecolor": "#2a3f5f",
             "gridcolor": "white",
             "linecolor": "white",
             "minorgridcolor": "white",
             "startlinecolor": "#2a3f5f"
            },
            "type": "carpet"
           }
          ],
          "choropleth": [
           {
            "colorbar": {
             "outlinewidth": 0,
             "ticks": ""
            },
            "type": "choropleth"
           }
          ],
          "contour": [
           {
            "colorbar": {
             "outlinewidth": 0,
             "ticks": ""
            },
            "colorscale": [
             [
              0,
              "#0d0887"
             ],
             [
              0.1111111111111111,
              "#46039f"
             ],
             [
              0.2222222222222222,
              "#7201a8"
             ],
             [
              0.3333333333333333,
              "#9c179e"
             ],
             [
              0.4444444444444444,
              "#bd3786"
             ],
             [
              0.5555555555555556,
              "#d8576b"
             ],
             [
              0.6666666666666666,
              "#ed7953"
             ],
             [
              0.7777777777777778,
              "#fb9f3a"
             ],
             [
              0.8888888888888888,
              "#fdca26"
             ],
             [
              1,
              "#f0f921"
             ]
            ],
            "type": "contour"
           }
          ],
          "contourcarpet": [
           {
            "colorbar": {
             "outlinewidth": 0,
             "ticks": ""
            },
            "type": "contourcarpet"
           }
          ],
          "heatmap": [
           {
            "colorbar": {
             "outlinewidth": 0,
             "ticks": ""
            },
            "colorscale": [
             [
              0,
              "#0d0887"
             ],
             [
              0.1111111111111111,
              "#46039f"
             ],
             [
              0.2222222222222222,
              "#7201a8"
             ],
             [
              0.3333333333333333,
              "#9c179e"
             ],
             [
              0.4444444444444444,
              "#bd3786"
             ],
             [
              0.5555555555555556,
              "#d8576b"
             ],
             [
              0.6666666666666666,
              "#ed7953"
             ],
             [
              0.7777777777777778,
              "#fb9f3a"
             ],
             [
              0.8888888888888888,
              "#fdca26"
             ],
             [
              1,
              "#f0f921"
             ]
            ],
            "type": "heatmap"
           }
          ],
          "heatmapgl": [
           {
            "colorbar": {
             "outlinewidth": 0,
             "ticks": ""
            },
            "colorscale": [
             [
              0,
              "#0d0887"
             ],
             [
              0.1111111111111111,
              "#46039f"
             ],
             [
              0.2222222222222222,
              "#7201a8"
             ],
             [
              0.3333333333333333,
              "#9c179e"
             ],
             [
              0.4444444444444444,
              "#bd3786"
             ],
             [
              0.5555555555555556,
              "#d8576b"
             ],
             [
              0.6666666666666666,
              "#ed7953"
             ],
             [
              0.7777777777777778,
              "#fb9f3a"
             ],
             [
              0.8888888888888888,
              "#fdca26"
             ],
             [
              1,
              "#f0f921"
             ]
            ],
            "type": "heatmapgl"
           }
          ],
          "histogram": [
           {
            "marker": {
             "colorbar": {
              "outlinewidth": 0,
              "ticks": ""
             }
            },
            "type": "histogram"
           }
          ],
          "histogram2d": [
           {
            "colorbar": {
             "outlinewidth": 0,
             "ticks": ""
            },
            "colorscale": [
             [
              0,
              "#0d0887"
             ],
             [
              0.1111111111111111,
              "#46039f"
             ],
             [
              0.2222222222222222,
              "#7201a8"
             ],
             [
              0.3333333333333333,
              "#9c179e"
             ],
             [
              0.4444444444444444,
              "#bd3786"
             ],
             [
              0.5555555555555556,
              "#d8576b"
             ],
             [
              0.6666666666666666,
              "#ed7953"
             ],
             [
              0.7777777777777778,
              "#fb9f3a"
             ],
             [
              0.8888888888888888,
              "#fdca26"
             ],
             [
              1,
              "#f0f921"
             ]
            ],
            "type": "histogram2d"
           }
          ],
          "histogram2dcontour": [
           {
            "colorbar": {
             "outlinewidth": 0,
             "ticks": ""
            },
            "colorscale": [
             [
              0,
              "#0d0887"
             ],
             [
              0.1111111111111111,
              "#46039f"
             ],
             [
              0.2222222222222222,
              "#7201a8"
             ],
             [
              0.3333333333333333,
              "#9c179e"
             ],
             [
              0.4444444444444444,
              "#bd3786"
             ],
             [
              0.5555555555555556,
              "#d8576b"
             ],
             [
              0.6666666666666666,
              "#ed7953"
             ],
             [
              0.7777777777777778,
              "#fb9f3a"
             ],
             [
              0.8888888888888888,
              "#fdca26"
             ],
             [
              1,
              "#f0f921"
             ]
            ],
            "type": "histogram2dcontour"
           }
          ],
          "mesh3d": [
           {
            "colorbar": {
             "outlinewidth": 0,
             "ticks": ""
            },
            "type": "mesh3d"
           }
          ],
          "parcoords": [
           {
            "line": {
             "colorbar": {
              "outlinewidth": 0,
              "ticks": ""
             }
            },
            "type": "parcoords"
           }
          ],
          "scatter": [
           {
            "marker": {
             "colorbar": {
              "outlinewidth": 0,
              "ticks": ""
             }
            },
            "type": "scatter"
           }
          ],
          "scatter3d": [
           {
            "line": {
             "colorbar": {
              "outlinewidth": 0,
              "ticks": ""
             }
            },
            "marker": {
             "colorbar": {
              "outlinewidth": 0,
              "ticks": ""
             }
            },
            "type": "scatter3d"
           }
          ],
          "scattercarpet": [
           {
            "marker": {
             "colorbar": {
              "outlinewidth": 0,
              "ticks": ""
             }
            },
            "type": "scattercarpet"
           }
          ],
          "scattergeo": [
           {
            "marker": {
             "colorbar": {
              "outlinewidth": 0,
              "ticks": ""
             }
            },
            "type": "scattergeo"
           }
          ],
          "scattergl": [
           {
            "marker": {
             "colorbar": {
              "outlinewidth": 0,
              "ticks": ""
             }
            },
            "type": "scattergl"
           }
          ],
          "scattermapbox": [
           {
            "marker": {
             "colorbar": {
              "outlinewidth": 0,
              "ticks": ""
             }
            },
            "type": "scattermapbox"
           }
          ],
          "scatterpolar": [
           {
            "marker": {
             "colorbar": {
              "outlinewidth": 0,
              "ticks": ""
             }
            },
            "type": "scatterpolar"
           }
          ],
          "scatterpolargl": [
           {
            "marker": {
             "colorbar": {
              "outlinewidth": 0,
              "ticks": ""
             }
            },
            "type": "scatterpolargl"
           }
          ],
          "scatterternary": [
           {
            "marker": {
             "colorbar": {
              "outlinewidth": 0,
              "ticks": ""
             }
            },
            "type": "scatterternary"
           }
          ],
          "surface": [
           {
            "colorbar": {
             "outlinewidth": 0,
             "ticks": ""
            },
            "colorscale": [
             [
              0,
              "#0d0887"
             ],
             [
              0.1111111111111111,
              "#46039f"
             ],
             [
              0.2222222222222222,
              "#7201a8"
             ],
             [
              0.3333333333333333,
              "#9c179e"
             ],
             [
              0.4444444444444444,
              "#bd3786"
             ],
             [
              0.5555555555555556,
              "#d8576b"
             ],
             [
              0.6666666666666666,
              "#ed7953"
             ],
             [
              0.7777777777777778,
              "#fb9f3a"
             ],
             [
              0.8888888888888888,
              "#fdca26"
             ],
             [
              1,
              "#f0f921"
             ]
            ],
            "type": "surface"
           }
          ],
          "table": [
           {
            "cells": {
             "fill": {
              "color": "#EBF0F8"
             },
             "line": {
              "color": "white"
             }
            },
            "header": {
             "fill": {
              "color": "#C8D4E3"
             },
             "line": {
              "color": "white"
             }
            },
            "type": "table"
           }
          ]
         },
         "layout": {
          "annotationdefaults": {
           "arrowcolor": "#2a3f5f",
           "arrowhead": 0,
           "arrowwidth": 1
          },
          "colorscale": {
           "diverging": [
            [
             0,
             "#8e0152"
            ],
            [
             0.1,
             "#c51b7d"
            ],
            [
             0.2,
             "#de77ae"
            ],
            [
             0.3,
             "#f1b6da"
            ],
            [
             0.4,
             "#fde0ef"
            ],
            [
             0.5,
             "#f7f7f7"
            ],
            [
             0.6,
             "#e6f5d0"
            ],
            [
             0.7,
             "#b8e186"
            ],
            [
             0.8,
             "#7fbc41"
            ],
            [
             0.9,
             "#4d9221"
            ],
            [
             1,
             "#276419"
            ]
           ],
           "sequential": [
            [
             0,
             "#0d0887"
            ],
            [
             0.1111111111111111,
             "#46039f"
            ],
            [
             0.2222222222222222,
             "#7201a8"
            ],
            [
             0.3333333333333333,
             "#9c179e"
            ],
            [
             0.4444444444444444,
             "#bd3786"
            ],
            [
             0.5555555555555556,
             "#d8576b"
            ],
            [
             0.6666666666666666,
             "#ed7953"
            ],
            [
             0.7777777777777778,
             "#fb9f3a"
            ],
            [
             0.8888888888888888,
             "#fdca26"
            ],
            [
             1,
             "#f0f921"
            ]
           ],
           "sequentialminus": [
            [
             0,
             "#0d0887"
            ],
            [
             0.1111111111111111,
             "#46039f"
            ],
            [
             0.2222222222222222,
             "#7201a8"
            ],
            [
             0.3333333333333333,
             "#9c179e"
            ],
            [
             0.4444444444444444,
             "#bd3786"
            ],
            [
             0.5555555555555556,
             "#d8576b"
            ],
            [
             0.6666666666666666,
             "#ed7953"
            ],
            [
             0.7777777777777778,
             "#fb9f3a"
            ],
            [
             0.8888888888888888,
             "#fdca26"
            ],
            [
             1,
             "#f0f921"
            ]
           ]
          },
          "colorway": [
           "#636efa",
           "#EF553B",
           "#00cc96",
           "#ab63fa",
           "#FFA15A",
           "#19d3f3",
           "#FF6692",
           "#B6E880",
           "#FF97FF",
           "#FECB52"
          ],
          "font": {
           "color": "#2a3f5f"
          },
          "geo": {
           "bgcolor": "white",
           "lakecolor": "white",
           "landcolor": "#E5ECF6",
           "showlakes": true,
           "showland": true,
           "subunitcolor": "white"
          },
          "hoverlabel": {
           "align": "left"
          },
          "hovermode": "closest",
          "mapbox": {
           "style": "light"
          },
          "paper_bgcolor": "white",
          "plot_bgcolor": "#E5ECF6",
          "polar": {
           "angularaxis": {
            "gridcolor": "white",
            "linecolor": "white",
            "ticks": ""
           },
           "bgcolor": "#E5ECF6",
           "radialaxis": {
            "gridcolor": "white",
            "linecolor": "white",
            "ticks": ""
           }
          },
          "scene": {
           "xaxis": {
            "backgroundcolor": "#E5ECF6",
            "gridcolor": "white",
            "gridwidth": 2,
            "linecolor": "white",
            "showbackground": true,
            "ticks": "",
            "zerolinecolor": "white"
           },
           "yaxis": {
            "backgroundcolor": "#E5ECF6",
            "gridcolor": "white",
            "gridwidth": 2,
            "linecolor": "white",
            "showbackground": true,
            "ticks": "",
            "zerolinecolor": "white"
           },
           "zaxis": {
            "backgroundcolor": "#E5ECF6",
            "gridcolor": "white",
            "gridwidth": 2,
            "linecolor": "white",
            "showbackground": true,
            "ticks": "",
            "zerolinecolor": "white"
           }
          },
          "shapedefaults": {
           "line": {
            "color": "#2a3f5f"
           }
          },
          "ternary": {
           "aaxis": {
            "gridcolor": "white",
            "linecolor": "white",
            "ticks": ""
           },
           "baxis": {
            "gridcolor": "white",
            "linecolor": "white",
            "ticks": ""
           },
           "bgcolor": "#E5ECF6",
           "caxis": {
            "gridcolor": "white",
            "linecolor": "white",
            "ticks": ""
           }
          },
          "title": {
           "x": 0.05
          },
          "xaxis": {
           "automargin": true,
           "gridcolor": "white",
           "linecolor": "white",
           "ticks": "",
           "zerolinecolor": "white",
           "zerolinewidth": 2
          },
          "yaxis": {
           "automargin": true,
           "gridcolor": "white",
           "linecolor": "white",
           "ticks": "",
           "zerolinecolor": "white",
           "zerolinewidth": 2
          }
         }
        },
        "xaxis": {
         "anchor": "y",
         "domain": [
          0,
          0.98
         ]
        },
        "yaxis": {
         "anchor": "x",
         "domain": [
          0,
          1
         ],
         "title": {
          "text": "produced_in_planned_time"
         }
        }
       }
      },
      "text/html": [
       "<div>\n",
       "        \n",
       "        \n",
       "            <div id=\"a6ee62f6-73d6-4f10-92aa-b1778fecc46b\" class=\"plotly-graph-div\" style=\"height:600px; width:100%;\"></div>\n",
       "            <script type=\"text/javascript\">\n",
       "                require([\"plotly\"], function(Plotly) {\n",
       "                    window.PLOTLYENV=window.PLOTLYENV || {};\n",
       "                    \n",
       "                if (document.getElementById(\"a6ee62f6-73d6-4f10-92aa-b1778fecc46b\")) {\n",
       "                    Plotly.newPlot(\n",
       "                        'a6ee62f6-73d6-4f10-92aa-b1778fecc46b',\n",
       "                        [{\"alignmentgroup\": \"True\", \"hoverlabel\": {\"namelength\": 0}, \"hovertemplate\": \"controller_name=naive<br>produced_in_planned_time=%{y}\", \"legendgroup\": \"controller_name=naive\", \"marker\": {\"color\": \"#636efa\"}, \"name\": \"controller_name=naive\", \"notched\": false, \"offsetgroup\": \"controller_name=naive\", \"orientation\": \"v\", \"showlegend\": true, \"type\": \"box\", \"x0\": \" \", \"xaxis\": \"x\", \"y\": [1416, 1416, 1074, 1075, 1126, 1073, 1125, 1073, 1073, 1404, 1373, 1393, 1416, 1403, 1405, 1405, 1389, 1362, 1376, 1410, 1406, 1413, 1408, 1416, 1410, 1406, 1413, 1408, 1407, 1416, 1416, 1415, 1413, 1413, 1416, 1416, 1412, 1415, 1414, 1416, 1416, 1416, 1416, 1416, 1416, 1416, 1416, 1416, 1416, 1416, 1416, 1416, 1416, 1416, 1416, 1416, 1416, 1416, 1416, 1416, 1416, 1416, 1416, 1416, 1416, 1416, 1416, 1412, 1416, 1416, 1416, 1416, 1416, 1416, 1416, 1416, 1416, 1416, 1410, 1416, 1416, 1416, 1416, 1416, 1416, 1416, 1416, 1416, 1416, 1405, 1416, 1416, 1416, 1416, 1416, 1416, 1416, 1416, 1416, 1416, 1413, 1416, 1416, 1416, 1416, 1416, 1416, 1416, 1416, 1073, 1125, 1416, 1416, 1125, 1126, 1073, 1074, 1074, 1073, 1386, 1382, 1400, 1395, 1409, 1409, 1385, 1396, 1394, 1381, 1407, 1406, 1411, 1405, 1410, 1416, 1403, 1408, 1402, 1408, 1405, 1413, 1412, 1414, 1410, 1412, 1416, 1415, 1416, 1411, 1416, 1416, 1416, 1416, 1416, 1416, 1416, 1416, 1416, 1416, 1416, 1416, 1416, 1416, 1416, 1416, 1416, 1416, 1416, 1416, 1416, 1416, 1416, 1416, 1416, 1416, 1416, 1416, 1416, 1415, 1416, 1416, 1416, 1416, 1416, 1416, 1416, 1416, 1416, 1416, 1400, 1416, 1416, 1416, 1416, 1416, 1416, 1416, 1416, 1416, 1416, 1385, 1416, 1416, 1416, 1416, 1416, 1416, 1416, 1416, 1416, 1416, 1413, 1416, 1416, 1416, 1416, 1416, 1416, 1416, 1073, 1074, 1073, 1416, 1360, 1073, 1073, 1073, 1125, 1073, 1400, 1391, 1391, 1386, 1399, 1416, 1381, 1416, 1416, 1413, 1416, 1416, 1416, 1416, 1416, 1416, 1416, 1416, 1416, 1416, 1416, 1416, 1416, 1416, 1416, 1416, 1416, 1416, 1416, 1416, 1416, 1416, 1416, 1416, 1416, 1416, 1416, 1415, 1416, 1416, 1414, 1415, 1416, 1416, 1413, 1416, 1416, 1416, 1415, 1415, 1411, 1416, 1416, 1412, 1414, 1411, 1416, 1415, 1414, 1411, 1415, 1411, 1415, 1399, 1414, 1414, 1414, 1411, 1411, 1407, 1407, 1399, 1406, 1403, 1408, 1411, 1398, 1402, 1408, 1376, 1389, 1399, 1403, 1413, 1379, 1375, 1395, 1392, 1383, 1411, 1415, 1413, 1411, 1413, 1414, 1414, 1412, 1413, 1413, 1413, 1267, 1361, 1196, 1360, 1416, 1197, 1266, 1359, 1267, 1416, 1416, 1404, 1416, 1413, 1416, 1416, 1416, 1416, 1416, 1406, 1416, 1416, 1416, 1416, 1416, 1416, 1416, 1416, 1416, 1416, 1416, 1416, 1416, 1416, 1416, 1416, 1416, 1416, 1416, 1416, 1416, 1416, 1416, 1416, 1416, 1416, 1416, 1416, 1415, 1416, 1416, 1416, 1416, 1416, 1416, 1413, 1416, 1416, 1416, 1414, 1414, 1416, 1416, 1416, 1414, 1409, 1416, 1414, 1416, 1416, 1407, 1413, 1416, 1415, 1414, 1416, 1410, 1415, 1409, 1413, 1403, 1405, 1403, 1416, 1403, 1416, 1412, 1416, 1410, 1406, 1410, 1409, 1390, 1401, 1411, 1409, 1403, 1393, 1414, 1410, 1414, 1414, 1413, 1413, 1413, 1414, 1415, 1416, 1414, 1415, 1195, 1125, 1265, 1127, 1266, 1416, 1266, 1127, 1360, 1416, 1416, 1414, 1414, 1415, 1408, 1416, 1416, 1416, 1415, 1416, 1416, 1416, 1416, 1416, 1416, 1416, 1416, 1416, 1416, 1416, 1416, 1416, 1416, 1416, 1416, 1416, 1416, 1416, 1416, 1416, 1416, 1416, 1416, 1416, 1416, 1416, 1416, 1416, 1416, 1416, 1416, 1416, 1416, 1416, 1416, 1416, 1416, 1416, 1416, 1416, 1408, 1416, 1416, 1416, 1416, 1416, 1415, 1416, 1414, 1416, 1415, 1411, 1407, 1416, 1415, 1414, 1416, 1416, 1411, 1412, 1415, 1412, 1403, 1416, 1414, 1416, 1409, 1413, 1413, 1415, 1412, 1403, 1414, 1399, 1405, 1408, 1413, 1416, 1413, 1414, 1416, 1414, 1416, 1416, 1412, 1412, 1416, 1416, 1413, 1414, 1197, 1266, 1197, 1198, 1196, 1264, 1416, 1128, 1127, 1128, 1409, 1402, 1401, 1411, 1411, 1407, 1413, 1416, 1409, 1405, 1416, 1416, 1416, 1416, 1416, 1416, 1416, 1416, 1416, 1416, 1416, 1416, 1416, 1416, 1416, 1416, 1416, 1416, 1416, 1416, 1416, 1416, 1416, 1416, 1416, 1416, 1416, 1416, 1416, 1416, 1412, 1416, 1416, 1416, 1416, 1416, 1416, 1416, 1416, 1416, 1416, 1412, 1416, 1416, 1416, 1416, 1416, 1416, 1416, 1416, 1416, 1414, 1412, 1416, 1416, 1416, 1416, 1416, 1416, 1416, 1412, 1414, 1416, 1372, 1416, 1414, 1414, 1416, 1410, 1413, 1409, 1405, 1388, 1400, 1396, 1408, 1413, 1397, 1416, 1413, 1416, 1416, 1416, 1416, 1416, 1412, 1413, 1412, 1415, 1416, 1196, 1359, 1126, 1127, 1127, 1127, 1124, 1416, 1196, 1266, 1408, 1401, 1399, 1410, 1411, 1400, 1409, 1406, 1416, 1406, 1416, 1416, 1413, 1416, 1416, 1416, 1416, 1410, 1413, 1416, 1416, 1416, 1416, 1416, 1416, 1416, 1416, 1416, 1416, 1416, 1416, 1416, 1416, 1416, 1416, 1416, 1416, 1416, 1416, 1416, 1416, 1413, 1416, 1416, 1416, 1416, 1416, 1416, 1416, 1416, 1416, 1416, 1415, 1416, 1416, 1416, 1416, 1416, 1416, 1416, 1416, 1416, 1416, 1407, 1416, 1416, 1416, 1416, 1416, 1416, 1412, 1410, 1416, 1416, 1412, 1415, 1416, 1416, 1415, 1416, 1408, 1416, 1412, 1416, 1416, 1399, 1416, 1416, 1415, 1416, 1416, 1416, 1415, 1416, 1416, 1415, 1413, 1413, 1416, 1416, 1127, 1127, 1126, 1126, 1125, 1127, 1127, 1126, 1416, 1125, 1402, 1403, 1398, 1405, 1404, 1383, 1406, 1406, 1401, 1416, 1416, 1416, 1408, 1410, 1416, 1415, 1414, 1410, 1412, 1415, 1416, 1415, 1416, 1416, 1416, 1416, 1416, 1416, 1416, 1416, 1416, 1416, 1416, 1416, 1416, 1416, 1416, 1416, 1416, 1416, 1416, 1416, 1416, 1416, 1416, 1416, 1416, 1416, 1416, 1416, 1416, 1416, 1416, 1410, 1416, 1416, 1416, 1416, 1416, 1416, 1416, 1416, 1416, 1416, 1408, 1416, 1416, 1416, 1416, 1416, 1412, 1416, 1414, 1416, 1416, 1403, 1416, 1416, 1416, 1416, 1416, 1416, 1412, 1416, 1416, 1414, 1363, 1416, 1416, 1416, 1416, 1416, 1416, 1416, 1416, 1416, 1416, 1412, 1412, 1416, 1126, 1126, 1125, 1127, 1196, 1125, 1127, 1126, 1127, 1416, 1399, 1399, 1387, 1397, 1400, 1394, 1397, 1405, 1397, 1401, 1416, 1412, 1407, 1404, 1413, 1412, 1415, 1416, 1411, 1408, 1416, 1416, 1409, 1415, 1416, 1415, 1416, 1416, 1416, 1416, 1416, 1416, 1416, 1416, 1416, 1416, 1416, 1416, 1416, 1416, 1416, 1416, 1416, 1413, 1416, 1416, 1416, 1416, 1416, 1416, 1416, 1416, 1416, 1416, 1413, 1416, 1416, 1416, 1416, 1416, 1416, 1416, 1416, 1416, 1416, 1409, 1416, 1416, 1416, 1416, 1416, 1416, 1416, 1416, 1416, 1416, 1406, 1416, 1416, 1416, 1416, 1416, 1416, 1416, 1404, 1416, 1416, 1395, 1416, 1416, 1416, 1416, 1416, 1416, 1416, 1416, 1416, 1416, 1412, 1412, 1126, 1073, 1073, 1075, 1073, 1125, 1074, 1125, 1124, 1125, 1416, 1402, 1399, 1393, 1401, 1401, 1390, 1399, 1391, 1385, 1409, 1416, 1415, 1407, 1410, 1413, 1409, 1404, 1415, 1408, 1415, 1415, 1416, 1416, 1413, 1410, 1416, 1416, 1415, 1412, 1416, 1416, 1416, 1416, 1416, 1416, 1416, 1416, 1416, 1416, 1416, 1416, 1416, 1416, 1415, 1416, 1416, 1416, 1416, 1416, 1416, 1416, 1416, 1416, 1416, 1412, 1416, 1416, 1416, 1416, 1416, 1416, 1416, 1416, 1416, 1416, 1409, 1416, 1416, 1416, 1416, 1416, 1416, 1416, 1416, 1416, 1416, 1413, 1416, 1416, 1416, 1409, 1416, 1414, 1416, 1416, 1416, 1416, 1397, 1416, 1416, 1416, 1416, 1416, 1416, 1416, 1416, 1416, 1416, 1413, 1416, 1124, 1125, 1073, 1126, 1126, 1073, 1075, 1125, 1073, 1403, 1416, 1388, 1376, 1401, 1405, 1400, 1411, 1397, 1399, 1409, 1403, 1416, 1411, 1410, 1402, 1407, 1412, 1407, 1406, 1416, 1416, 1416, 1416, 1416, 1412, 1415, 1416, 1413, 1416, 1416, 1416, 1416, 1416, 1416, 1416, 1416, 1416, 1416, 1416, 1416, 1416, 1416, 1416, 1416, 1414, 1416, 1416, 1416, 1416, 1416, 1416, 1416, 1416, 1416, 1416, 1414, 1416, 1416, 1416, 1416, 1416, 1416, 1416, 1416, 1416, 1416, 1406, 1416, 1416, 1416, 1416, 1416, 1416, 1416, 1416, 1416, 1416, 1406, 1416, 1416, 1416, 1416, 1416, 1416, 1416, 1416, 1416, 1416, 1405, 1416], \"y0\": \" \", \"yaxis\": \"y\"}],\n",
       "                        {\"boxmode\": \"group\", \"height\": 600, \"legend\": {\"tracegroupgap\": 0}, \"margin\": {\"t\": 60}, \"template\": {\"data\": {\"bar\": [{\"error_x\": {\"color\": \"#2a3f5f\"}, \"error_y\": {\"color\": \"#2a3f5f\"}, \"marker\": {\"line\": {\"color\": \"#E5ECF6\", \"width\": 0.5}}, \"type\": \"bar\"}], \"barpolar\": [{\"marker\": {\"line\": {\"color\": \"#E5ECF6\", \"width\": 0.5}}, \"type\": \"barpolar\"}], \"carpet\": [{\"aaxis\": {\"endlinecolor\": \"#2a3f5f\", \"gridcolor\": \"white\", \"linecolor\": \"white\", \"minorgridcolor\": \"white\", \"startlinecolor\": \"#2a3f5f\"}, \"baxis\": {\"endlinecolor\": \"#2a3f5f\", \"gridcolor\": \"white\", \"linecolor\": \"white\", \"minorgridcolor\": \"white\", \"startlinecolor\": \"#2a3f5f\"}, \"type\": \"carpet\"}], \"choropleth\": [{\"colorbar\": {\"outlinewidth\": 0, \"ticks\": \"\"}, \"type\": \"choropleth\"}], \"contour\": [{\"colorbar\": {\"outlinewidth\": 0, \"ticks\": \"\"}, \"colorscale\": [[0.0, \"#0d0887\"], [0.1111111111111111, \"#46039f\"], [0.2222222222222222, \"#7201a8\"], [0.3333333333333333, \"#9c179e\"], [0.4444444444444444, \"#bd3786\"], [0.5555555555555556, \"#d8576b\"], [0.6666666666666666, \"#ed7953\"], [0.7777777777777778, \"#fb9f3a\"], [0.8888888888888888, \"#fdca26\"], [1.0, \"#f0f921\"]], \"type\": \"contour\"}], \"contourcarpet\": [{\"colorbar\": {\"outlinewidth\": 0, \"ticks\": \"\"}, \"type\": \"contourcarpet\"}], \"heatmap\": [{\"colorbar\": {\"outlinewidth\": 0, \"ticks\": \"\"}, \"colorscale\": [[0.0, \"#0d0887\"], [0.1111111111111111, \"#46039f\"], [0.2222222222222222, \"#7201a8\"], [0.3333333333333333, \"#9c179e\"], [0.4444444444444444, \"#bd3786\"], [0.5555555555555556, \"#d8576b\"], [0.6666666666666666, \"#ed7953\"], [0.7777777777777778, \"#fb9f3a\"], [0.8888888888888888, \"#fdca26\"], [1.0, \"#f0f921\"]], \"type\": \"heatmap\"}], \"heatmapgl\": [{\"colorbar\": {\"outlinewidth\": 0, \"ticks\": \"\"}, \"colorscale\": [[0.0, \"#0d0887\"], [0.1111111111111111, \"#46039f\"], [0.2222222222222222, \"#7201a8\"], [0.3333333333333333, \"#9c179e\"], [0.4444444444444444, \"#bd3786\"], [0.5555555555555556, \"#d8576b\"], [0.6666666666666666, \"#ed7953\"], [0.7777777777777778, \"#fb9f3a\"], [0.8888888888888888, \"#fdca26\"], [1.0, \"#f0f921\"]], \"type\": \"heatmapgl\"}], \"histogram\": [{\"marker\": {\"colorbar\": {\"outlinewidth\": 0, \"ticks\": \"\"}}, \"type\": \"histogram\"}], \"histogram2d\": [{\"colorbar\": {\"outlinewidth\": 0, \"ticks\": \"\"}, \"colorscale\": [[0.0, \"#0d0887\"], [0.1111111111111111, \"#46039f\"], [0.2222222222222222, \"#7201a8\"], [0.3333333333333333, \"#9c179e\"], [0.4444444444444444, \"#bd3786\"], [0.5555555555555556, \"#d8576b\"], [0.6666666666666666, \"#ed7953\"], [0.7777777777777778, \"#fb9f3a\"], [0.8888888888888888, \"#fdca26\"], [1.0, \"#f0f921\"]], \"type\": \"histogram2d\"}], \"histogram2dcontour\": [{\"colorbar\": {\"outlinewidth\": 0, \"ticks\": \"\"}, \"colorscale\": [[0.0, \"#0d0887\"], [0.1111111111111111, \"#46039f\"], [0.2222222222222222, \"#7201a8\"], [0.3333333333333333, \"#9c179e\"], [0.4444444444444444, \"#bd3786\"], [0.5555555555555556, \"#d8576b\"], [0.6666666666666666, \"#ed7953\"], [0.7777777777777778, \"#fb9f3a\"], [0.8888888888888888, \"#fdca26\"], [1.0, \"#f0f921\"]], \"type\": \"histogram2dcontour\"}], \"mesh3d\": [{\"colorbar\": {\"outlinewidth\": 0, \"ticks\": \"\"}, \"type\": \"mesh3d\"}], \"parcoords\": [{\"line\": {\"colorbar\": {\"outlinewidth\": 0, \"ticks\": \"\"}}, \"type\": \"parcoords\"}], \"scatter\": [{\"marker\": {\"colorbar\": {\"outlinewidth\": 0, \"ticks\": \"\"}}, \"type\": \"scatter\"}], \"scatter3d\": [{\"line\": {\"colorbar\": {\"outlinewidth\": 0, \"ticks\": \"\"}}, \"marker\": {\"colorbar\": {\"outlinewidth\": 0, \"ticks\": \"\"}}, \"type\": \"scatter3d\"}], \"scattercarpet\": [{\"marker\": {\"colorbar\": {\"outlinewidth\": 0, \"ticks\": \"\"}}, \"type\": \"scattercarpet\"}], \"scattergeo\": [{\"marker\": {\"colorbar\": {\"outlinewidth\": 0, \"ticks\": \"\"}}, \"type\": \"scattergeo\"}], \"scattergl\": [{\"marker\": {\"colorbar\": {\"outlinewidth\": 0, \"ticks\": \"\"}}, \"type\": \"scattergl\"}], \"scattermapbox\": [{\"marker\": {\"colorbar\": {\"outlinewidth\": 0, \"ticks\": \"\"}}, \"type\": \"scattermapbox\"}], \"scatterpolar\": [{\"marker\": {\"colorbar\": {\"outlinewidth\": 0, \"ticks\": \"\"}}, \"type\": \"scatterpolar\"}], \"scatterpolargl\": [{\"marker\": {\"colorbar\": {\"outlinewidth\": 0, \"ticks\": \"\"}}, \"type\": \"scatterpolargl\"}], \"scatterternary\": [{\"marker\": {\"colorbar\": {\"outlinewidth\": 0, \"ticks\": \"\"}}, \"type\": \"scatterternary\"}], \"surface\": [{\"colorbar\": {\"outlinewidth\": 0, \"ticks\": \"\"}, \"colorscale\": [[0.0, \"#0d0887\"], [0.1111111111111111, \"#46039f\"], [0.2222222222222222, \"#7201a8\"], [0.3333333333333333, \"#9c179e\"], [0.4444444444444444, \"#bd3786\"], [0.5555555555555556, \"#d8576b\"], [0.6666666666666666, \"#ed7953\"], [0.7777777777777778, \"#fb9f3a\"], [0.8888888888888888, \"#fdca26\"], [1.0, \"#f0f921\"]], \"type\": \"surface\"}], \"table\": [{\"cells\": {\"fill\": {\"color\": \"#EBF0F8\"}, \"line\": {\"color\": \"white\"}}, \"header\": {\"fill\": {\"color\": \"#C8D4E3\"}, \"line\": {\"color\": \"white\"}}, \"type\": \"table\"}]}, \"layout\": {\"annotationdefaults\": {\"arrowcolor\": \"#2a3f5f\", \"arrowhead\": 0, \"arrowwidth\": 1}, \"colorscale\": {\"diverging\": [[0, \"#8e0152\"], [0.1, \"#c51b7d\"], [0.2, \"#de77ae\"], [0.3, \"#f1b6da\"], [0.4, \"#fde0ef\"], [0.5, \"#f7f7f7\"], [0.6, \"#e6f5d0\"], [0.7, \"#b8e186\"], [0.8, \"#7fbc41\"], [0.9, \"#4d9221\"], [1, \"#276419\"]], \"sequential\": [[0.0, \"#0d0887\"], [0.1111111111111111, \"#46039f\"], [0.2222222222222222, \"#7201a8\"], [0.3333333333333333, \"#9c179e\"], [0.4444444444444444, \"#bd3786\"], [0.5555555555555556, \"#d8576b\"], [0.6666666666666666, \"#ed7953\"], [0.7777777777777778, \"#fb9f3a\"], [0.8888888888888888, \"#fdca26\"], [1.0, \"#f0f921\"]], \"sequentialminus\": [[0.0, \"#0d0887\"], [0.1111111111111111, \"#46039f\"], [0.2222222222222222, \"#7201a8\"], [0.3333333333333333, \"#9c179e\"], [0.4444444444444444, \"#bd3786\"], [0.5555555555555556, \"#d8576b\"], [0.6666666666666666, \"#ed7953\"], [0.7777777777777778, \"#fb9f3a\"], [0.8888888888888888, \"#fdca26\"], [1.0, \"#f0f921\"]]}, \"colorway\": [\"#636efa\", \"#EF553B\", \"#00cc96\", \"#ab63fa\", \"#FFA15A\", \"#19d3f3\", \"#FF6692\", \"#B6E880\", \"#FF97FF\", \"#FECB52\"], \"font\": {\"color\": \"#2a3f5f\"}, \"geo\": {\"bgcolor\": \"white\", \"lakecolor\": \"white\", \"landcolor\": \"#E5ECF6\", \"showlakes\": true, \"showland\": true, \"subunitcolor\": \"white\"}, \"hoverlabel\": {\"align\": \"left\"}, \"hovermode\": \"closest\", \"mapbox\": {\"style\": \"light\"}, \"paper_bgcolor\": \"white\", \"plot_bgcolor\": \"#E5ECF6\", \"polar\": {\"angularaxis\": {\"gridcolor\": \"white\", \"linecolor\": \"white\", \"ticks\": \"\"}, \"bgcolor\": \"#E5ECF6\", \"radialaxis\": {\"gridcolor\": \"white\", \"linecolor\": \"white\", \"ticks\": \"\"}}, \"scene\": {\"xaxis\": {\"backgroundcolor\": \"#E5ECF6\", \"gridcolor\": \"white\", \"gridwidth\": 2, \"linecolor\": \"white\", \"showbackground\": true, \"ticks\": \"\", \"zerolinecolor\": \"white\"}, \"yaxis\": {\"backgroundcolor\": \"#E5ECF6\", \"gridcolor\": \"white\", \"gridwidth\": 2, \"linecolor\": \"white\", \"showbackground\": true, \"ticks\": \"\", \"zerolinecolor\": \"white\"}, \"zaxis\": {\"backgroundcolor\": \"#E5ECF6\", \"gridcolor\": \"white\", \"gridwidth\": 2, \"linecolor\": \"white\", \"showbackground\": true, \"ticks\": \"\", \"zerolinecolor\": \"white\"}}, \"shapedefaults\": {\"line\": {\"color\": \"#2a3f5f\"}}, \"ternary\": {\"aaxis\": {\"gridcolor\": \"white\", \"linecolor\": \"white\", \"ticks\": \"\"}, \"baxis\": {\"gridcolor\": \"white\", \"linecolor\": \"white\", \"ticks\": \"\"}, \"bgcolor\": \"#E5ECF6\", \"caxis\": {\"gridcolor\": \"white\", \"linecolor\": \"white\", \"ticks\": \"\"}}, \"title\": {\"x\": 0.05}, \"xaxis\": {\"automargin\": true, \"gridcolor\": \"white\", \"linecolor\": \"white\", \"ticks\": \"\", \"zerolinecolor\": \"white\", \"zerolinewidth\": 2}, \"yaxis\": {\"automargin\": true, \"gridcolor\": \"white\", \"linecolor\": \"white\", \"ticks\": \"\", \"zerolinecolor\": \"white\", \"zerolinewidth\": 2}}}, \"xaxis\": {\"anchor\": \"y\", \"domain\": [0.0, 0.98]}, \"yaxis\": {\"anchor\": \"x\", \"domain\": [0.0, 1.0], \"title\": {\"text\": \"produced_in_planned_time\"}}},\n",
       "                        {\"responsive\": true}\n",
       "                    ).then(function(){\n",
       "                            \n",
       "var gd = document.getElementById('a6ee62f6-73d6-4f10-92aa-b1778fecc46b');\n",
       "var x = new MutationObserver(function (mutations, observer) {{\n",
       "        var display = window.getComputedStyle(gd).display;\n",
       "        if (!display || display === 'none') {{\n",
       "            console.log([gd, 'removed!']);\n",
       "            Plotly.purge(gd);\n",
       "            observer.disconnect();\n",
       "        }}\n",
       "}});\n",
       "\n",
       "// Listen for the removal of the full notebook cells\n",
       "var notebookContainer = gd.closest('#notebook-container');\n",
       "if (notebookContainer) {{\n",
       "    x.observe(notebookContainer, {childList: true});\n",
       "}}\n",
       "\n",
       "// Listen for the clearing of the current output cell\n",
       "var outputEl = gd.closest('.output');\n",
       "if (outputEl) {{\n",
       "    x.observe(outputEl, {childList: true});\n",
       "}}\n",
       "\n",
       "                        })\n",
       "                };\n",
       "                });\n",
       "            </script>\n",
       "        </div>"
      ]
     },
     "metadata": {},
     "output_type": "display_data"
    }
   ],
   "source": [
    "px.box(df, y='produced_in_planned_time', color='controller_name')"
   ]
  },
  {
   "cell_type": "code",
   "execution_count": null,
   "metadata": {},
   "outputs": [],
   "source": []
  },
  {
   "cell_type": "code",
   "execution_count": 13,
   "metadata": {},
   "outputs": [
    {
     "data": {
      "text/html": [
       "<div>\n",
       "<style scoped>\n",
       "    .dataframe tbody tr th:only-of-type {\n",
       "        vertical-align: middle;\n",
       "    }\n",
       "\n",
       "    .dataframe tbody tr th {\n",
       "        vertical-align: top;\n",
       "    }\n",
       "\n",
       "    .dataframe thead th {\n",
       "        text-align: right;\n",
       "    }\n",
       "</style>\n",
       "<table border=\"1\" class=\"dataframe\">\n",
       "  <thead>\n",
       "    <tr style=\"text-align: right;\">\n",
       "      <th></th>\n",
       "      <th>index</th>\n",
       "      <th>zeros_count</th>\n",
       "      <th>count</th>\n",
       "    </tr>\n",
       "  </thead>\n",
       "  <tbody>\n",
       "    <tr>\n",
       "      <th>0</th>\n",
       "      <td>naive</td>\n",
       "      <td>193</td>\n",
       "      <td>1200</td>\n",
       "    </tr>\n",
       "  </tbody>\n",
       "</table>\n",
       "</div>"
      ],
      "text/plain": [
       "   index  zeros_count  count\n",
       "0  naive          193   1200"
      ]
     },
     "execution_count": 13,
     "metadata": {},
     "output_type": "execute_result"
    }
   ],
   "source": [
    "df_grouped_zeros = pd.DataFrame(index=df.controller_name.unique(), columns=['zeros_count', 'count'])\n",
    "for group_name, df_group in df.groupby('controller_name'):\n",
    "    df_grouped_zeros.loc[group_name, 'zeros_count'] = df_group.missing_plan_cnt_first_delay.isin([0]).sum()\n",
    "    df_grouped_zeros.loc[group_name, 'count'] = df_group.shape[0]\n",
    "df_grouped_zeros = df_grouped_zeros.reset_index()\n",
    "df_grouped_zeros"
   ]
  },
  {
   "cell_type": "code",
   "execution_count": 20,
   "metadata": {},
   "outputs": [
    {
     "data": {
      "application/vnd.plotly.v1+json": {
       "config": {
        "plotlyServerURL": "https://plot.ly"
       },
       "data": [
        {
         "alignmentgroup": "True",
         "hoverlabel": {
          "namelength": 0
         },
         "hovertemplate": "controller_name=naive<br>process_delay_minutes=%{y}",
         "legendgroup": "controller_name=naive",
         "marker": {
          "color": "#636efa"
         },
         "name": "controller_name=naive",
         "notched": false,
         "offsetgroup": "controller_name=naive",
         "orientation": "v",
         "showlegend": true,
         "type": "box",
         "x0": " ",
         "xaxis": "x",
         "y": [
          0,
          0,
          428.12250000001,
          427.53316666667666,
          346.2774999999983,
          429.95016666667664,
          347.08583333333,
          429.59166666667664,
          429.2366666666767,
          19.201999999999998,
          43.39299999999983,
          25.6855,
          0,
          16.767,
          14.001333333333317,
          13.100166666666667,
          30.329666666666665,
          53.5531666666665,
          42.20433333333334,
          10.497333333333318,
          12.376999999999983,
          6.807833333333334,
          11.74266666666665,
          0,
          8.607666666666667,
          11.955333333333318,
          6.274500000000001,
          11.222999999999983,
          12.71466666666665,
          3.079333333333333,
          2.9986666666666664,
          4.682166666666666,
          6.326833333333334,
          6.930000000000001,
          0.7515000000000001,
          4.6695,
          8.470666666666666,
          5.033833333333333,
          5.178333333333333,
          3.4238333333333335,
          2.291166666666667,
          1.6315,
          4.026666666666666,
          2.7338333333333336,
          0.5395,
          3.4853333333333336,
          2.225,
          2.13,
          2.9963333333333333,
          0.3958333333333333,
          0.4475,
          0.26066666666666666,
          0.3571666666666667,
          0.3495,
          0.21583333333333332,
          0.17183333333333334,
          2.8973333333333335,
          0.15666666666666648,
          0.6291666666666667,
          0,
          0,
          0.1285,
          0.07183333333333333,
          0,
          0.08666666666666667,
          0.076,
          0.21,
          6.665666666666667,
          0.04916666666666667,
          0,
          0,
          0,
          0,
          0,
          0.1608333333333335,
          0,
          0.0375,
          0.0385,
          9.619499999999999,
          0,
          0,
          0,
          0,
          0,
          0,
          0,
          0,
          0,
          0,
          14.73266666666665,
          0,
          0.0615,
          0,
          0.28,
          0,
          0,
          0,
          0,
          0,
          0,
          6.050666666666667,
          0,
          0,
          0.0615,
          0.20666666666666667,
          0,
          0.13649999999999998,
          0,
          0.2588333333333333,
          429.2528333333433,
          347.53283333333,
          0,
          0,
          347.33883333333,
          346.72183333333163,
          429.4616666666767,
          428.81400000001,
          428.50266666667665,
          429.5758333333433,
          32.873666666666665,
          36.97199999999984,
          18.073333333333334,
          23.567666666666664,
          10.547333333333334,
          9.519833333333334,
          31.906166666666664,
          21.81683333333333,
          23.939166666666665,
          36.6471666666665,
          11.483333333333317,
          12.980999999999984,
          7.4206666666666665,
          14.611166666666652,
          10.41016666666665,
          0,
          16.06766666666665,
          10.455333333333334,
          17.207,
          10.67266666666665,
          14.19233333333335,
          6.999333333333333,
          7.502666666666667,
          5.66,
          11.354833333333334,
          8.390333333333334,
          0,
          5.757499999999999,
          2.818,
          8.978333333333333,
          1.1736666666666666,
          2.3314999999999997,
          1.8270000000000002,
          3.1285000000000003,
          2.084,
          2.1745,
          1.8913333333333333,
          0.9975,
          1.8521666666666665,
          3.4084999999999996,
          0.8695,
          0.23683333333333334,
          0.4871666666666667,
          0.21683333333333332,
          0.6715,
          0.8516666666666667,
          0.855,
          2.5146666666666664,
          3.3305000000000002,
          0.8351666666666666,
          0.35983333333333334,
          0,
          0.03333333333333333,
          0.15900000000000017,
          0.20133333333333334,
          0,
          0.08666666666666667,
          0.08766666666666682,
          0.2588333333333333,
          4.0361666666666665,
          0,
          0,
          0,
          0,
          0.077,
          0,
          0,
          0.04916666666666667,
          0,
          0,
          19.3265,
          0.18566666666666667,
          0.27616666666666667,
          0,
          0,
          0,
          0,
          0,
          0,
          0,
          0,
          32.829166666666666,
          0,
          0,
          0,
          0.2558333333333333,
          0,
          0,
          0,
          0,
          0,
          0,
          5.491,
          0,
          0,
          0,
          0,
          0,
          0,
          0,
          429.6791666666767,
          428.34350000001,
          429.8243333333433,
          0,
          61.211833333332,
          429.81950000000995,
          429.4353333333433,
          429.32983333334334,
          347.6499999999967,
          429.04350000001,
          21.838,
          26.901999999999997,
          30.21466666666667,
          30.78783333333333,
          18.8775,
          0.45249999999999996,
          36.05466666666667,
          0,
          0.436,
          7.24266666666665,
          0.0615,
          0,
          0,
          0.7633333333333333,
          0.1358333333333335,
          0.5055,
          0.1,
          0.0615,
          0.0615,
          0.0615,
          0.123,
          0.0615,
          0,
          0,
          0.3345,
          0,
          1.4031666666666667,
          0.5670000000000001,
          1.4291666666666667,
          0.8535,
          1.2263333333333333,
          0.738,
          0.321,
          0.7785,
          0.7515000000000001,
          1.011,
          1.0466666666666666,
          3.9758333333333336,
          1.7231666666666667,
          0.321,
          6.302666666666667,
          4.4605,
          3.0225,
          2.379833333333333,
          6.150499999999999,
          2.701,
          2.102,
          2.1331666666666664,
          4.831666666666666,
          4.665,
          7.691666666666666,
          2.3981666666666666,
          3.1578333333333335,
          8.377666666666666,
          5.402666666666667,
          8.7605,
          3.2263333333333337,
          5.168166666666666,
          4.794,
          8.8835,
          4.1765,
          7.9605,
          5.312,
          19.81683333333333,
          5.115333333333334,
          5.494666666666666,
          5.105,
          8.732666666666667,
          8.521666666666667,
          12.264833333333316,
          12.122333333333334,
          19.233666666666668,
          12.213999999999983,
          16.084999999999983,
          11.189333333333334,
          7.351333333333333,
          19.841,
          17.192999999999998,
          9.907833333333334,
          39.88166666666667,
          28.245166666666666,
          19.132333333333335,
          15.172999999999982,
          5.917833333333333,
          36.7825,
          42.211666666666666,
          22.693166666666666,
          25.9815,
          34.20483333333333,
          8.1455,
          4.096,
          6.136333333333334,
          7.399500000000001,
          6.045833333333333,
          5.2909999999999995,
          5.172,
          6.834666666666666,
          6.291833333333333,
          5.549,
          5.705666666666667,
          160.1024999999985,
          60.843333333332,
          249.67999999999498,
          61.33816666666533,
          0.0615,
          248.028999999995,
          161.61283333333182,
          62.66883333333183,
          160.77666666666516,
          0.5541666666666667,
          1.4571666666666667,
          14.562166666666666,
          0.9476666666666667,
          5.164666666666666,
          0,
          0.27616666666666667,
          1.4953333333333334,
          2.260166666666667,
          1.1631666666666667,
          13.071,
          0.15983333333333333,
          0.04916666666666667,
          0,
          0,
          0.057666666666666505,
          0.0385,
          1.0236666666666667,
          0.49033333333333334,
          0,
          0.14816666666666667,
          0.123,
          0.123,
          0,
          0.123,
          0,
          0.30966666666666665,
          0.0615,
          1.3935,
          0.444,
          0.28500000000000003,
          0.9359999999999999,
          0,
          0.9495,
          1.551,
          0,
          0.0385,
          0.7256666666666667,
          0.3345,
          4.5233333333333325,
          0,
          0.6728333333333333,
          1.7441666666666669,
          1.7916666666666667,
          1.7906666666666666,
          1.6271666666666667,
          6.5455000000000005,
          1.6703333333333332,
          1.1561666666666668,
          0.963,
          5.3875,
          6.676,
          3.8266666666666667,
          3.916,
          1.4145,
          5.817333333333334,
          9.868666666666666,
          4.572500000000001,
          6.092666666666667,
          3.4853333333333336,
          0.7035,
          11.625999999999983,
          6.91,
          4.0344999999999995,
          5.032666666666667,
          5.412000000000001,
          3.9338333333333333,
          9.477333333333332,
          3.711,
          9.388,
          5.652333333333333,
          15.38616666666665,
          14.302499999999982,
          16.098999999999982,
          2.8078333333333334,
          16.329833333333333,
          3.4766666666666666,
          8.0615,
          3.8881666666666663,
          10.297833333333317,
          13.718499999999983,
          9.597000000000001,
          10.541166666666667,
          27.416166666666665,
          18.12066666666667,
          10.065000000000017,
          9.351666666666667,
          15.403333333333316,
          25.35216666666667,
          4.580666666666667,
          9.5845,
          4.644333333333334,
          5.026666666666667,
          5.658166666666667,
          5.899166666666667,
          6.261,
          4.616666666666666,
          3.6795,
          2.95,
          5.412333333333334,
          3.9680000000000004,
          250.92216666666167,
          347.15633333333,
          162.3416666666652,
          344.67166666666503,
          161.70083333333184,
          0,
          161.5189999999985,
          345.47099999999836,
          61.89766666666517,
          0.2831666666666666,
          1.1416666666666666,
          4.351333333333333,
          8.301499999999999,
          5.872333333333333,
          10.620833333333316,
          3.7984999999999998,
          0.11166666666666666,
          0.38233333333333336,
          5.7585,
          0.6541666666666667,
          0.07083333333333333,
          0.9583333333333334,
          0.885,
          0.31783333333333336,
          0,
          0.909,
          2.058333333333333,
          0.222,
          1.8656666666666666,
          0.9958333333333333,
          0.3456666666666666,
          0.0825,
          0,
          2.791333333333333,
          0,
          0,
          0.0615,
          0.2585,
          1.5878333333333332,
          0.175,
          0.3203333333333333,
          0,
          0.14916666666666664,
          0.0615,
          0.246,
          0,
          0,
          0.444,
          0,
          2.928,
          0.7035,
          0.0615,
          3.4508333333333336,
          0.0615,
          0.123,
          0.9359999999999999,
          0.45749999999999996,
          0.6728333333333333,
          0.888,
          0.3825,
          12.126833333333316,
          0.27299999999999996,
          0.198,
          0.5325,
          2.225,
          0.8265,
          4.144166666666667,
          1.0758333333333332,
          6.183000000000001,
          3.795,
          4.597833333333333,
          9.0255,
          12.688166666666651,
          0.642,
          4.691166666666667,
          5.546166666666666,
          3.3606666666666665,
          3.4578333333333333,
          7.384166666666667,
          7.551,
          4.264,
          6.694500000000001,
          16.696,
          3.4388333333333336,
          5.105,
          1.4753333333333332,
          9.269833333333334,
          6.661666666666666,
          6.254666666666666,
          5.17,
          8.319333333333335,
          15.203333333333317,
          4.936166666666667,
          19.141000000000002,
          13.50816666666665,
          11.72283333333335,
          6.6795,
          3.888,
          6.362833333333333,
          7.102833333333334,
          3.4233333333333333,
          5.060333333333333,
          3.1496666666666666,
          2.022,
          6.605666666666666,
          6.545833333333333,
          3.2643333333333335,
          2.1256666666666666,
          5.557833333333334,
          5.319333333333334,
          248.10916666666165,
          161.96416666666516,
          248.69633333332834,
          247.70166666666168,
          249.62533333332834,
          163.23416666666517,
          0,
          344.1234999999984,
          345.28199999999833,
          344.186166666665,
          10.736166666666666,
          16.56116666666665,
          17.757,
          8.774333333333317,
          8.213166666666668,
          13.035833333333317,
          5.722833333333333,
          0,
          9.6975,
          14.023333333333316,
          1.7983333333333333,
          3.3153333333333332,
          1.7593333333333334,
          1.2828333333333333,
          0.4545,
          2.5415,
          0.83,
          1.5466666666666666,
          0.492,
          1.412,
          0.23399999999999999,
          0.19733333333333333,
          0.19733333333333333,
          0.35783333333333334,
          1.1780000000000002,
          0.17149999999999999,
          0.18566666666666667,
          0.24466666666666667,
          0.0385,
          1.4173333333333333,
          0.0385,
          0.123,
          0.34049999999999997,
          0,
          0.5055,
          0.123,
          0,
          0.123,
          0.31366666666666665,
          0.077,
          7.5343333333333335,
          0.9236666666666667,
          0.246,
          0.123,
          1.4895,
          0.223,
          0,
          0.3345,
          0,
          0.0615,
          1.4841666666666666,
          7.050833333333333,
          1.713,
          0.4165,
          1.23,
          2.057166666666667,
          3.0611666666666664,
          0.9359999999999999,
          0,
          3.3956666666666666,
          0.123,
          5.060666666666666,
          7.3475,
          3.2186666666666666,
          1.4216666666666666,
          3.9346666666666668,
          3.533333333333333,
          1.8256666666666668,
          0.8130000000000001,
          3.0628333333333333,
          6.983666666666666,
          5.244166666666667,
          2.960166666666667,
          45.245666666666665,
          1.9566666666666668,
          4.417833333333333,
          5.9995,
          2.745833333333333,
          10.4015,
          8.128499999999999,
          10.717666666666682,
          13.91566666666665,
          30.0255,
          19.102500000000003,
          23.47416666666667,
          10.62616666666665,
          5.6,
          21.093166666666665,
          1.4688333333333332,
          5.792833333333333,
          2.033,
          3.193166666666667,
          2.603666666666667,
          1.3968333333333334,
          0.7256666666666667,
          6.8925,
          5.9078333333333335,
          6.8935,
          3.9111666666666665,
          3.0319999999999996,
          249.47866666666167,
          62.16833333333183,
          346.6038333333317,
          344.988166666665,
          345.6678333333317,
          345.11083333333164,
          349.13133333333,
          0,
          249.49066666666167,
          161.7559999999985,
          11.665333333333317,
          19.240833333333335,
          20.5645,
          9.861499999999984,
          8.265333333333317,
          18.55183333333333,
          10.539333333333333,
          12.80016666666665,
          0,
          11.810499999999983,
          3.957333333333333,
          2.7841666666666667,
          5.8773333333333335,
          2.4930000000000003,
          2.7785,
          3.7245,
          1.5153333333333334,
          10.202333333333316,
          7.6025,
          0.1845,
          1.9688333333333332,
          0.04,
          0.0385,
          0.11583333333333333,
          1.2988333333333335,
          0.8368333333333333,
          1.1905000000000001,
          0.43716666666666665,
          0.35533333333333333,
          0.1825,
          2.3183333333333334,
          0.321,
          0,
          0,
          0.04916666666666667,
          0.0615,
          0,
          0.12233333333333334,
          0,
          0.04916666666666667,
          1.344,
          5.941833333333333,
          1.127,
          0,
          0.2595,
          0.24633333333333332,
          0,
          0,
          0.24716666666666667,
          0,
          1.1535,
          0.0615,
          4.215833333333333,
          0.321,
          0,
          0.47100000000000003,
          0.0615,
          0.9101666666666667,
          0.5670000000000001,
          0,
          0.8708333333333333,
          0.5535,
          0.0615,
          11.740999999999984,
          2.666,
          0.0615,
          1.1340000000000001,
          0.5459999999999999,
          0.0615,
          0.3431666666666667,
          8.874,
          7.961666666666667,
          0.4098333333333333,
          0,
          6.9525,
          5.05,
          0.198,
          1.9178333333333333,
          5.154333333333333,
          1.1351666666666667,
          11.60983333333335,
          0.4713333333333333,
          9.0895,
          3.0356666666666663,
          0.20666666666666667,
          18.99566666666667,
          0.198,
          2.481666666666667,
          6.156499999999999,
          2.9436666666666667,
          1.9018333333333333,
          0.13649999999999998,
          3.683333333333333,
          1.779,
          1.3746666666666667,
          3.969666666666667,
          5.8325,
          6.1925,
          1.4988333333333335,
          0.0615,
          345.549666666665,
          345.46899999999835,
          346.80033333333165,
          346.49349999999833,
          348.0501666666633,
          345.240666666665,
          345.6869999999983,
          346.53599999999835,
          0,
          347.00483333333165,
          16.475833333333316,
          15.990833333333317,
          21.0985,
          14.883833333333316,
          15.808666666666666,
          33.019333333333165,
          12.779999999999983,
          12.391333333333334,
          18.09916666666667,
          0,
          2.570666666666667,
          1.2950000000000002,
          11.110666666666667,
          8.882166666666667,
          3.4238333333333335,
          5.152666666666667,
          6.403333333333333,
          9.597666666666667,
          7.579166666666667,
          4.9784999999999995,
          1.4340000000000002,
          4.0245,
          2.9501666666666666,
          1.9508333333333332,
          0.522,
          0.21683333333333332,
          4.890333333333333,
          0.23399999999999999,
          1.8753333333333333,
          3.9040000000000004,
          0.5756666666666667,
          3.6353333333333335,
          0,
          0.13333333333333333,
          0.12233333333333334,
          1.2593333333333334,
          0.11916666666666649,
          2.6155,
          0.0375,
          0.03333333333333333,
          0.0615,
          0.0385,
          4.0235,
          0,
          0.123,
          0,
          0,
          0,
          0,
          0.0385,
          0.123,
          0.04916666666666667,
          0.0615,
          9.809500000000002,
          0,
          0,
          0.198,
          0,
          0.0615,
          0.123,
          0.198,
          0.6285000000000001,
          0.48666666666666664,
          0.4046666666666667,
          10.300666666666666,
          0.123,
          0.198,
          0.4046666666666667,
          0.478,
          0.6285000000000001,
          7.403333333333333,
          0.0615,
          6.3615,
          0.9765,
          0.4046666666666667,
          16.049333333333315,
          0.519,
          1.7763333333333333,
          3.7678333333333334,
          0.4046666666666667,
          0.6898333333333333,
          3.102,
          7.3933333333333335,
          0.8778333333333334,
          0.13649999999999998,
          5.251,
          53.47933333333351,
          3.549,
          2.9876666666666667,
          0.28,
          1.0676666666666668,
          0.6285000000000001,
          0.676,
          1.0450000000000002,
          2.1888333333333336,
          3.1991666666666663,
          0.4165,
          7.112666666666667,
          7.184166666666667,
          1.0418333333333334,
          345.9338333333317,
          346.22633333333164,
          347.26616666666337,
          344.77633333333165,
          249.21816666666166,
          346.978166666665,
          345.0394999999983,
          346.219166666665,
          345.740666666665,
          0.27616666666666667,
          19.939666666666668,
          20.411,
          30.463,
          20.778333333333332,
          19.596999999999998,
          25.566,
          21.24566666666667,
          13.799833333333334,
          21.589499999999997,
          17.653166666666667,
          0,
          9.723666666666666,
          11.447999999999983,
          14.446166666666649,
          5.8181666666666665,
          7.038333333333333,
          3.9251666666666667,
          3.6495,
          10.118333333333316,
          10.997999999999983,
          1.5926666666666667,
          1.0725,
          10.441333333333334,
          4.594666666666667,
          1.2734999999999999,
          5.192166666666666,
          1.1960000000000002,
          2.792666666666667,
          3.371666666666667,
          1.4768333333333332,
          0.33816666666666667,
          0.719,
          2.306,
          0.762,
          0.12000000000000001,
          0.0615,
          0.4071666666666667,
          0,
          0.3546666666666667,
          0.0385,
          0.0385,
          0,
          0,
          7.640666666666666,
          0.04916666666666667,
          0.04916666666666667,
          0.0615,
          0.6801666666666667,
          0,
          0.0385,
          0.642,
          0.04916666666666667,
          0,
          0.0615,
          6.314666666666667,
          0.04916666666666667,
          0,
          0.3825,
          0.145,
          0,
          0.6026666666666666,
          0.5670000000000001,
          0.7736666666666667,
          0,
          1.3671666666666666,
          9.971,
          0,
          0,
          0,
          0.13649999999999998,
          0,
          0.3431666666666667,
          0.4305,
          0.0615,
          0.20666666666666667,
          0.198,
          12.129333333333333,
          1.8924999999999998,
          0.0615,
          0,
          2.6801666666666666,
          0.6828333333333333,
          2.805,
          0.13649999999999998,
          15.837999999999983,
          4.3935,
          0.26816666666666666,
          23.686,
          0.0615,
          2.2935000000000003,
          0.198,
          0.2595,
          0.738,
          0.8966666666666666,
          0,
          2.103,
          0,
          2.9506666666666663,
          6.610666666666666,
          7.022333333333333,
          346.52399999999835,
          430.07250000001,
          429.37600000001004,
          427.33133333334337,
          429.58950000001,
          347.19649999999666,
          428.21883333334335,
          347.0419999999983,
          348.89516666666333,
          347.24366666666504,
          0.2658333333333333,
          16.719,
          19.7425,
          25.2485,
          17.39,
          17.416,
          29.538333333333334,
          19.300666666666665,
          26.775333333333332,
          31.4965,
          11.356333333333316,
          0.4305,
          4.5761666666666665,
          12.872666666666667,
          8.368333333333334,
          6.6770000000000005,
          10.796833333333332,
          14.51066666666665,
          4.728833333333333,
          11.81066666666665,
          4.23,
          5.936000000000001,
          2.3385000000000002,
          1.6666666666666667,
          7.949166666666667,
          8.854666666666667,
          0.8744999999999999,
          1.9675,
          4.596666666666667,
          6.698333333333333,
          0.38183333333333336,
          1.9055,
          0.4185,
          3.509666666666667,
          0.12100000000000016,
          0.0385,
          0.07183333333333333,
          1.8416666666666666,
          0.28933333333333333,
          1.6385,
          0.22,
          0,
          0.06666666666666667,
          0,
          3.2665,
          0,
          0.04916666666666667,
          0,
          0.077,
          0.353,
          0,
          0.04916666666666667,
          0,
          0,
          0,
          7.905666666666666,
          1.0283333333333333,
          0.08766666666666682,
          0,
          0,
          0.057666666666666665,
          0,
          0.198,
          0,
          0.0615,
          0,
          10.442499999999999,
          0.8744999999999999,
          0,
          0,
          0.26816666666666666,
          0,
          0,
          0.3345,
          0.198,
          0.27299999999999996,
          4.441166666666667,
          7.239333333333334,
          0,
          0,
          0,
          10.72833333333335,
          0,
          4.524500000000001,
          0,
          0.27299999999999996,
          0.20666666666666667,
          0,
          22.439166666666665,
          0,
          0.3431666666666667,
          0.0615,
          0,
          0.0615,
          0.198,
          0.123,
          0.13649999999999998,
          0.13649999999999998,
          0.0615,
          5.887833333333333,
          0.1315,
          348.1626666666633,
          347.7569999999967,
          429.4543333333433,
          346.76499999999834,
          346.3889999999983,
          430.10700000001,
          427.71483333334334,
          347.18749999999835,
          429.69900000000996,
          17.144166666666667,
          0.0615,
          30.18,
          41.43933333333317,
          17.625,
          13.036833333333334,
          18.345166666666668,
          8.096166666666651,
          21.356333333333335,
          19.533166666666666,
          11.586833333333335,
          18.589499999999997,
          0.0615,
          8.603333333333333,
          9.178833333333317,
          16.140999999999984,
          12.44766666666665,
          6.9055,
          11.615833333333317,
          12.472999999999983,
          3.8485,
          3.92,
          3.8016666666666667,
          1.182,
          3.195333333333333,
          7.680000000000001,
          3.6625,
          1.6336666666666682,
          8.023833333333334,
          2.4873333333333334,
          0.7855000000000001,
          1.2498333333333334,
          4.003333333333333,
          1.0781666666666667,
          2.211,
          2.342833333333333,
          1.4346666666666665,
          2.4975,
          1.0693333333333332,
          0.7946666666666666,
          0.076,
          0.07183333333333333,
          0.03333333333333333,
          0.1385,
          0.7073333333333333,
          5.190833333333333,
          0.46049999999999996,
          0.1608333333333335,
          1.268,
          0.4061666666666667,
          0.04916666666666667,
          0,
          0,
          0,
          0.11349999999999999,
          0.0615,
          6.698166666666666,
          0,
          0,
          0,
          0,
          0,
          0,
          0,
          0.04916666666666667,
          0.057666666666666505,
          0,
          13.652666666666649,
          0,
          0,
          0,
          0,
          0,
          0,
          0.198,
          0.0615,
          0,
          0,
          12.794999999999984,
          0,
          0.4165,
          1.6676666666666666,
          0.198,
          0,
          0.48666666666666664,
          0.0615,
          3.9219999999999997,
          0,
          0,
          13.634833333333317,
          0.20666666666666667
         ],
         "y0": " ",
         "yaxis": "y"
        }
       ],
       "layout": {
        "boxmode": "group",
        "height": 600,
        "legend": {
         "tracegroupgap": 0
        },
        "margin": {
         "t": 60
        },
        "template": {
         "data": {
          "bar": [
           {
            "error_x": {
             "color": "#2a3f5f"
            },
            "error_y": {
             "color": "#2a3f5f"
            },
            "marker": {
             "line": {
              "color": "#E5ECF6",
              "width": 0.5
             }
            },
            "type": "bar"
           }
          ],
          "barpolar": [
           {
            "marker": {
             "line": {
              "color": "#E5ECF6",
              "width": 0.5
             }
            },
            "type": "barpolar"
           }
          ],
          "carpet": [
           {
            "aaxis": {
             "endlinecolor": "#2a3f5f",
             "gridcolor": "white",
             "linecolor": "white",
             "minorgridcolor": "white",
             "startlinecolor": "#2a3f5f"
            },
            "baxis": {
             "endlinecolor": "#2a3f5f",
             "gridcolor": "white",
             "linecolor": "white",
             "minorgridcolor": "white",
             "startlinecolor": "#2a3f5f"
            },
            "type": "carpet"
           }
          ],
          "choropleth": [
           {
            "colorbar": {
             "outlinewidth": 0,
             "ticks": ""
            },
            "type": "choropleth"
           }
          ],
          "contour": [
           {
            "colorbar": {
             "outlinewidth": 0,
             "ticks": ""
            },
            "colorscale": [
             [
              0,
              "#0d0887"
             ],
             [
              0.1111111111111111,
              "#46039f"
             ],
             [
              0.2222222222222222,
              "#7201a8"
             ],
             [
              0.3333333333333333,
              "#9c179e"
             ],
             [
              0.4444444444444444,
              "#bd3786"
             ],
             [
              0.5555555555555556,
              "#d8576b"
             ],
             [
              0.6666666666666666,
              "#ed7953"
             ],
             [
              0.7777777777777778,
              "#fb9f3a"
             ],
             [
              0.8888888888888888,
              "#fdca26"
             ],
             [
              1,
              "#f0f921"
             ]
            ],
            "type": "contour"
           }
          ],
          "contourcarpet": [
           {
            "colorbar": {
             "outlinewidth": 0,
             "ticks": ""
            },
            "type": "contourcarpet"
           }
          ],
          "heatmap": [
           {
            "colorbar": {
             "outlinewidth": 0,
             "ticks": ""
            },
            "colorscale": [
             [
              0,
              "#0d0887"
             ],
             [
              0.1111111111111111,
              "#46039f"
             ],
             [
              0.2222222222222222,
              "#7201a8"
             ],
             [
              0.3333333333333333,
              "#9c179e"
             ],
             [
              0.4444444444444444,
              "#bd3786"
             ],
             [
              0.5555555555555556,
              "#d8576b"
             ],
             [
              0.6666666666666666,
              "#ed7953"
             ],
             [
              0.7777777777777778,
              "#fb9f3a"
             ],
             [
              0.8888888888888888,
              "#fdca26"
             ],
             [
              1,
              "#f0f921"
             ]
            ],
            "type": "heatmap"
           }
          ],
          "heatmapgl": [
           {
            "colorbar": {
             "outlinewidth": 0,
             "ticks": ""
            },
            "colorscale": [
             [
              0,
              "#0d0887"
             ],
             [
              0.1111111111111111,
              "#46039f"
             ],
             [
              0.2222222222222222,
              "#7201a8"
             ],
             [
              0.3333333333333333,
              "#9c179e"
             ],
             [
              0.4444444444444444,
              "#bd3786"
             ],
             [
              0.5555555555555556,
              "#d8576b"
             ],
             [
              0.6666666666666666,
              "#ed7953"
             ],
             [
              0.7777777777777778,
              "#fb9f3a"
             ],
             [
              0.8888888888888888,
              "#fdca26"
             ],
             [
              1,
              "#f0f921"
             ]
            ],
            "type": "heatmapgl"
           }
          ],
          "histogram": [
           {
            "marker": {
             "colorbar": {
              "outlinewidth": 0,
              "ticks": ""
             }
            },
            "type": "histogram"
           }
          ],
          "histogram2d": [
           {
            "colorbar": {
             "outlinewidth": 0,
             "ticks": ""
            },
            "colorscale": [
             [
              0,
              "#0d0887"
             ],
             [
              0.1111111111111111,
              "#46039f"
             ],
             [
              0.2222222222222222,
              "#7201a8"
             ],
             [
              0.3333333333333333,
              "#9c179e"
             ],
             [
              0.4444444444444444,
              "#bd3786"
             ],
             [
              0.5555555555555556,
              "#d8576b"
             ],
             [
              0.6666666666666666,
              "#ed7953"
             ],
             [
              0.7777777777777778,
              "#fb9f3a"
             ],
             [
              0.8888888888888888,
              "#fdca26"
             ],
             [
              1,
              "#f0f921"
             ]
            ],
            "type": "histogram2d"
           }
          ],
          "histogram2dcontour": [
           {
            "colorbar": {
             "outlinewidth": 0,
             "ticks": ""
            },
            "colorscale": [
             [
              0,
              "#0d0887"
             ],
             [
              0.1111111111111111,
              "#46039f"
             ],
             [
              0.2222222222222222,
              "#7201a8"
             ],
             [
              0.3333333333333333,
              "#9c179e"
             ],
             [
              0.4444444444444444,
              "#bd3786"
             ],
             [
              0.5555555555555556,
              "#d8576b"
             ],
             [
              0.6666666666666666,
              "#ed7953"
             ],
             [
              0.7777777777777778,
              "#fb9f3a"
             ],
             [
              0.8888888888888888,
              "#fdca26"
             ],
             [
              1,
              "#f0f921"
             ]
            ],
            "type": "histogram2dcontour"
           }
          ],
          "mesh3d": [
           {
            "colorbar": {
             "outlinewidth": 0,
             "ticks": ""
            },
            "type": "mesh3d"
           }
          ],
          "parcoords": [
           {
            "line": {
             "colorbar": {
              "outlinewidth": 0,
              "ticks": ""
             }
            },
            "type": "parcoords"
           }
          ],
          "scatter": [
           {
            "marker": {
             "colorbar": {
              "outlinewidth": 0,
              "ticks": ""
             }
            },
            "type": "scatter"
           }
          ],
          "scatter3d": [
           {
            "line": {
             "colorbar": {
              "outlinewidth": 0,
              "ticks": ""
             }
            },
            "marker": {
             "colorbar": {
              "outlinewidth": 0,
              "ticks": ""
             }
            },
            "type": "scatter3d"
           }
          ],
          "scattercarpet": [
           {
            "marker": {
             "colorbar": {
              "outlinewidth": 0,
              "ticks": ""
             }
            },
            "type": "scattercarpet"
           }
          ],
          "scattergeo": [
           {
            "marker": {
             "colorbar": {
              "outlinewidth": 0,
              "ticks": ""
             }
            },
            "type": "scattergeo"
           }
          ],
          "scattergl": [
           {
            "marker": {
             "colorbar": {
              "outlinewidth": 0,
              "ticks": ""
             }
            },
            "type": "scattergl"
           }
          ],
          "scattermapbox": [
           {
            "marker": {
             "colorbar": {
              "outlinewidth": 0,
              "ticks": ""
             }
            },
            "type": "scattermapbox"
           }
          ],
          "scatterpolar": [
           {
            "marker": {
             "colorbar": {
              "outlinewidth": 0,
              "ticks": ""
             }
            },
            "type": "scatterpolar"
           }
          ],
          "scatterpolargl": [
           {
            "marker": {
             "colorbar": {
              "outlinewidth": 0,
              "ticks": ""
             }
            },
            "type": "scatterpolargl"
           }
          ],
          "scatterternary": [
           {
            "marker": {
             "colorbar": {
              "outlinewidth": 0,
              "ticks": ""
             }
            },
            "type": "scatterternary"
           }
          ],
          "surface": [
           {
            "colorbar": {
             "outlinewidth": 0,
             "ticks": ""
            },
            "colorscale": [
             [
              0,
              "#0d0887"
             ],
             [
              0.1111111111111111,
              "#46039f"
             ],
             [
              0.2222222222222222,
              "#7201a8"
             ],
             [
              0.3333333333333333,
              "#9c179e"
             ],
             [
              0.4444444444444444,
              "#bd3786"
             ],
             [
              0.5555555555555556,
              "#d8576b"
             ],
             [
              0.6666666666666666,
              "#ed7953"
             ],
             [
              0.7777777777777778,
              "#fb9f3a"
             ],
             [
              0.8888888888888888,
              "#fdca26"
             ],
             [
              1,
              "#f0f921"
             ]
            ],
            "type": "surface"
           }
          ],
          "table": [
           {
            "cells": {
             "fill": {
              "color": "#EBF0F8"
             },
             "line": {
              "color": "white"
             }
            },
            "header": {
             "fill": {
              "color": "#C8D4E3"
             },
             "line": {
              "color": "white"
             }
            },
            "type": "table"
           }
          ]
         },
         "layout": {
          "annotationdefaults": {
           "arrowcolor": "#2a3f5f",
           "arrowhead": 0,
           "arrowwidth": 1
          },
          "colorscale": {
           "diverging": [
            [
             0,
             "#8e0152"
            ],
            [
             0.1,
             "#c51b7d"
            ],
            [
             0.2,
             "#de77ae"
            ],
            [
             0.3,
             "#f1b6da"
            ],
            [
             0.4,
             "#fde0ef"
            ],
            [
             0.5,
             "#f7f7f7"
            ],
            [
             0.6,
             "#e6f5d0"
            ],
            [
             0.7,
             "#b8e186"
            ],
            [
             0.8,
             "#7fbc41"
            ],
            [
             0.9,
             "#4d9221"
            ],
            [
             1,
             "#276419"
            ]
           ],
           "sequential": [
            [
             0,
             "#0d0887"
            ],
            [
             0.1111111111111111,
             "#46039f"
            ],
            [
             0.2222222222222222,
             "#7201a8"
            ],
            [
             0.3333333333333333,
             "#9c179e"
            ],
            [
             0.4444444444444444,
             "#bd3786"
            ],
            [
             0.5555555555555556,
             "#d8576b"
            ],
            [
             0.6666666666666666,
             "#ed7953"
            ],
            [
             0.7777777777777778,
             "#fb9f3a"
            ],
            [
             0.8888888888888888,
             "#fdca26"
            ],
            [
             1,
             "#f0f921"
            ]
           ],
           "sequentialminus": [
            [
             0,
             "#0d0887"
            ],
            [
             0.1111111111111111,
             "#46039f"
            ],
            [
             0.2222222222222222,
             "#7201a8"
            ],
            [
             0.3333333333333333,
             "#9c179e"
            ],
            [
             0.4444444444444444,
             "#bd3786"
            ],
            [
             0.5555555555555556,
             "#d8576b"
            ],
            [
             0.6666666666666666,
             "#ed7953"
            ],
            [
             0.7777777777777778,
             "#fb9f3a"
            ],
            [
             0.8888888888888888,
             "#fdca26"
            ],
            [
             1,
             "#f0f921"
            ]
           ]
          },
          "colorway": [
           "#636efa",
           "#EF553B",
           "#00cc96",
           "#ab63fa",
           "#FFA15A",
           "#19d3f3",
           "#FF6692",
           "#B6E880",
           "#FF97FF",
           "#FECB52"
          ],
          "font": {
           "color": "#2a3f5f"
          },
          "geo": {
           "bgcolor": "white",
           "lakecolor": "white",
           "landcolor": "#E5ECF6",
           "showlakes": true,
           "showland": true,
           "subunitcolor": "white"
          },
          "hoverlabel": {
           "align": "left"
          },
          "hovermode": "closest",
          "mapbox": {
           "style": "light"
          },
          "paper_bgcolor": "white",
          "plot_bgcolor": "#E5ECF6",
          "polar": {
           "angularaxis": {
            "gridcolor": "white",
            "linecolor": "white",
            "ticks": ""
           },
           "bgcolor": "#E5ECF6",
           "radialaxis": {
            "gridcolor": "white",
            "linecolor": "white",
            "ticks": ""
           }
          },
          "scene": {
           "xaxis": {
            "backgroundcolor": "#E5ECF6",
            "gridcolor": "white",
            "gridwidth": 2,
            "linecolor": "white",
            "showbackground": true,
            "ticks": "",
            "zerolinecolor": "white"
           },
           "yaxis": {
            "backgroundcolor": "#E5ECF6",
            "gridcolor": "white",
            "gridwidth": 2,
            "linecolor": "white",
            "showbackground": true,
            "ticks": "",
            "zerolinecolor": "white"
           },
           "zaxis": {
            "backgroundcolor": "#E5ECF6",
            "gridcolor": "white",
            "gridwidth": 2,
            "linecolor": "white",
            "showbackground": true,
            "ticks": "",
            "zerolinecolor": "white"
           }
          },
          "shapedefaults": {
           "line": {
            "color": "#2a3f5f"
           }
          },
          "ternary": {
           "aaxis": {
            "gridcolor": "white",
            "linecolor": "white",
            "ticks": ""
           },
           "baxis": {
            "gridcolor": "white",
            "linecolor": "white",
            "ticks": ""
           },
           "bgcolor": "#E5ECF6",
           "caxis": {
            "gridcolor": "white",
            "linecolor": "white",
            "ticks": ""
           }
          },
          "title": {
           "x": 0.05
          },
          "xaxis": {
           "automargin": true,
           "gridcolor": "white",
           "linecolor": "white",
           "ticks": "",
           "zerolinecolor": "white",
           "zerolinewidth": 2
          },
          "yaxis": {
           "automargin": true,
           "gridcolor": "white",
           "linecolor": "white",
           "ticks": "",
           "zerolinecolor": "white",
           "zerolinewidth": 2
          }
         }
        },
        "xaxis": {
         "anchor": "y",
         "domain": [
          0,
          0.98
         ]
        },
        "yaxis": {
         "anchor": "x",
         "domain": [
          0,
          1
         ],
         "title": {
          "text": "process_delay_minutes"
         }
        }
       }
      },
      "text/html": [
       "<div>\n",
       "        \n",
       "        \n",
       "            <div id=\"50d745b0-0993-431d-84f8-839d0cd6767d\" class=\"plotly-graph-div\" style=\"height:600px; width:100%;\"></div>\n",
       "            <script type=\"text/javascript\">\n",
       "                require([\"plotly\"], function(Plotly) {\n",
       "                    window.PLOTLYENV=window.PLOTLYENV || {};\n",
       "                    \n",
       "                if (document.getElementById(\"50d745b0-0993-431d-84f8-839d0cd6767d\")) {\n",
       "                    Plotly.newPlot(\n",
       "                        '50d745b0-0993-431d-84f8-839d0cd6767d',\n",
       "                        [{\"alignmentgroup\": \"True\", \"hoverlabel\": {\"namelength\": 0}, \"hovertemplate\": \"controller_name=naive<br>process_delay_minutes=%{y}\", \"legendgroup\": \"controller_name=naive\", \"marker\": {\"color\": \"#636efa\"}, \"name\": \"controller_name=naive\", \"notched\": false, \"offsetgroup\": \"controller_name=naive\", \"orientation\": \"v\", \"showlegend\": true, \"type\": \"box\", \"x0\": \" \", \"xaxis\": \"x\", \"y\": [0.0, 0.0, 428.12250000001, 427.53316666667666, 346.2774999999983, 429.95016666667664, 347.08583333333, 429.59166666667664, 429.2366666666767, 19.201999999999998, 43.39299999999983, 25.6855, 0.0, 16.767, 14.001333333333317, 13.100166666666667, 30.329666666666665, 53.5531666666665, 42.20433333333334, 10.497333333333318, 12.376999999999983, 6.807833333333334, 11.74266666666665, 0.0, 8.607666666666667, 11.955333333333318, 6.274500000000001, 11.222999999999983, 12.71466666666665, 3.079333333333333, 2.9986666666666664, 4.682166666666666, 6.326833333333334, 6.930000000000001, 0.7515000000000001, 4.6695, 8.470666666666666, 5.033833333333333, 5.178333333333333, 3.4238333333333335, 2.291166666666667, 1.6315, 4.026666666666666, 2.7338333333333336, 0.5395, 3.4853333333333336, 2.225, 2.13, 2.9963333333333333, 0.3958333333333333, 0.4475, 0.26066666666666666, 0.3571666666666667, 0.3495, 0.21583333333333332, 0.17183333333333334, 2.8973333333333335, 0.15666666666666648, 0.6291666666666667, 0.0, 0.0, 0.1285, 0.07183333333333333, 0.0, 0.08666666666666667, 0.076, 0.21, 6.665666666666667, 0.04916666666666667, 0.0, 0.0, 0.0, 0.0, 0.0, 0.1608333333333335, 0.0, 0.0375, 0.0385, 9.619499999999999, 0.0, 0.0, 0.0, 0.0, 0.0, 0.0, 0.0, 0.0, 0.0, 0.0, 14.73266666666665, 0.0, 0.0615, 0.0, 0.28, 0.0, 0.0, 0.0, 0.0, 0.0, 0.0, 6.050666666666667, 0.0, 0.0, 0.0615, 0.20666666666666667, 0.0, 0.13649999999999998, 0.0, 0.2588333333333333, 429.2528333333433, 347.53283333333, 0.0, 0.0, 347.33883333333, 346.72183333333163, 429.4616666666767, 428.81400000001, 428.50266666667665, 429.5758333333433, 32.873666666666665, 36.97199999999984, 18.073333333333334, 23.567666666666664, 10.547333333333334, 9.519833333333334, 31.906166666666664, 21.81683333333333, 23.939166666666665, 36.6471666666665, 11.483333333333317, 12.980999999999984, 7.4206666666666665, 14.611166666666652, 10.41016666666665, 0.0, 16.06766666666665, 10.455333333333334, 17.207, 10.67266666666665, 14.19233333333335, 6.999333333333333, 7.502666666666667, 5.66, 11.354833333333334, 8.390333333333334, 0.0, 5.757499999999999, 2.818, 8.978333333333333, 1.1736666666666666, 2.3314999999999997, 1.8270000000000002, 3.1285000000000003, 2.084, 2.1745, 1.8913333333333333, 0.9975, 1.8521666666666665, 3.4084999999999996, 0.8695, 0.23683333333333334, 0.4871666666666667, 0.21683333333333332, 0.6715, 0.8516666666666667, 0.855, 2.5146666666666664, 3.3305000000000002, 0.8351666666666666, 0.35983333333333334, 0.0, 0.03333333333333333, 0.15900000000000017, 0.20133333333333334, 0.0, 0.08666666666666667, 0.08766666666666682, 0.2588333333333333, 4.0361666666666665, 0.0, 0.0, 0.0, 0.0, 0.077, 0.0, 0.0, 0.04916666666666667, 0.0, 0.0, 19.3265, 0.18566666666666667, 0.27616666666666667, 0.0, 0.0, 0.0, 0.0, 0.0, 0.0, 0.0, 0.0, 32.829166666666666, 0.0, 0.0, 0.0, 0.2558333333333333, 0.0, 0.0, 0.0, 0.0, 0.0, 0.0, 5.491, 0.0, 0.0, 0.0, 0.0, 0.0, 0.0, 0.0, 429.6791666666767, 428.34350000001, 429.8243333333433, 0.0, 61.211833333332, 429.81950000000995, 429.4353333333433, 429.32983333334334, 347.6499999999967, 429.04350000001, 21.838, 26.901999999999997, 30.21466666666667, 30.78783333333333, 18.8775, 0.45249999999999996, 36.05466666666667, 0.0, 0.436, 7.24266666666665, 0.0615, 0.0, 0.0, 0.7633333333333333, 0.1358333333333335, 0.5055, 0.1, 0.0615, 0.0615, 0.0615, 0.123, 0.0615, 0.0, 0.0, 0.3345, 0.0, 1.4031666666666667, 0.5670000000000001, 1.4291666666666667, 0.8535, 1.2263333333333333, 0.738, 0.321, 0.7785, 0.7515000000000001, 1.011, 1.0466666666666666, 3.9758333333333336, 1.7231666666666667, 0.321, 6.302666666666667, 4.4605, 3.0225, 2.379833333333333, 6.150499999999999, 2.701, 2.102, 2.1331666666666664, 4.831666666666666, 4.665, 7.691666666666666, 2.3981666666666666, 3.1578333333333335, 8.377666666666666, 5.402666666666667, 8.7605, 3.2263333333333337, 5.168166666666666, 4.794, 8.8835, 4.1765, 7.9605, 5.312, 19.81683333333333, 5.115333333333334, 5.494666666666666, 5.105, 8.732666666666667, 8.521666666666667, 12.264833333333316, 12.122333333333334, 19.233666666666668, 12.213999999999983, 16.084999999999983, 11.189333333333334, 7.351333333333333, 19.841, 17.192999999999998, 9.907833333333334, 39.88166666666667, 28.245166666666666, 19.132333333333335, 15.172999999999982, 5.917833333333333, 36.7825, 42.211666666666666, 22.693166666666666, 25.9815, 34.20483333333333, 8.1455, 4.096, 6.136333333333334, 7.399500000000001, 6.045833333333333, 5.2909999999999995, 5.172, 6.834666666666666, 6.291833333333333, 5.549, 5.705666666666667, 160.1024999999985, 60.843333333332, 249.67999999999498, 61.33816666666533, 0.0615, 248.028999999995, 161.61283333333182, 62.66883333333183, 160.77666666666516, 0.5541666666666667, 1.4571666666666667, 14.562166666666666, 0.9476666666666667, 5.164666666666666, 0.0, 0.27616666666666667, 1.4953333333333334, 2.260166666666667, 1.1631666666666667, 13.071, 0.15983333333333333, 0.04916666666666667, 0.0, 0.0, 0.057666666666666505, 0.0385, 1.0236666666666667, 0.49033333333333334, 0.0, 0.14816666666666667, 0.123, 0.123, 0.0, 0.123, 0.0, 0.30966666666666665, 0.0615, 1.3935, 0.444, 0.28500000000000003, 0.9359999999999999, 0.0, 0.9495, 1.551, 0.0, 0.0385, 0.7256666666666667, 0.3345, 4.5233333333333325, 0.0, 0.6728333333333333, 1.7441666666666669, 1.7916666666666667, 1.7906666666666666, 1.6271666666666667, 6.5455000000000005, 1.6703333333333332, 1.1561666666666668, 0.963, 5.3875, 6.676, 3.8266666666666667, 3.916, 1.4145, 5.817333333333334, 9.868666666666666, 4.572500000000001, 6.092666666666667, 3.4853333333333336, 0.7035, 11.625999999999983, 6.91, 4.0344999999999995, 5.032666666666667, 5.412000000000001, 3.9338333333333333, 9.477333333333332, 3.711, 9.388, 5.652333333333333, 15.38616666666665, 14.302499999999982, 16.098999999999982, 2.8078333333333334, 16.329833333333333, 3.4766666666666666, 8.0615, 3.8881666666666663, 10.297833333333317, 13.718499999999983, 9.597000000000001, 10.541166666666667, 27.416166666666665, 18.12066666666667, 10.065000000000017, 9.351666666666667, 15.403333333333316, 25.35216666666667, 4.580666666666667, 9.5845, 4.644333333333334, 5.026666666666667, 5.658166666666667, 5.899166666666667, 6.261, 4.616666666666666, 3.6795, 2.95, 5.412333333333334, 3.9680000000000004, 250.92216666666167, 347.15633333333, 162.3416666666652, 344.67166666666503, 161.70083333333184, 0.0, 161.5189999999985, 345.47099999999836, 61.89766666666517, 0.2831666666666666, 1.1416666666666666, 4.351333333333333, 8.301499999999999, 5.872333333333333, 10.620833333333316, 3.7984999999999998, 0.11166666666666666, 0.38233333333333336, 5.7585, 0.6541666666666667, 0.07083333333333333, 0.9583333333333334, 0.885, 0.31783333333333336, 0.0, 0.909, 2.058333333333333, 0.222, 1.8656666666666666, 0.9958333333333333, 0.3456666666666666, 0.0825, 0.0, 2.791333333333333, 0.0, 0.0, 0.0615, 0.2585, 1.5878333333333332, 0.175, 0.3203333333333333, 0.0, 0.14916666666666664, 0.0615, 0.246, 0.0, 0.0, 0.444, 0.0, 2.928, 0.7035, 0.0615, 3.4508333333333336, 0.0615, 0.123, 0.9359999999999999, 0.45749999999999996, 0.6728333333333333, 0.888, 0.3825, 12.126833333333316, 0.27299999999999996, 0.198, 0.5325, 2.225, 0.8265, 4.144166666666667, 1.0758333333333332, 6.183000000000001, 3.795, 4.597833333333333, 9.0255, 12.688166666666651, 0.642, 4.691166666666667, 5.546166666666666, 3.3606666666666665, 3.4578333333333333, 7.384166666666667, 7.551, 4.264, 6.694500000000001, 16.696, 3.4388333333333336, 5.105, 1.4753333333333332, 9.269833333333334, 6.661666666666666, 6.254666666666666, 5.17, 8.319333333333335, 15.203333333333317, 4.936166666666667, 19.141000000000002, 13.50816666666665, 11.72283333333335, 6.6795, 3.888, 6.362833333333333, 7.102833333333334, 3.4233333333333333, 5.060333333333333, 3.1496666666666666, 2.022, 6.605666666666666, 6.545833333333333, 3.2643333333333335, 2.1256666666666666, 5.557833333333334, 5.319333333333334, 248.10916666666165, 161.96416666666516, 248.69633333332834, 247.70166666666168, 249.62533333332834, 163.23416666666517, 0.0, 344.1234999999984, 345.28199999999833, 344.186166666665, 10.736166666666666, 16.56116666666665, 17.757, 8.774333333333317, 8.213166666666668, 13.035833333333317, 5.722833333333333, 0.0, 9.6975, 14.023333333333316, 1.7983333333333333, 3.3153333333333332, 1.7593333333333334, 1.2828333333333333, 0.4545, 2.5415, 0.83, 1.5466666666666666, 0.492, 1.412, 0.23399999999999999, 0.19733333333333333, 0.19733333333333333, 0.35783333333333334, 1.1780000000000002, 0.17149999999999999, 0.18566666666666667, 0.24466666666666667, 0.0385, 1.4173333333333333, 0.0385, 0.123, 0.34049999999999997, 0.0, 0.5055, 0.123, 0.0, 0.123, 0.31366666666666665, 0.077, 7.5343333333333335, 0.9236666666666667, 0.246, 0.123, 1.4895, 0.223, 0.0, 0.3345, 0.0, 0.0615, 1.4841666666666666, 7.050833333333333, 1.713, 0.4165, 1.23, 2.057166666666667, 3.0611666666666664, 0.9359999999999999, 0.0, 3.3956666666666666, 0.123, 5.060666666666666, 7.3475, 3.2186666666666666, 1.4216666666666666, 3.9346666666666668, 3.533333333333333, 1.8256666666666668, 0.8130000000000001, 3.0628333333333333, 6.983666666666666, 5.244166666666667, 2.960166666666667, 45.245666666666665, 1.9566666666666668, 4.417833333333333, 5.9995, 2.745833333333333, 10.4015, 8.128499999999999, 10.717666666666682, 13.91566666666665, 30.0255, 19.102500000000003, 23.47416666666667, 10.62616666666665, 5.6, 21.093166666666665, 1.4688333333333332, 5.792833333333333, 2.033, 3.193166666666667, 2.603666666666667, 1.3968333333333334, 0.7256666666666667, 6.8925, 5.9078333333333335, 6.8935, 3.9111666666666665, 3.0319999999999996, 249.47866666666167, 62.16833333333183, 346.6038333333317, 344.988166666665, 345.6678333333317, 345.11083333333164, 349.13133333333, 0.0, 249.49066666666167, 161.7559999999985, 11.665333333333317, 19.240833333333335, 20.5645, 9.861499999999984, 8.265333333333317, 18.55183333333333, 10.539333333333333, 12.80016666666665, 0.0, 11.810499999999983, 3.957333333333333, 2.7841666666666667, 5.8773333333333335, 2.4930000000000003, 2.7785, 3.7245, 1.5153333333333334, 10.202333333333316, 7.6025, 0.1845, 1.9688333333333332, 0.04, 0.0385, 0.11583333333333333, 1.2988333333333335, 0.8368333333333333, 1.1905000000000001, 0.43716666666666665, 0.35533333333333333, 0.1825, 2.3183333333333334, 0.321, 0.0, 0.0, 0.04916666666666667, 0.0615, 0.0, 0.12233333333333334, 0.0, 0.04916666666666667, 1.344, 5.941833333333333, 1.127, 0.0, 0.2595, 0.24633333333333332, 0.0, 0.0, 0.24716666666666667, 0.0, 1.1535, 0.0615, 4.215833333333333, 0.321, 0.0, 0.47100000000000003, 0.0615, 0.9101666666666667, 0.5670000000000001, 0.0, 0.8708333333333333, 0.5535, 0.0615, 11.740999999999984, 2.666, 0.0615, 1.1340000000000001, 0.5459999999999999, 0.0615, 0.3431666666666667, 8.874, 7.961666666666667, 0.4098333333333333, 0.0, 6.9525, 5.05, 0.198, 1.9178333333333333, 5.154333333333333, 1.1351666666666667, 11.60983333333335, 0.4713333333333333, 9.0895, 3.0356666666666663, 0.20666666666666667, 18.99566666666667, 0.198, 2.481666666666667, 6.156499999999999, 2.9436666666666667, 1.9018333333333333, 0.13649999999999998, 3.683333333333333, 1.779, 1.3746666666666667, 3.969666666666667, 5.8325, 6.1925, 1.4988333333333335, 0.0615, 345.549666666665, 345.46899999999835, 346.80033333333165, 346.49349999999833, 348.0501666666633, 345.240666666665, 345.6869999999983, 346.53599999999835, 0.0, 347.00483333333165, 16.475833333333316, 15.990833333333317, 21.0985, 14.883833333333316, 15.808666666666666, 33.019333333333165, 12.779999999999983, 12.391333333333334, 18.09916666666667, 0.0, 2.570666666666667, 1.2950000000000002, 11.110666666666667, 8.882166666666667, 3.4238333333333335, 5.152666666666667, 6.403333333333333, 9.597666666666667, 7.579166666666667, 4.9784999999999995, 1.4340000000000002, 4.0245, 2.9501666666666666, 1.9508333333333332, 0.522, 0.21683333333333332, 4.890333333333333, 0.23399999999999999, 1.8753333333333333, 3.9040000000000004, 0.5756666666666667, 3.6353333333333335, 0.0, 0.13333333333333333, 0.12233333333333334, 1.2593333333333334, 0.11916666666666649, 2.6155, 0.0375, 0.03333333333333333, 0.0615, 0.0385, 4.0235, 0.0, 0.123, 0.0, 0.0, 0.0, 0.0, 0.0385, 0.123, 0.04916666666666667, 0.0615, 9.809500000000002, 0.0, 0.0, 0.198, 0.0, 0.0615, 0.123, 0.198, 0.6285000000000001, 0.48666666666666664, 0.4046666666666667, 10.300666666666666, 0.123, 0.198, 0.4046666666666667, 0.478, 0.6285000000000001, 7.403333333333333, 0.0615, 6.3615, 0.9765, 0.4046666666666667, 16.049333333333315, 0.519, 1.7763333333333333, 3.7678333333333334, 0.4046666666666667, 0.6898333333333333, 3.102, 7.3933333333333335, 0.8778333333333334, 0.13649999999999998, 5.251, 53.47933333333351, 3.549, 2.9876666666666667, 0.28, 1.0676666666666668, 0.6285000000000001, 0.676, 1.0450000000000002, 2.1888333333333336, 3.1991666666666663, 0.4165, 7.112666666666667, 7.184166666666667, 1.0418333333333334, 345.9338333333317, 346.22633333333164, 347.26616666666337, 344.77633333333165, 249.21816666666166, 346.978166666665, 345.0394999999983, 346.219166666665, 345.740666666665, 0.27616666666666667, 19.939666666666668, 20.411, 30.463, 20.778333333333332, 19.596999999999998, 25.566, 21.24566666666667, 13.799833333333334, 21.589499999999997, 17.653166666666667, 0.0, 9.723666666666666, 11.447999999999983, 14.446166666666649, 5.8181666666666665, 7.038333333333333, 3.9251666666666667, 3.6495, 10.118333333333316, 10.997999999999983, 1.5926666666666667, 1.0725, 10.441333333333334, 4.594666666666667, 1.2734999999999999, 5.192166666666666, 1.1960000000000002, 2.792666666666667, 3.371666666666667, 1.4768333333333332, 0.33816666666666667, 0.719, 2.306, 0.762, 0.12000000000000001, 0.0615, 0.4071666666666667, 0.0, 0.3546666666666667, 0.0385, 0.0385, 0.0, 0.0, 7.640666666666666, 0.04916666666666667, 0.04916666666666667, 0.0615, 0.6801666666666667, 0.0, 0.0385, 0.642, 0.04916666666666667, 0.0, 0.0615, 6.314666666666667, 0.04916666666666667, 0.0, 0.3825, 0.145, 0.0, 0.6026666666666666, 0.5670000000000001, 0.7736666666666667, 0.0, 1.3671666666666666, 9.971, 0.0, 0.0, 0.0, 0.13649999999999998, 0.0, 0.3431666666666667, 0.4305, 0.0615, 0.20666666666666667, 0.198, 12.129333333333333, 1.8924999999999998, 0.0615, 0.0, 2.6801666666666666, 0.6828333333333333, 2.805, 0.13649999999999998, 15.837999999999983, 4.3935, 0.26816666666666666, 23.686, 0.0615, 2.2935000000000003, 0.198, 0.2595, 0.738, 0.8966666666666666, 0.0, 2.103, 0.0, 2.9506666666666663, 6.610666666666666, 7.022333333333333, 346.52399999999835, 430.07250000001, 429.37600000001004, 427.33133333334337, 429.58950000001, 347.19649999999666, 428.21883333334335, 347.0419999999983, 348.89516666666333, 347.24366666666504, 0.2658333333333333, 16.719, 19.7425, 25.2485, 17.39, 17.416, 29.538333333333334, 19.300666666666665, 26.775333333333332, 31.4965, 11.356333333333316, 0.4305, 4.5761666666666665, 12.872666666666667, 8.368333333333334, 6.6770000000000005, 10.796833333333332, 14.51066666666665, 4.728833333333333, 11.81066666666665, 4.23, 5.936000000000001, 2.3385000000000002, 1.6666666666666667, 7.949166666666667, 8.854666666666667, 0.8744999999999999, 1.9675, 4.596666666666667, 6.698333333333333, 0.38183333333333336, 1.9055, 0.4185, 3.509666666666667, 0.12100000000000016, 0.0385, 0.07183333333333333, 1.8416666666666666, 0.28933333333333333, 1.6385, 0.22, 0.0, 0.06666666666666667, 0.0, 3.2665, 0.0, 0.04916666666666667, 0.0, 0.077, 0.353, 0.0, 0.04916666666666667, 0.0, 0.0, 0.0, 7.905666666666666, 1.0283333333333333, 0.08766666666666682, 0.0, 0.0, 0.057666666666666665, 0.0, 0.198, 0.0, 0.0615, 0.0, 10.442499999999999, 0.8744999999999999, 0.0, 0.0, 0.26816666666666666, 0.0, 0.0, 0.3345, 0.198, 0.27299999999999996, 4.441166666666667, 7.239333333333334, 0.0, 0.0, 0.0, 10.72833333333335, 0.0, 4.524500000000001, 0.0, 0.27299999999999996, 0.20666666666666667, 0.0, 22.439166666666665, 0.0, 0.3431666666666667, 0.0615, 0.0, 0.0615, 0.198, 0.123, 0.13649999999999998, 0.13649999999999998, 0.0615, 5.887833333333333, 0.1315, 348.1626666666633, 347.7569999999967, 429.4543333333433, 346.76499999999834, 346.3889999999983, 430.10700000001, 427.71483333334334, 347.18749999999835, 429.69900000000996, 17.144166666666667, 0.0615, 30.18, 41.43933333333317, 17.625, 13.036833333333334, 18.345166666666668, 8.096166666666651, 21.356333333333335, 19.533166666666666, 11.586833333333335, 18.589499999999997, 0.0615, 8.603333333333333, 9.178833333333317, 16.140999999999984, 12.44766666666665, 6.9055, 11.615833333333317, 12.472999999999983, 3.8485, 3.92, 3.8016666666666667, 1.182, 3.195333333333333, 7.680000000000001, 3.6625, 1.6336666666666682, 8.023833333333334, 2.4873333333333334, 0.7855000000000001, 1.2498333333333334, 4.003333333333333, 1.0781666666666667, 2.211, 2.342833333333333, 1.4346666666666665, 2.4975, 1.0693333333333332, 0.7946666666666666, 0.076, 0.07183333333333333, 0.03333333333333333, 0.1385, 0.7073333333333333, 5.190833333333333, 0.46049999999999996, 0.1608333333333335, 1.268, 0.4061666666666667, 0.04916666666666667, 0.0, 0.0, 0.0, 0.11349999999999999, 0.0615, 6.698166666666666, 0.0, 0.0, 0.0, 0.0, 0.0, 0.0, 0.0, 0.04916666666666667, 0.057666666666666505, 0.0, 13.652666666666649, 0.0, 0.0, 0.0, 0.0, 0.0, 0.0, 0.198, 0.0615, 0.0, 0.0, 12.794999999999984, 0.0, 0.4165, 1.6676666666666666, 0.198, 0.0, 0.48666666666666664, 0.0615, 3.9219999999999997, 0.0, 0.0, 13.634833333333317, 0.20666666666666667], \"y0\": \" \", \"yaxis\": \"y\"}],\n",
       "                        {\"boxmode\": \"group\", \"height\": 600, \"legend\": {\"tracegroupgap\": 0}, \"margin\": {\"t\": 60}, \"template\": {\"data\": {\"bar\": [{\"error_x\": {\"color\": \"#2a3f5f\"}, \"error_y\": {\"color\": \"#2a3f5f\"}, \"marker\": {\"line\": {\"color\": \"#E5ECF6\", \"width\": 0.5}}, \"type\": \"bar\"}], \"barpolar\": [{\"marker\": {\"line\": {\"color\": \"#E5ECF6\", \"width\": 0.5}}, \"type\": \"barpolar\"}], \"carpet\": [{\"aaxis\": {\"endlinecolor\": \"#2a3f5f\", \"gridcolor\": \"white\", \"linecolor\": \"white\", \"minorgridcolor\": \"white\", \"startlinecolor\": \"#2a3f5f\"}, \"baxis\": {\"endlinecolor\": \"#2a3f5f\", \"gridcolor\": \"white\", \"linecolor\": \"white\", \"minorgridcolor\": \"white\", \"startlinecolor\": \"#2a3f5f\"}, \"type\": \"carpet\"}], \"choropleth\": [{\"colorbar\": {\"outlinewidth\": 0, \"ticks\": \"\"}, \"type\": \"choropleth\"}], \"contour\": [{\"colorbar\": {\"outlinewidth\": 0, \"ticks\": \"\"}, \"colorscale\": [[0.0, \"#0d0887\"], [0.1111111111111111, \"#46039f\"], [0.2222222222222222, \"#7201a8\"], [0.3333333333333333, \"#9c179e\"], [0.4444444444444444, \"#bd3786\"], [0.5555555555555556, \"#d8576b\"], [0.6666666666666666, \"#ed7953\"], [0.7777777777777778, \"#fb9f3a\"], [0.8888888888888888, \"#fdca26\"], [1.0, \"#f0f921\"]], \"type\": \"contour\"}], \"contourcarpet\": [{\"colorbar\": {\"outlinewidth\": 0, \"ticks\": \"\"}, \"type\": \"contourcarpet\"}], \"heatmap\": [{\"colorbar\": {\"outlinewidth\": 0, \"ticks\": \"\"}, \"colorscale\": [[0.0, \"#0d0887\"], [0.1111111111111111, \"#46039f\"], [0.2222222222222222, \"#7201a8\"], [0.3333333333333333, \"#9c179e\"], [0.4444444444444444, \"#bd3786\"], [0.5555555555555556, \"#d8576b\"], [0.6666666666666666, \"#ed7953\"], [0.7777777777777778, \"#fb9f3a\"], [0.8888888888888888, \"#fdca26\"], [1.0, \"#f0f921\"]], \"type\": \"heatmap\"}], \"heatmapgl\": [{\"colorbar\": {\"outlinewidth\": 0, \"ticks\": \"\"}, \"colorscale\": [[0.0, \"#0d0887\"], [0.1111111111111111, \"#46039f\"], [0.2222222222222222, \"#7201a8\"], [0.3333333333333333, \"#9c179e\"], [0.4444444444444444, \"#bd3786\"], [0.5555555555555556, \"#d8576b\"], [0.6666666666666666, \"#ed7953\"], [0.7777777777777778, \"#fb9f3a\"], [0.8888888888888888, \"#fdca26\"], [1.0, \"#f0f921\"]], \"type\": \"heatmapgl\"}], \"histogram\": [{\"marker\": {\"colorbar\": {\"outlinewidth\": 0, \"ticks\": \"\"}}, \"type\": \"histogram\"}], \"histogram2d\": [{\"colorbar\": {\"outlinewidth\": 0, \"ticks\": \"\"}, \"colorscale\": [[0.0, \"#0d0887\"], [0.1111111111111111, \"#46039f\"], [0.2222222222222222, \"#7201a8\"], [0.3333333333333333, \"#9c179e\"], [0.4444444444444444, \"#bd3786\"], [0.5555555555555556, \"#d8576b\"], [0.6666666666666666, \"#ed7953\"], [0.7777777777777778, \"#fb9f3a\"], [0.8888888888888888, \"#fdca26\"], [1.0, \"#f0f921\"]], \"type\": \"histogram2d\"}], \"histogram2dcontour\": [{\"colorbar\": {\"outlinewidth\": 0, \"ticks\": \"\"}, \"colorscale\": [[0.0, \"#0d0887\"], [0.1111111111111111, \"#46039f\"], [0.2222222222222222, \"#7201a8\"], [0.3333333333333333, \"#9c179e\"], [0.4444444444444444, \"#bd3786\"], [0.5555555555555556, \"#d8576b\"], [0.6666666666666666, \"#ed7953\"], [0.7777777777777778, \"#fb9f3a\"], [0.8888888888888888, \"#fdca26\"], [1.0, \"#f0f921\"]], \"type\": \"histogram2dcontour\"}], \"mesh3d\": [{\"colorbar\": {\"outlinewidth\": 0, \"ticks\": \"\"}, \"type\": \"mesh3d\"}], \"parcoords\": [{\"line\": {\"colorbar\": {\"outlinewidth\": 0, \"ticks\": \"\"}}, \"type\": \"parcoords\"}], \"scatter\": [{\"marker\": {\"colorbar\": {\"outlinewidth\": 0, \"ticks\": \"\"}}, \"type\": \"scatter\"}], \"scatter3d\": [{\"line\": {\"colorbar\": {\"outlinewidth\": 0, \"ticks\": \"\"}}, \"marker\": {\"colorbar\": {\"outlinewidth\": 0, \"ticks\": \"\"}}, \"type\": \"scatter3d\"}], \"scattercarpet\": [{\"marker\": {\"colorbar\": {\"outlinewidth\": 0, \"ticks\": \"\"}}, \"type\": \"scattercarpet\"}], \"scattergeo\": [{\"marker\": {\"colorbar\": {\"outlinewidth\": 0, \"ticks\": \"\"}}, \"type\": \"scattergeo\"}], \"scattergl\": [{\"marker\": {\"colorbar\": {\"outlinewidth\": 0, \"ticks\": \"\"}}, \"type\": \"scattergl\"}], \"scattermapbox\": [{\"marker\": {\"colorbar\": {\"outlinewidth\": 0, \"ticks\": \"\"}}, \"type\": \"scattermapbox\"}], \"scatterpolar\": [{\"marker\": {\"colorbar\": {\"outlinewidth\": 0, \"ticks\": \"\"}}, \"type\": \"scatterpolar\"}], \"scatterpolargl\": [{\"marker\": {\"colorbar\": {\"outlinewidth\": 0, \"ticks\": \"\"}}, \"type\": \"scatterpolargl\"}], \"scatterternary\": [{\"marker\": {\"colorbar\": {\"outlinewidth\": 0, \"ticks\": \"\"}}, \"type\": \"scatterternary\"}], \"surface\": [{\"colorbar\": {\"outlinewidth\": 0, \"ticks\": \"\"}, \"colorscale\": [[0.0, \"#0d0887\"], [0.1111111111111111, \"#46039f\"], [0.2222222222222222, \"#7201a8\"], [0.3333333333333333, \"#9c179e\"], [0.4444444444444444, \"#bd3786\"], [0.5555555555555556, \"#d8576b\"], [0.6666666666666666, \"#ed7953\"], [0.7777777777777778, \"#fb9f3a\"], [0.8888888888888888, \"#fdca26\"], [1.0, \"#f0f921\"]], \"type\": \"surface\"}], \"table\": [{\"cells\": {\"fill\": {\"color\": \"#EBF0F8\"}, \"line\": {\"color\": \"white\"}}, \"header\": {\"fill\": {\"color\": \"#C8D4E3\"}, \"line\": {\"color\": \"white\"}}, \"type\": \"table\"}]}, \"layout\": {\"annotationdefaults\": {\"arrowcolor\": \"#2a3f5f\", \"arrowhead\": 0, \"arrowwidth\": 1}, \"colorscale\": {\"diverging\": [[0, \"#8e0152\"], [0.1, \"#c51b7d\"], [0.2, \"#de77ae\"], [0.3, \"#f1b6da\"], [0.4, \"#fde0ef\"], [0.5, \"#f7f7f7\"], [0.6, \"#e6f5d0\"], [0.7, \"#b8e186\"], [0.8, \"#7fbc41\"], [0.9, \"#4d9221\"], [1, \"#276419\"]], \"sequential\": [[0.0, \"#0d0887\"], [0.1111111111111111, \"#46039f\"], [0.2222222222222222, \"#7201a8\"], [0.3333333333333333, \"#9c179e\"], [0.4444444444444444, \"#bd3786\"], [0.5555555555555556, \"#d8576b\"], [0.6666666666666666, \"#ed7953\"], [0.7777777777777778, \"#fb9f3a\"], [0.8888888888888888, \"#fdca26\"], [1.0, \"#f0f921\"]], \"sequentialminus\": [[0.0, \"#0d0887\"], [0.1111111111111111, \"#46039f\"], [0.2222222222222222, \"#7201a8\"], [0.3333333333333333, \"#9c179e\"], [0.4444444444444444, \"#bd3786\"], [0.5555555555555556, \"#d8576b\"], [0.6666666666666666, \"#ed7953\"], [0.7777777777777778, \"#fb9f3a\"], [0.8888888888888888, \"#fdca26\"], [1.0, \"#f0f921\"]]}, \"colorway\": [\"#636efa\", \"#EF553B\", \"#00cc96\", \"#ab63fa\", \"#FFA15A\", \"#19d3f3\", \"#FF6692\", \"#B6E880\", \"#FF97FF\", \"#FECB52\"], \"font\": {\"color\": \"#2a3f5f\"}, \"geo\": {\"bgcolor\": \"white\", \"lakecolor\": \"white\", \"landcolor\": \"#E5ECF6\", \"showlakes\": true, \"showland\": true, \"subunitcolor\": \"white\"}, \"hoverlabel\": {\"align\": \"left\"}, \"hovermode\": \"closest\", \"mapbox\": {\"style\": \"light\"}, \"paper_bgcolor\": \"white\", \"plot_bgcolor\": \"#E5ECF6\", \"polar\": {\"angularaxis\": {\"gridcolor\": \"white\", \"linecolor\": \"white\", \"ticks\": \"\"}, \"bgcolor\": \"#E5ECF6\", \"radialaxis\": {\"gridcolor\": \"white\", \"linecolor\": \"white\", \"ticks\": \"\"}}, \"scene\": {\"xaxis\": {\"backgroundcolor\": \"#E5ECF6\", \"gridcolor\": \"white\", \"gridwidth\": 2, \"linecolor\": \"white\", \"showbackground\": true, \"ticks\": \"\", \"zerolinecolor\": \"white\"}, \"yaxis\": {\"backgroundcolor\": \"#E5ECF6\", \"gridcolor\": \"white\", \"gridwidth\": 2, \"linecolor\": \"white\", \"showbackground\": true, \"ticks\": \"\", \"zerolinecolor\": \"white\"}, \"zaxis\": {\"backgroundcolor\": \"#E5ECF6\", \"gridcolor\": \"white\", \"gridwidth\": 2, \"linecolor\": \"white\", \"showbackground\": true, \"ticks\": \"\", \"zerolinecolor\": \"white\"}}, \"shapedefaults\": {\"line\": {\"color\": \"#2a3f5f\"}}, \"ternary\": {\"aaxis\": {\"gridcolor\": \"white\", \"linecolor\": \"white\", \"ticks\": \"\"}, \"baxis\": {\"gridcolor\": \"white\", \"linecolor\": \"white\", \"ticks\": \"\"}, \"bgcolor\": \"#E5ECF6\", \"caxis\": {\"gridcolor\": \"white\", \"linecolor\": \"white\", \"ticks\": \"\"}}, \"title\": {\"x\": 0.05}, \"xaxis\": {\"automargin\": true, \"gridcolor\": \"white\", \"linecolor\": \"white\", \"ticks\": \"\", \"zerolinecolor\": \"white\", \"zerolinewidth\": 2}, \"yaxis\": {\"automargin\": true, \"gridcolor\": \"white\", \"linecolor\": \"white\", \"ticks\": \"\", \"zerolinecolor\": \"white\", \"zerolinewidth\": 2}}}, \"xaxis\": {\"anchor\": \"y\", \"domain\": [0.0, 0.98]}, \"yaxis\": {\"anchor\": \"x\", \"domain\": [0.0, 1.0], \"title\": {\"text\": \"process_delay_minutes\"}}},\n",
       "                        {\"responsive\": true}\n",
       "                    ).then(function(){\n",
       "                            \n",
       "var gd = document.getElementById('50d745b0-0993-431d-84f8-839d0cd6767d');\n",
       "var x = new MutationObserver(function (mutations, observer) {{\n",
       "        var display = window.getComputedStyle(gd).display;\n",
       "        if (!display || display === 'none') {{\n",
       "            console.log([gd, 'removed!']);\n",
       "            Plotly.purge(gd);\n",
       "            observer.disconnect();\n",
       "        }}\n",
       "}});\n",
       "\n",
       "// Listen for the removal of the full notebook cells\n",
       "var notebookContainer = gd.closest('#notebook-container');\n",
       "if (notebookContainer) {{\n",
       "    x.observe(notebookContainer, {childList: true});\n",
       "}}\n",
       "\n",
       "// Listen for the clearing of the current output cell\n",
       "var outputEl = gd.closest('.output');\n",
       "if (outputEl) {{\n",
       "    x.observe(outputEl, {childList: true});\n",
       "}}\n",
       "\n",
       "                        })\n",
       "                };\n",
       "                });\n",
       "            </script>\n",
       "        </div>"
      ]
     },
     "metadata": {},
     "output_type": "display_data"
    }
   ],
   "source": [
    "px.box(df, y='process_delay_minutes', color='controller_name')"
   ]
  },
  {
   "cell_type": "markdown",
   "metadata": {},
   "source": [
    "Maximalni delay uspesne vyrobene cele vyrobni rady"
   ]
  },
  {
   "cell_type": "code",
   "execution_count": 30,
   "metadata": {},
   "outputs": [
    {
     "data": {
      "text/html": [
       "<div>\n",
       "<style scoped>\n",
       "    .dataframe tbody tr th:only-of-type {\n",
       "        vertical-align: middle;\n",
       "    }\n",
       "\n",
       "    .dataframe tbody tr th {\n",
       "        vertical-align: top;\n",
       "    }\n",
       "\n",
       "    .dataframe thead th {\n",
       "        text-align: right;\n",
       "    }\n",
       "</style>\n",
       "<table border=\"1\" class=\"dataframe\">\n",
       "  <thead>\n",
       "    <tr style=\"text-align: right;\">\n",
       "      <th></th>\n",
       "      <th>simulation_key</th>\n",
       "      <th>missing_plan_cnt_first_delay</th>\n",
       "      <th>missing_plan_cnt_planned_time</th>\n",
       "      <th>whole_process_delay</th>\n",
       "      <th>controller_name</th>\n",
       "      <th>break_strategy</th>\n",
       "      <th>simulation_index</th>\n",
       "      <th>process_delay_minutes</th>\n",
       "      <th>process_delay_hours</th>\n",
       "    </tr>\n",
       "  </thead>\n",
       "  <tbody>\n",
       "    <tr>\n",
       "      <th>805</th>\n",
       "      <td>naive-break_skip-806</td>\n",
       "      <td>1351</td>\n",
       "      <td>0</td>\n",
       "      <td>293.42</td>\n",
       "      <td>naive</td>\n",
       "      <td>break_skip</td>\n",
       "      <td>806</td>\n",
       "      <td>4.890333</td>\n",
       "      <td>0.081506</td>\n",
       "    </tr>\n",
       "    <tr>\n",
       "      <th>35</th>\n",
       "      <td>naive-break_skip-36</td>\n",
       "      <td>1372</td>\n",
       "      <td>0</td>\n",
       "      <td>280.17</td>\n",
       "      <td>naive</td>\n",
       "      <td>break_skip</td>\n",
       "      <td>36</td>\n",
       "      <td>4.669500</td>\n",
       "      <td>0.077825</td>\n",
       "    </tr>\n",
       "    <tr>\n",
       "      <th>395</th>\n",
       "      <td>naive-break_skip-396</td>\n",
       "      <td>1377</td>\n",
       "      <td>0</td>\n",
       "      <td>274.35</td>\n",
       "      <td>naive</td>\n",
       "      <td>break_skip</td>\n",
       "      <td>396</td>\n",
       "      <td>4.572500</td>\n",
       "      <td>0.076208</td>\n",
       "    </tr>\n",
       "    <tr>\n",
       "      <th>1075</th>\n",
       "      <td>naive-break_skip-1076</td>\n",
       "      <td>1398</td>\n",
       "      <td>0</td>\n",
       "      <td>266.47</td>\n",
       "      <td>naive</td>\n",
       "      <td>break_skip</td>\n",
       "      <td>1076</td>\n",
       "      <td>4.441167</td>\n",
       "      <td>0.074019</td>\n",
       "    </tr>\n",
       "    <tr>\n",
       "      <th>974</th>\n",
       "      <td>naive-break_skip-975</td>\n",
       "      <td>1358</td>\n",
       "      <td>0</td>\n",
       "      <td>263.61</td>\n",
       "      <td>naive</td>\n",
       "      <td>break_skip</td>\n",
       "      <td>975</td>\n",
       "      <td>4.393500</td>\n",
       "      <td>0.073225</td>\n",
       "    </tr>\n",
       "  </tbody>\n",
       "</table>\n",
       "</div>"
      ],
      "text/plain": [
       "             simulation_key  missing_plan_cnt_first_delay  \\\n",
       "805    naive-break_skip-806                          1351   \n",
       "35      naive-break_skip-36                          1372   \n",
       "395    naive-break_skip-396                          1377   \n",
       "1075  naive-break_skip-1076                          1398   \n",
       "974    naive-break_skip-975                          1358   \n",
       "\n",
       "      missing_plan_cnt_planned_time  whole_process_delay controller_name  \\\n",
       "805                               0               293.42           naive   \n",
       "35                                0               280.17           naive   \n",
       "395                               0               274.35           naive   \n",
       "1075                              0               266.47           naive   \n",
       "974                               0               263.61           naive   \n",
       "\n",
       "     break_strategy  simulation_index  process_delay_minutes  \\\n",
       "805      break_skip               806               4.890333   \n",
       "35       break_skip                36               4.669500   \n",
       "395      break_skip               396               4.572500   \n",
       "1075     break_skip              1076               4.441167   \n",
       "974      break_skip               975               4.393500   \n",
       "\n",
       "      process_delay_hours  \n",
       "805              0.081506  \n",
       "35               0.077825  \n",
       "395              0.076208  \n",
       "1075             0.074019  \n",
       "974              0.073225  "
      ]
     },
     "execution_count": 30,
     "metadata": {},
     "output_type": "execute_result"
    }
   ],
   "source": [
    "df[(df.missing_plan_cnt_planned_time == 0)].sort_values('whole_process_delay', ascending=False).head()"
   ]
  },
  {
   "cell_type": "code",
   "execution_count": 23,
   "metadata": {},
   "outputs": [
    {
     "data": {
      "text/plain": [
       "(730, 9)"
      ]
     },
     "execution_count": 23,
     "metadata": {},
     "output_type": "execute_result"
    }
   ],
   "source": [
    "df[(df.missing_plan_cnt_planned_time == 0)].shape"
   ]
  },
  {
   "cell_type": "code",
   "execution_count": 26,
   "metadata": {},
   "outputs": [
    {
     "data": {
      "application/vnd.plotly.v1+json": {
       "config": {
        "plotlyServerURL": "https://plot.ly"
       },
       "data": [
        {
         "alignmentgroup": "True",
         "hoverlabel": {
          "namelength": 0
         },
         "hovertemplate": "whole_process_delay=%{y}",
         "legendgroup": "",
         "marker": {
          "color": "#636efa"
         },
         "name": "",
         "notched": false,
         "offsetgroup": "",
         "orientation": "v",
         "showlegend": false,
         "type": "box",
         "x0": " ",
         "xaxis": "x",
         "y": [
          0,
          0,
          0,
          0,
          184.76,
          179.92,
          45.09,
          280.17,
          205.43,
          137.47,
          97.89,
          241.6,
          164.03,
          32.37,
          209.12,
          133.5,
          127.8,
          179.78,
          23.75,
          26.85,
          15.64,
          21.43,
          20.97,
          12.95,
          10.31,
          173.84,
          9.39999999999999,
          37.75,
          0,
          0,
          7.71,
          4.31,
          0,
          5.2,
          4.56,
          12.6,
          2.95,
          0,
          0,
          0,
          0,
          0,
          9.65000000000001,
          0,
          2.25,
          2.31,
          0,
          0,
          0,
          0,
          0,
          0,
          0,
          0,
          0,
          0,
          0,
          3.69,
          0,
          16.8,
          0,
          0,
          0,
          0,
          0,
          0,
          0,
          0,
          3.69,
          12.4,
          0,
          8.19,
          0,
          15.53,
          0,
          0,
          0,
          0,
          169.08,
          70.42,
          139.89,
          109.62,
          187.71,
          125.04,
          130.47,
          113.48,
          59.85,
          111.13,
          204.51,
          52.17,
          14.21,
          29.23,
          13.01,
          40.29,
          51.1,
          51.3,
          150.88,
          199.83,
          50.11,
          21.59,
          0,
          2,
          9.54000000000001,
          12.08,
          0,
          5.2,
          5.26000000000001,
          15.53,
          0,
          0,
          0,
          0,
          4.62,
          0,
          0,
          2.95,
          0,
          0,
          11.14,
          16.57,
          0,
          0,
          0,
          0,
          0,
          0,
          0,
          0,
          0,
          0,
          0,
          15.35,
          0,
          0,
          0,
          0,
          0,
          0,
          0,
          0,
          0,
          0,
          0,
          0,
          0,
          0,
          27.15,
          0,
          26.16,
          3.69,
          0,
          0,
          45.8,
          8.15000000000001,
          30.33,
          6,
          3.69,
          3.69,
          3.69,
          7.38,
          3.69,
          0,
          0,
          20.07,
          0,
          84.19,
          34.02,
          85.75,
          51.21,
          73.58,
          44.28,
          19.26,
          46.71,
          45.09,
          60.66,
          62.8,
          103.39,
          19.26,
          181.35,
          142.79,
          162.06,
          126.12,
          127.99,
          143.89,
          189.47,
          193.58,
          3.69,
          33.25,
          87.43,
          56.86,
          0,
          16.57,
          89.72,
          135.61,
          69.79,
          9.59,
          2.95,
          0,
          0,
          3.45999999999999,
          2.31,
          61.42,
          29.42,
          0,
          8.89,
          7.38,
          7.38,
          0,
          7.38,
          0,
          18.58,
          3.69,
          83.61,
          26.64,
          17.1,
          56.16,
          0,
          56.97,
          93.06,
          0,
          2.31,
          43.54,
          20.07,
          0,
          40.37,
          104.65,
          107.5,
          107.44,
          97.63,
          100.22,
          69.37,
          57.78,
          229.6,
          234.96,
          84.87,
          274.35,
          209.12,
          42.21,
          242.07,
          236.03,
          168.47,
          208.6,
          233.29,
          177,
          0,
          16.99,
          68.5,
          227.91,
          6.7,
          22.94,
          39.25,
          4.25,
          57.5,
          53.1,
          19.07,
          0,
          54.54,
          123.5,
          13.32,
          111.94,
          59.75,
          20.74,
          4.95,
          0,
          167.48,
          0,
          0,
          3.69,
          15.51,
          95.27,
          10.5,
          19.22,
          0,
          8.95,
          3.69,
          14.76,
          0,
          0,
          26.64,
          0,
          175.68,
          42.21,
          3.69,
          207.05,
          3.69,
          7.38,
          56.16,
          27.45,
          40.37,
          53.28,
          22.95,
          16.38,
          11.88,
          31.95,
          133.5,
          49.59,
          64.55,
          227.7,
          38.52,
          201.64,
          207.47,
          206.33,
          88.52,
          233.28,
          205.4,
          188.98,
          121.32,
          195.86,
          127.54,
          0,
          0,
          107.9,
          198.92,
          105.56,
          76.97,
          27.27,
          152.49,
          49.8,
          92.8,
          29.52,
          84.72,
          14.04,
          11.84,
          11.84,
          21.47,
          70.68,
          10.29,
          11.14,
          14.68,
          2.31,
          85.04,
          2.31,
          7.38,
          20.43,
          0,
          30.33,
          7.38,
          0,
          7.38,
          18.82,
          4.62,
          55.42,
          14.76,
          7.38,
          89.37,
          13.38,
          0,
          20.07,
          0,
          3.69,
          89.05,
          102.78,
          24.99,
          73.8,
          123.43,
          183.67,
          56.16,
          0,
          203.74,
          7.38,
          193.12,
          85.3,
          236.08,
          212,
          109.54,
          48.78,
          183.77,
          177.61,
          117.4,
          164.75,
          88.13,
          121.98,
          191.59,
          156.22,
          83.81,
          43.54,
          181.92,
          0,
          0,
          237.44,
          167.05,
          149.58,
          166.71,
          223.47,
          90.92,
          11.07,
          118.13,
          2.4,
          2.31,
          6.95,
          77.93,
          50.21,
          71.43,
          26.23,
          21.32,
          10.95,
          139.1,
          19.26,
          0,
          0,
          2.95,
          3.69,
          0,
          7.34,
          0,
          2.95,
          80.64,
          67.62,
          0,
          15.57,
          14.78,
          0,
          0,
          14.83,
          0,
          69.21,
          3.69,
          19.26,
          0,
          28.26,
          3.69,
          54.61,
          34.02,
          0,
          52.25,
          33.21,
          3.69,
          159.96,
          3.69,
          68.04,
          32.76,
          3.69,
          20.59,
          24.59,
          0,
          11.88,
          115.07,
          68.11,
          28.28,
          182.14,
          12.4,
          11.88,
          148.9,
          176.62,
          114.11,
          8.19,
          106.74,
          82.48,
          89.93,
          3.69,
          0,
          0,
          154.24,
          77.7,
          205.43,
          86.04,
          177.01,
          117.05,
          31.32,
          13.01,
          293.42,
          14.04,
          112.52,
          234.24,
          34.54,
          218.12,
          0,
          8,
          7.34,
          75.56,
          7.14999999999999,
          156.93,
          2.25,
          2,
          3.69,
          2.31,
          241.41,
          0,
          7.38,
          0,
          0,
          0,
          0,
          2.31,
          7.38,
          2.95,
          3.69,
          0,
          0,
          11.88,
          0,
          3.69,
          7.38,
          11.88,
          37.71,
          29.2,
          24.28,
          7.38,
          11.88,
          24.28,
          28.68,
          37.71,
          3.69,
          58.59,
          24.28,
          31.14,
          106.58,
          226.07,
          24.28,
          41.39,
          186.12,
          52.67,
          8.19,
          212.94,
          179.26,
          16.8,
          64.06,
          37.71,
          40.56,
          62.7,
          131.33,
          191.95,
          24.99,
          62.51,
          16.57,
          0,
          218.97,
          95.56,
          64.35,
          76.41,
          71.76,
          167.56,
          202.3,
          88.61,
          20.29,
          43.14,
          138.36,
          45.72,
          7.2,
          3.69,
          24.43,
          0,
          21.28,
          2.31,
          2.31,
          0,
          0,
          2.95,
          2.95,
          3.69,
          40.81,
          0,
          2.31,
          38.52,
          2.95,
          0,
          3.69,
          2.95,
          0,
          22.95,
          8.7,
          0,
          36.16,
          34.02,
          46.42,
          0,
          82.03,
          0,
          0,
          0,
          8.19,
          0,
          20.59,
          25.83,
          3.69,
          12.4,
          11.88,
          113.55,
          3.69,
          0,
          160.81,
          40.97,
          168.3,
          8.19,
          263.61,
          16.09,
          3.69,
          137.61,
          11.88,
          15.57,
          44.28,
          53.8,
          0,
          126.18,
          0,
          177.04,
          15.95,
          25.83,
          140.31,
          100,
          52.47,
          118.05,
          22.91,
          114.33,
          25.11,
          210.58,
          7.26000000000001,
          2.31,
          4.31,
          110.5,
          17.36,
          98.31,
          13.2,
          0,
          4,
          0,
          0,
          2.95,
          0,
          4.62,
          21.18,
          0,
          2.95,
          0,
          0,
          0,
          61.7,
          5.26000000000001,
          0,
          0,
          3.46,
          0,
          11.88,
          0,
          3.69,
          0,
          52.47,
          0,
          0,
          16.09,
          0,
          0,
          20.07,
          11.88,
          16.38,
          266.47,
          0,
          0,
          0,
          0,
          0,
          16.38,
          12.4,
          0,
          0,
          20.59,
          3.69,
          0,
          3.69,
          11.88,
          7.38,
          8.19,
          8.19,
          3.69,
          7.89,
          3.69,
          3.69,
          230.91,
          235.2,
          228.1,
          70.92,
          191.72,
          98.0200000000001,
          149.24,
          47.13,
          74.99,
          240.2,
          64.69,
          132.66,
          140.57,
          86.08,
          149.85,
          64.16,
          47.68,
          4.56,
          4.31,
          2,
          8.31,
          42.44,
          27.63,
          9.65000000000001,
          76.08,
          24.37,
          2.95,
          0,
          0,
          0,
          6.81,
          3.69,
          0,
          0,
          0,
          0,
          0,
          0,
          0,
          2.95,
          3.45999999999999,
          0,
          0,
          0,
          0,
          0,
          0,
          0,
          11.88,
          3.69,
          0,
          0,
          0,
          24.99,
          100.06,
          11.88,
          0,
          29.2,
          3.69,
          235.32,
          0,
          0,
          12.4
         ],
         "y0": " ",
         "yaxis": "y"
        }
       ],
       "layout": {
        "boxmode": "group",
        "height": 600,
        "legend": {
         "tracegroupgap": 0
        },
        "margin": {
         "t": 60
        },
        "template": {
         "data": {
          "bar": [
           {
            "error_x": {
             "color": "#2a3f5f"
            },
            "error_y": {
             "color": "#2a3f5f"
            },
            "marker": {
             "line": {
              "color": "#E5ECF6",
              "width": 0.5
             }
            },
            "type": "bar"
           }
          ],
          "barpolar": [
           {
            "marker": {
             "line": {
              "color": "#E5ECF6",
              "width": 0.5
             }
            },
            "type": "barpolar"
           }
          ],
          "carpet": [
           {
            "aaxis": {
             "endlinecolor": "#2a3f5f",
             "gridcolor": "white",
             "linecolor": "white",
             "minorgridcolor": "white",
             "startlinecolor": "#2a3f5f"
            },
            "baxis": {
             "endlinecolor": "#2a3f5f",
             "gridcolor": "white",
             "linecolor": "white",
             "minorgridcolor": "white",
             "startlinecolor": "#2a3f5f"
            },
            "type": "carpet"
           }
          ],
          "choropleth": [
           {
            "colorbar": {
             "outlinewidth": 0,
             "ticks": ""
            },
            "type": "choropleth"
           }
          ],
          "contour": [
           {
            "colorbar": {
             "outlinewidth": 0,
             "ticks": ""
            },
            "colorscale": [
             [
              0,
              "#0d0887"
             ],
             [
              0.1111111111111111,
              "#46039f"
             ],
             [
              0.2222222222222222,
              "#7201a8"
             ],
             [
              0.3333333333333333,
              "#9c179e"
             ],
             [
              0.4444444444444444,
              "#bd3786"
             ],
             [
              0.5555555555555556,
              "#d8576b"
             ],
             [
              0.6666666666666666,
              "#ed7953"
             ],
             [
              0.7777777777777778,
              "#fb9f3a"
             ],
             [
              0.8888888888888888,
              "#fdca26"
             ],
             [
              1,
              "#f0f921"
             ]
            ],
            "type": "contour"
           }
          ],
          "contourcarpet": [
           {
            "colorbar": {
             "outlinewidth": 0,
             "ticks": ""
            },
            "type": "contourcarpet"
           }
          ],
          "heatmap": [
           {
            "colorbar": {
             "outlinewidth": 0,
             "ticks": ""
            },
            "colorscale": [
             [
              0,
              "#0d0887"
             ],
             [
              0.1111111111111111,
              "#46039f"
             ],
             [
              0.2222222222222222,
              "#7201a8"
             ],
             [
              0.3333333333333333,
              "#9c179e"
             ],
             [
              0.4444444444444444,
              "#bd3786"
             ],
             [
              0.5555555555555556,
              "#d8576b"
             ],
             [
              0.6666666666666666,
              "#ed7953"
             ],
             [
              0.7777777777777778,
              "#fb9f3a"
             ],
             [
              0.8888888888888888,
              "#fdca26"
             ],
             [
              1,
              "#f0f921"
             ]
            ],
            "type": "heatmap"
           }
          ],
          "heatmapgl": [
           {
            "colorbar": {
             "outlinewidth": 0,
             "ticks": ""
            },
            "colorscale": [
             [
              0,
              "#0d0887"
             ],
             [
              0.1111111111111111,
              "#46039f"
             ],
             [
              0.2222222222222222,
              "#7201a8"
             ],
             [
              0.3333333333333333,
              "#9c179e"
             ],
             [
              0.4444444444444444,
              "#bd3786"
             ],
             [
              0.5555555555555556,
              "#d8576b"
             ],
             [
              0.6666666666666666,
              "#ed7953"
             ],
             [
              0.7777777777777778,
              "#fb9f3a"
             ],
             [
              0.8888888888888888,
              "#fdca26"
             ],
             [
              1,
              "#f0f921"
             ]
            ],
            "type": "heatmapgl"
           }
          ],
          "histogram": [
           {
            "marker": {
             "colorbar": {
              "outlinewidth": 0,
              "ticks": ""
             }
            },
            "type": "histogram"
           }
          ],
          "histogram2d": [
           {
            "colorbar": {
             "outlinewidth": 0,
             "ticks": ""
            },
            "colorscale": [
             [
              0,
              "#0d0887"
             ],
             [
              0.1111111111111111,
              "#46039f"
             ],
             [
              0.2222222222222222,
              "#7201a8"
             ],
             [
              0.3333333333333333,
              "#9c179e"
             ],
             [
              0.4444444444444444,
              "#bd3786"
             ],
             [
              0.5555555555555556,
              "#d8576b"
             ],
             [
              0.6666666666666666,
              "#ed7953"
             ],
             [
              0.7777777777777778,
              "#fb9f3a"
             ],
             [
              0.8888888888888888,
              "#fdca26"
             ],
             [
              1,
              "#f0f921"
             ]
            ],
            "type": "histogram2d"
           }
          ],
          "histogram2dcontour": [
           {
            "colorbar": {
             "outlinewidth": 0,
             "ticks": ""
            },
            "colorscale": [
             [
              0,
              "#0d0887"
             ],
             [
              0.1111111111111111,
              "#46039f"
             ],
             [
              0.2222222222222222,
              "#7201a8"
             ],
             [
              0.3333333333333333,
              "#9c179e"
             ],
             [
              0.4444444444444444,
              "#bd3786"
             ],
             [
              0.5555555555555556,
              "#d8576b"
             ],
             [
              0.6666666666666666,
              "#ed7953"
             ],
             [
              0.7777777777777778,
              "#fb9f3a"
             ],
             [
              0.8888888888888888,
              "#fdca26"
             ],
             [
              1,
              "#f0f921"
             ]
            ],
            "type": "histogram2dcontour"
           }
          ],
          "mesh3d": [
           {
            "colorbar": {
             "outlinewidth": 0,
             "ticks": ""
            },
            "type": "mesh3d"
           }
          ],
          "parcoords": [
           {
            "line": {
             "colorbar": {
              "outlinewidth": 0,
              "ticks": ""
             }
            },
            "type": "parcoords"
           }
          ],
          "scatter": [
           {
            "marker": {
             "colorbar": {
              "outlinewidth": 0,
              "ticks": ""
             }
            },
            "type": "scatter"
           }
          ],
          "scatter3d": [
           {
            "line": {
             "colorbar": {
              "outlinewidth": 0,
              "ticks": ""
             }
            },
            "marker": {
             "colorbar": {
              "outlinewidth": 0,
              "ticks": ""
             }
            },
            "type": "scatter3d"
           }
          ],
          "scattercarpet": [
           {
            "marker": {
             "colorbar": {
              "outlinewidth": 0,
              "ticks": ""
             }
            },
            "type": "scattercarpet"
           }
          ],
          "scattergeo": [
           {
            "marker": {
             "colorbar": {
              "outlinewidth": 0,
              "ticks": ""
             }
            },
            "type": "scattergeo"
           }
          ],
          "scattergl": [
           {
            "marker": {
             "colorbar": {
              "outlinewidth": 0,
              "ticks": ""
             }
            },
            "type": "scattergl"
           }
          ],
          "scattermapbox": [
           {
            "marker": {
             "colorbar": {
              "outlinewidth": 0,
              "ticks": ""
             }
            },
            "type": "scattermapbox"
           }
          ],
          "scatterpolar": [
           {
            "marker": {
             "colorbar": {
              "outlinewidth": 0,
              "ticks": ""
             }
            },
            "type": "scatterpolar"
           }
          ],
          "scatterpolargl": [
           {
            "marker": {
             "colorbar": {
              "outlinewidth": 0,
              "ticks": ""
             }
            },
            "type": "scatterpolargl"
           }
          ],
          "scatterternary": [
           {
            "marker": {
             "colorbar": {
              "outlinewidth": 0,
              "ticks": ""
             }
            },
            "type": "scatterternary"
           }
          ],
          "surface": [
           {
            "colorbar": {
             "outlinewidth": 0,
             "ticks": ""
            },
            "colorscale": [
             [
              0,
              "#0d0887"
             ],
             [
              0.1111111111111111,
              "#46039f"
             ],
             [
              0.2222222222222222,
              "#7201a8"
             ],
             [
              0.3333333333333333,
              "#9c179e"
             ],
             [
              0.4444444444444444,
              "#bd3786"
             ],
             [
              0.5555555555555556,
              "#d8576b"
             ],
             [
              0.6666666666666666,
              "#ed7953"
             ],
             [
              0.7777777777777778,
              "#fb9f3a"
             ],
             [
              0.8888888888888888,
              "#fdca26"
             ],
             [
              1,
              "#f0f921"
             ]
            ],
            "type": "surface"
           }
          ],
          "table": [
           {
            "cells": {
             "fill": {
              "color": "#EBF0F8"
             },
             "line": {
              "color": "white"
             }
            },
            "header": {
             "fill": {
              "color": "#C8D4E3"
             },
             "line": {
              "color": "white"
             }
            },
            "type": "table"
           }
          ]
         },
         "layout": {
          "annotationdefaults": {
           "arrowcolor": "#2a3f5f",
           "arrowhead": 0,
           "arrowwidth": 1
          },
          "colorscale": {
           "diverging": [
            [
             0,
             "#8e0152"
            ],
            [
             0.1,
             "#c51b7d"
            ],
            [
             0.2,
             "#de77ae"
            ],
            [
             0.3,
             "#f1b6da"
            ],
            [
             0.4,
             "#fde0ef"
            ],
            [
             0.5,
             "#f7f7f7"
            ],
            [
             0.6,
             "#e6f5d0"
            ],
            [
             0.7,
             "#b8e186"
            ],
            [
             0.8,
             "#7fbc41"
            ],
            [
             0.9,
             "#4d9221"
            ],
            [
             1,
             "#276419"
            ]
           ],
           "sequential": [
            [
             0,
             "#0d0887"
            ],
            [
             0.1111111111111111,
             "#46039f"
            ],
            [
             0.2222222222222222,
             "#7201a8"
            ],
            [
             0.3333333333333333,
             "#9c179e"
            ],
            [
             0.4444444444444444,
             "#bd3786"
            ],
            [
             0.5555555555555556,
             "#d8576b"
            ],
            [
             0.6666666666666666,
             "#ed7953"
            ],
            [
             0.7777777777777778,
             "#fb9f3a"
            ],
            [
             0.8888888888888888,
             "#fdca26"
            ],
            [
             1,
             "#f0f921"
            ]
           ],
           "sequentialminus": [
            [
             0,
             "#0d0887"
            ],
            [
             0.1111111111111111,
             "#46039f"
            ],
            [
             0.2222222222222222,
             "#7201a8"
            ],
            [
             0.3333333333333333,
             "#9c179e"
            ],
            [
             0.4444444444444444,
             "#bd3786"
            ],
            [
             0.5555555555555556,
             "#d8576b"
            ],
            [
             0.6666666666666666,
             "#ed7953"
            ],
            [
             0.7777777777777778,
             "#fb9f3a"
            ],
            [
             0.8888888888888888,
             "#fdca26"
            ],
            [
             1,
             "#f0f921"
            ]
           ]
          },
          "colorway": [
           "#636efa",
           "#EF553B",
           "#00cc96",
           "#ab63fa",
           "#FFA15A",
           "#19d3f3",
           "#FF6692",
           "#B6E880",
           "#FF97FF",
           "#FECB52"
          ],
          "font": {
           "color": "#2a3f5f"
          },
          "geo": {
           "bgcolor": "white",
           "lakecolor": "white",
           "landcolor": "#E5ECF6",
           "showlakes": true,
           "showland": true,
           "subunitcolor": "white"
          },
          "hoverlabel": {
           "align": "left"
          },
          "hovermode": "closest",
          "mapbox": {
           "style": "light"
          },
          "paper_bgcolor": "white",
          "plot_bgcolor": "#E5ECF6",
          "polar": {
           "angularaxis": {
            "gridcolor": "white",
            "linecolor": "white",
            "ticks": ""
           },
           "bgcolor": "#E5ECF6",
           "radialaxis": {
            "gridcolor": "white",
            "linecolor": "white",
            "ticks": ""
           }
          },
          "scene": {
           "xaxis": {
            "backgroundcolor": "#E5ECF6",
            "gridcolor": "white",
            "gridwidth": 2,
            "linecolor": "white",
            "showbackground": true,
            "ticks": "",
            "zerolinecolor": "white"
           },
           "yaxis": {
            "backgroundcolor": "#E5ECF6",
            "gridcolor": "white",
            "gridwidth": 2,
            "linecolor": "white",
            "showbackground": true,
            "ticks": "",
            "zerolinecolor": "white"
           },
           "zaxis": {
            "backgroundcolor": "#E5ECF6",
            "gridcolor": "white",
            "gridwidth": 2,
            "linecolor": "white",
            "showbackground": true,
            "ticks": "",
            "zerolinecolor": "white"
           }
          },
          "shapedefaults": {
           "line": {
            "color": "#2a3f5f"
           }
          },
          "ternary": {
           "aaxis": {
            "gridcolor": "white",
            "linecolor": "white",
            "ticks": ""
           },
           "baxis": {
            "gridcolor": "white",
            "linecolor": "white",
            "ticks": ""
           },
           "bgcolor": "#E5ECF6",
           "caxis": {
            "gridcolor": "white",
            "linecolor": "white",
            "ticks": ""
           }
          },
          "title": {
           "x": 0.05
          },
          "xaxis": {
           "automargin": true,
           "gridcolor": "white",
           "linecolor": "white",
           "ticks": "",
           "zerolinecolor": "white",
           "zerolinewidth": 2
          },
          "yaxis": {
           "automargin": true,
           "gridcolor": "white",
           "linecolor": "white",
           "ticks": "",
           "zerolinecolor": "white",
           "zerolinewidth": 2
          }
         }
        },
        "xaxis": {
         "anchor": "y",
         "domain": [
          0,
          0.98
         ]
        },
        "yaxis": {
         "anchor": "x",
         "domain": [
          0,
          1
         ],
         "title": {
          "text": "whole_process_delay"
         }
        }
       }
      },
      "text/html": [
       "<div>\n",
       "        \n",
       "        \n",
       "            <div id=\"8eda38b5-f070-4e75-92f5-2d511006e297\" class=\"plotly-graph-div\" style=\"height:600px; width:100%;\"></div>\n",
       "            <script type=\"text/javascript\">\n",
       "                require([\"plotly\"], function(Plotly) {\n",
       "                    window.PLOTLYENV=window.PLOTLYENV || {};\n",
       "                    \n",
       "                if (document.getElementById(\"8eda38b5-f070-4e75-92f5-2d511006e297\")) {\n",
       "                    Plotly.newPlot(\n",
       "                        '8eda38b5-f070-4e75-92f5-2d511006e297',\n",
       "                        [{\"alignmentgroup\": \"True\", \"hoverlabel\": {\"namelength\": 0}, \"hovertemplate\": \"whole_process_delay=%{y}\", \"legendgroup\": \"\", \"marker\": {\"color\": \"#636efa\"}, \"name\": \"\", \"notched\": false, \"offsetgroup\": \"\", \"orientation\": \"v\", \"showlegend\": false, \"type\": \"box\", \"x0\": \" \", \"xaxis\": \"x\", \"y\": [0.0, 0.0, 0.0, 0.0, 184.76, 179.92, 45.09, 280.17, 205.43, 137.47, 97.89, 241.6, 164.03, 32.37, 209.12, 133.5, 127.8, 179.78, 23.75, 26.85, 15.64, 21.43, 20.97, 12.95, 10.31, 173.84, 9.39999999999999, 37.75, 0.0, 0.0, 7.71, 4.31, 0.0, 5.2, 4.56, 12.6, 2.95, 0.0, 0.0, 0.0, 0.0, 0.0, 9.65000000000001, 0.0, 2.25, 2.31, 0.0, 0.0, 0.0, 0.0, 0.0, 0.0, 0.0, 0.0, 0.0, 0.0, 0.0, 3.69, 0.0, 16.8, 0.0, 0.0, 0.0, 0.0, 0.0, 0.0, 0.0, 0.0, 3.69, 12.4, 0.0, 8.19, 0.0, 15.53, 0.0, 0.0, 0.0, 0.0, 169.08, 70.42, 139.89, 109.62, 187.71, 125.04, 130.47, 113.48, 59.85, 111.13, 204.51, 52.17, 14.21, 29.23, 13.01, 40.29, 51.1, 51.3, 150.88, 199.83, 50.11, 21.59, 0.0, 2.0, 9.54000000000001, 12.08, 0.0, 5.2, 5.26000000000001, 15.53, 0.0, 0.0, 0.0, 0.0, 4.62, 0.0, 0.0, 2.95, 0.0, 0.0, 11.14, 16.57, 0.0, 0.0, 0.0, 0.0, 0.0, 0.0, 0.0, 0.0, 0.0, 0.0, 0.0, 15.35, 0.0, 0.0, 0.0, 0.0, 0.0, 0.0, 0.0, 0.0, 0.0, 0.0, 0.0, 0.0, 0.0, 0.0, 27.15, 0.0, 26.16, 3.69, 0.0, 0.0, 45.8, 8.15000000000001, 30.33, 6.0, 3.69, 3.69, 3.69, 7.38, 3.69, 0.0, 0.0, 20.07, 0.0, 84.19, 34.02, 85.75, 51.21, 73.58, 44.28, 19.26, 46.71, 45.09, 60.66, 62.8, 103.39, 19.26, 181.35, 142.79, 162.06, 126.12, 127.99, 143.89, 189.47, 193.58, 3.69, 33.25, 87.43, 56.86, 0.0, 16.57, 89.72, 135.61, 69.79, 9.59, 2.95, 0.0, 0.0, 3.45999999999999, 2.31, 61.42, 29.42, 0.0, 8.89, 7.38, 7.38, 0.0, 7.38, 0.0, 18.58, 3.69, 83.61, 26.64, 17.1, 56.16, 0.0, 56.97, 93.06, 0.0, 2.31, 43.54, 20.07, 0.0, 40.37, 104.65, 107.5, 107.44, 97.63, 100.22, 69.37, 57.78, 229.6, 234.96, 84.87, 274.35, 209.12, 42.21, 242.07, 236.03, 168.47, 208.6, 233.29, 177.0, 0.0, 16.99, 68.5, 227.91, 6.7, 22.94, 39.25, 4.25, 57.5, 53.1, 19.07, 0.0, 54.54, 123.5, 13.32, 111.94, 59.75, 20.74, 4.95, 0.0, 167.48, 0.0, 0.0, 3.69, 15.51, 95.27, 10.5, 19.22, 0.0, 8.95, 3.69, 14.76, 0.0, 0.0, 26.64, 0.0, 175.68, 42.21, 3.69, 207.05, 3.69, 7.38, 56.16, 27.45, 40.37, 53.28, 22.95, 16.38, 11.88, 31.95, 133.5, 49.59, 64.55, 227.7, 38.52, 201.64, 207.47, 206.33, 88.52, 233.28, 205.4, 188.98, 121.32, 195.86, 127.54, 0.0, 0.0, 107.9, 198.92, 105.56, 76.97, 27.27, 152.49, 49.8, 92.8, 29.52, 84.72, 14.04, 11.84, 11.84, 21.47, 70.68, 10.29, 11.14, 14.68, 2.31, 85.04, 2.31, 7.38, 20.43, 0.0, 30.33, 7.38, 0.0, 7.38, 18.82, 4.62, 55.42, 14.76, 7.38, 89.37, 13.38, 0.0, 20.07, 0.0, 3.69, 89.05, 102.78, 24.99, 73.8, 123.43, 183.67, 56.16, 0.0, 203.74, 7.38, 193.12, 85.3, 236.08, 212.0, 109.54, 48.78, 183.77, 177.61, 117.4, 164.75, 88.13, 121.98, 191.59, 156.22, 83.81, 43.54, 181.92, 0.0, 0.0, 237.44, 167.05, 149.58, 166.71, 223.47, 90.92, 11.07, 118.13, 2.4, 2.31, 6.95, 77.93, 50.21, 71.43, 26.23, 21.32, 10.95, 139.1, 19.26, 0.0, 0.0, 2.95, 3.69, 0.0, 7.34, 0.0, 2.95, 80.64, 67.62, 0.0, 15.57, 14.78, 0.0, 0.0, 14.83, 0.0, 69.21, 3.69, 19.26, 0.0, 28.26, 3.69, 54.61, 34.02, 0.0, 52.25, 33.21, 3.69, 159.96, 3.69, 68.04, 32.76, 3.69, 20.59, 24.59, 0.0, 11.88, 115.07, 68.11, 28.28, 182.14, 12.4, 11.88, 148.9, 176.62, 114.11, 8.19, 106.74, 82.48, 89.93, 3.69, 0.0, 0.0, 154.24, 77.7, 205.43, 86.04, 177.01, 117.05, 31.32, 13.01, 293.42, 14.04, 112.52, 234.24, 34.54, 218.12, 0.0, 8.0, 7.34, 75.56, 7.14999999999999, 156.93, 2.25, 2.0, 3.69, 2.31, 241.41, 0.0, 7.38, 0.0, 0.0, 0.0, 0.0, 2.31, 7.38, 2.95, 3.69, 0.0, 0.0, 11.88, 0.0, 3.69, 7.38, 11.88, 37.71, 29.2, 24.28, 7.38, 11.88, 24.28, 28.68, 37.71, 3.69, 58.59, 24.28, 31.14, 106.58, 226.07, 24.28, 41.39, 186.12, 52.67, 8.19, 212.94, 179.26, 16.8, 64.06, 37.71, 40.56, 62.7, 131.33, 191.95, 24.99, 62.51, 16.57, 0.0, 218.97, 95.56, 64.35, 76.41, 71.76, 167.56, 202.3, 88.61, 20.29, 43.14, 138.36, 45.72, 7.2, 3.69, 24.43, 0.0, 21.28, 2.31, 2.31, 0.0, 0.0, 2.95, 2.95, 3.69, 40.81, 0.0, 2.31, 38.52, 2.95, 0.0, 3.69, 2.95, 0.0, 22.95, 8.7, 0.0, 36.16, 34.02, 46.42, 0.0, 82.03, 0.0, 0.0, 0.0, 8.19, 0.0, 20.59, 25.83, 3.69, 12.4, 11.88, 113.55, 3.69, 0.0, 160.81, 40.97, 168.3, 8.19, 263.61, 16.09, 3.69, 137.61, 11.88, 15.57, 44.28, 53.8, 0.0, 126.18, 0.0, 177.04, 15.95, 25.83, 140.31, 100.0, 52.47, 118.05, 22.91, 114.33, 25.11, 210.58, 7.26000000000001, 2.31, 4.31, 110.5, 17.36, 98.31, 13.2, 0.0, 4.0, 0.0, 0.0, 2.95, 0.0, 4.62, 21.18, 0.0, 2.95, 0.0, 0.0, 0.0, 61.7, 5.26000000000001, 0.0, 0.0, 3.46, 0.0, 11.88, 0.0, 3.69, 0.0, 52.47, 0.0, 0.0, 16.09, 0.0, 0.0, 20.07, 11.88, 16.38, 266.47, 0.0, 0.0, 0.0, 0.0, 0.0, 16.38, 12.4, 0.0, 0.0, 20.59, 3.69, 0.0, 3.69, 11.88, 7.38, 8.19, 8.19, 3.69, 7.89, 3.69, 3.69, 230.91, 235.2, 228.1, 70.92, 191.72, 98.0200000000001, 149.24, 47.13, 74.99, 240.2, 64.69, 132.66, 140.57, 86.08, 149.85, 64.16, 47.68, 4.56, 4.31, 2.0, 8.31, 42.44, 27.63, 9.65000000000001, 76.08, 24.37, 2.95, 0.0, 0.0, 0.0, 6.81, 3.69, 0.0, 0.0, 0.0, 0.0, 0.0, 0.0, 0.0, 2.95, 3.45999999999999, 0.0, 0.0, 0.0, 0.0, 0.0, 0.0, 0.0, 11.88, 3.69, 0.0, 0.0, 0.0, 24.99, 100.06, 11.88, 0.0, 29.2, 3.69, 235.32, 0.0, 0.0, 12.4], \"y0\": \" \", \"yaxis\": \"y\"}],\n",
       "                        {\"boxmode\": \"group\", \"height\": 600, \"legend\": {\"tracegroupgap\": 0}, \"margin\": {\"t\": 60}, \"template\": {\"data\": {\"bar\": [{\"error_x\": {\"color\": \"#2a3f5f\"}, \"error_y\": {\"color\": \"#2a3f5f\"}, \"marker\": {\"line\": {\"color\": \"#E5ECF6\", \"width\": 0.5}}, \"type\": \"bar\"}], \"barpolar\": [{\"marker\": {\"line\": {\"color\": \"#E5ECF6\", \"width\": 0.5}}, \"type\": \"barpolar\"}], \"carpet\": [{\"aaxis\": {\"endlinecolor\": \"#2a3f5f\", \"gridcolor\": \"white\", \"linecolor\": \"white\", \"minorgridcolor\": \"white\", \"startlinecolor\": \"#2a3f5f\"}, \"baxis\": {\"endlinecolor\": \"#2a3f5f\", \"gridcolor\": \"white\", \"linecolor\": \"white\", \"minorgridcolor\": \"white\", \"startlinecolor\": \"#2a3f5f\"}, \"type\": \"carpet\"}], \"choropleth\": [{\"colorbar\": {\"outlinewidth\": 0, \"ticks\": \"\"}, \"type\": \"choropleth\"}], \"contour\": [{\"colorbar\": {\"outlinewidth\": 0, \"ticks\": \"\"}, \"colorscale\": [[0.0, \"#0d0887\"], [0.1111111111111111, \"#46039f\"], [0.2222222222222222, \"#7201a8\"], [0.3333333333333333, \"#9c179e\"], [0.4444444444444444, \"#bd3786\"], [0.5555555555555556, \"#d8576b\"], [0.6666666666666666, \"#ed7953\"], [0.7777777777777778, \"#fb9f3a\"], [0.8888888888888888, \"#fdca26\"], [1.0, \"#f0f921\"]], \"type\": \"contour\"}], \"contourcarpet\": [{\"colorbar\": {\"outlinewidth\": 0, \"ticks\": \"\"}, \"type\": \"contourcarpet\"}], \"heatmap\": [{\"colorbar\": {\"outlinewidth\": 0, \"ticks\": \"\"}, \"colorscale\": [[0.0, \"#0d0887\"], [0.1111111111111111, \"#46039f\"], [0.2222222222222222, \"#7201a8\"], [0.3333333333333333, \"#9c179e\"], [0.4444444444444444, \"#bd3786\"], [0.5555555555555556, \"#d8576b\"], [0.6666666666666666, \"#ed7953\"], [0.7777777777777778, \"#fb9f3a\"], [0.8888888888888888, \"#fdca26\"], [1.0, \"#f0f921\"]], \"type\": \"heatmap\"}], \"heatmapgl\": [{\"colorbar\": {\"outlinewidth\": 0, \"ticks\": \"\"}, \"colorscale\": [[0.0, \"#0d0887\"], [0.1111111111111111, \"#46039f\"], [0.2222222222222222, \"#7201a8\"], [0.3333333333333333, \"#9c179e\"], [0.4444444444444444, \"#bd3786\"], [0.5555555555555556, \"#d8576b\"], [0.6666666666666666, \"#ed7953\"], [0.7777777777777778, \"#fb9f3a\"], [0.8888888888888888, \"#fdca26\"], [1.0, \"#f0f921\"]], \"type\": \"heatmapgl\"}], \"histogram\": [{\"marker\": {\"colorbar\": {\"outlinewidth\": 0, \"ticks\": \"\"}}, \"type\": \"histogram\"}], \"histogram2d\": [{\"colorbar\": {\"outlinewidth\": 0, \"ticks\": \"\"}, \"colorscale\": [[0.0, \"#0d0887\"], [0.1111111111111111, \"#46039f\"], [0.2222222222222222, \"#7201a8\"], [0.3333333333333333, \"#9c179e\"], [0.4444444444444444, \"#bd3786\"], [0.5555555555555556, \"#d8576b\"], [0.6666666666666666, \"#ed7953\"], [0.7777777777777778, \"#fb9f3a\"], [0.8888888888888888, \"#fdca26\"], [1.0, \"#f0f921\"]], \"type\": \"histogram2d\"}], \"histogram2dcontour\": [{\"colorbar\": {\"outlinewidth\": 0, \"ticks\": \"\"}, \"colorscale\": [[0.0, \"#0d0887\"], [0.1111111111111111, \"#46039f\"], [0.2222222222222222, \"#7201a8\"], [0.3333333333333333, \"#9c179e\"], [0.4444444444444444, \"#bd3786\"], [0.5555555555555556, \"#d8576b\"], [0.6666666666666666, \"#ed7953\"], [0.7777777777777778, \"#fb9f3a\"], [0.8888888888888888, \"#fdca26\"], [1.0, \"#f0f921\"]], \"type\": \"histogram2dcontour\"}], \"mesh3d\": [{\"colorbar\": {\"outlinewidth\": 0, \"ticks\": \"\"}, \"type\": \"mesh3d\"}], \"parcoords\": [{\"line\": {\"colorbar\": {\"outlinewidth\": 0, \"ticks\": \"\"}}, \"type\": \"parcoords\"}], \"scatter\": [{\"marker\": {\"colorbar\": {\"outlinewidth\": 0, \"ticks\": \"\"}}, \"type\": \"scatter\"}], \"scatter3d\": [{\"line\": {\"colorbar\": {\"outlinewidth\": 0, \"ticks\": \"\"}}, \"marker\": {\"colorbar\": {\"outlinewidth\": 0, \"ticks\": \"\"}}, \"type\": \"scatter3d\"}], \"scattercarpet\": [{\"marker\": {\"colorbar\": {\"outlinewidth\": 0, \"ticks\": \"\"}}, \"type\": \"scattercarpet\"}], \"scattergeo\": [{\"marker\": {\"colorbar\": {\"outlinewidth\": 0, \"ticks\": \"\"}}, \"type\": \"scattergeo\"}], \"scattergl\": [{\"marker\": {\"colorbar\": {\"outlinewidth\": 0, \"ticks\": \"\"}}, \"type\": \"scattergl\"}], \"scattermapbox\": [{\"marker\": {\"colorbar\": {\"outlinewidth\": 0, \"ticks\": \"\"}}, \"type\": \"scattermapbox\"}], \"scatterpolar\": [{\"marker\": {\"colorbar\": {\"outlinewidth\": 0, \"ticks\": \"\"}}, \"type\": \"scatterpolar\"}], \"scatterpolargl\": [{\"marker\": {\"colorbar\": {\"outlinewidth\": 0, \"ticks\": \"\"}}, \"type\": \"scatterpolargl\"}], \"scatterternary\": [{\"marker\": {\"colorbar\": {\"outlinewidth\": 0, \"ticks\": \"\"}}, \"type\": \"scatterternary\"}], \"surface\": [{\"colorbar\": {\"outlinewidth\": 0, \"ticks\": \"\"}, \"colorscale\": [[0.0, \"#0d0887\"], [0.1111111111111111, \"#46039f\"], [0.2222222222222222, \"#7201a8\"], [0.3333333333333333, \"#9c179e\"], [0.4444444444444444, \"#bd3786\"], [0.5555555555555556, \"#d8576b\"], [0.6666666666666666, \"#ed7953\"], [0.7777777777777778, \"#fb9f3a\"], [0.8888888888888888, \"#fdca26\"], [1.0, \"#f0f921\"]], \"type\": \"surface\"}], \"table\": [{\"cells\": {\"fill\": {\"color\": \"#EBF0F8\"}, \"line\": {\"color\": \"white\"}}, \"header\": {\"fill\": {\"color\": \"#C8D4E3\"}, \"line\": {\"color\": \"white\"}}, \"type\": \"table\"}]}, \"layout\": {\"annotationdefaults\": {\"arrowcolor\": \"#2a3f5f\", \"arrowhead\": 0, \"arrowwidth\": 1}, \"colorscale\": {\"diverging\": [[0, \"#8e0152\"], [0.1, \"#c51b7d\"], [0.2, \"#de77ae\"], [0.3, \"#f1b6da\"], [0.4, \"#fde0ef\"], [0.5, \"#f7f7f7\"], [0.6, \"#e6f5d0\"], [0.7, \"#b8e186\"], [0.8, \"#7fbc41\"], [0.9, \"#4d9221\"], [1, \"#276419\"]], \"sequential\": [[0.0, \"#0d0887\"], [0.1111111111111111, \"#46039f\"], [0.2222222222222222, \"#7201a8\"], [0.3333333333333333, \"#9c179e\"], [0.4444444444444444, \"#bd3786\"], [0.5555555555555556, \"#d8576b\"], [0.6666666666666666, \"#ed7953\"], [0.7777777777777778, \"#fb9f3a\"], [0.8888888888888888, \"#fdca26\"], [1.0, \"#f0f921\"]], \"sequentialminus\": [[0.0, \"#0d0887\"], [0.1111111111111111, \"#46039f\"], [0.2222222222222222, \"#7201a8\"], [0.3333333333333333, \"#9c179e\"], [0.4444444444444444, \"#bd3786\"], [0.5555555555555556, \"#d8576b\"], [0.6666666666666666, \"#ed7953\"], [0.7777777777777778, \"#fb9f3a\"], [0.8888888888888888, \"#fdca26\"], [1.0, \"#f0f921\"]]}, \"colorway\": [\"#636efa\", \"#EF553B\", \"#00cc96\", \"#ab63fa\", \"#FFA15A\", \"#19d3f3\", \"#FF6692\", \"#B6E880\", \"#FF97FF\", \"#FECB52\"], \"font\": {\"color\": \"#2a3f5f\"}, \"geo\": {\"bgcolor\": \"white\", \"lakecolor\": \"white\", \"landcolor\": \"#E5ECF6\", \"showlakes\": true, \"showland\": true, \"subunitcolor\": \"white\"}, \"hoverlabel\": {\"align\": \"left\"}, \"hovermode\": \"closest\", \"mapbox\": {\"style\": \"light\"}, \"paper_bgcolor\": \"white\", \"plot_bgcolor\": \"#E5ECF6\", \"polar\": {\"angularaxis\": {\"gridcolor\": \"white\", \"linecolor\": \"white\", \"ticks\": \"\"}, \"bgcolor\": \"#E5ECF6\", \"radialaxis\": {\"gridcolor\": \"white\", \"linecolor\": \"white\", \"ticks\": \"\"}}, \"scene\": {\"xaxis\": {\"backgroundcolor\": \"#E5ECF6\", \"gridcolor\": \"white\", \"gridwidth\": 2, \"linecolor\": \"white\", \"showbackground\": true, \"ticks\": \"\", \"zerolinecolor\": \"white\"}, \"yaxis\": {\"backgroundcolor\": \"#E5ECF6\", \"gridcolor\": \"white\", \"gridwidth\": 2, \"linecolor\": \"white\", \"showbackground\": true, \"ticks\": \"\", \"zerolinecolor\": \"white\"}, \"zaxis\": {\"backgroundcolor\": \"#E5ECF6\", \"gridcolor\": \"white\", \"gridwidth\": 2, \"linecolor\": \"white\", \"showbackground\": true, \"ticks\": \"\", \"zerolinecolor\": \"white\"}}, \"shapedefaults\": {\"line\": {\"color\": \"#2a3f5f\"}}, \"ternary\": {\"aaxis\": {\"gridcolor\": \"white\", \"linecolor\": \"white\", \"ticks\": \"\"}, \"baxis\": {\"gridcolor\": \"white\", \"linecolor\": \"white\", \"ticks\": \"\"}, \"bgcolor\": \"#E5ECF6\", \"caxis\": {\"gridcolor\": \"white\", \"linecolor\": \"white\", \"ticks\": \"\"}}, \"title\": {\"x\": 0.05}, \"xaxis\": {\"automargin\": true, \"gridcolor\": \"white\", \"linecolor\": \"white\", \"ticks\": \"\", \"zerolinecolor\": \"white\", \"zerolinewidth\": 2}, \"yaxis\": {\"automargin\": true, \"gridcolor\": \"white\", \"linecolor\": \"white\", \"ticks\": \"\", \"zerolinecolor\": \"white\", \"zerolinewidth\": 2}}}, \"xaxis\": {\"anchor\": \"y\", \"domain\": [0.0, 0.98]}, \"yaxis\": {\"anchor\": \"x\", \"domain\": [0.0, 1.0], \"title\": {\"text\": \"whole_process_delay\"}}},\n",
       "                        {\"responsive\": true}\n",
       "                    ).then(function(){\n",
       "                            \n",
       "var gd = document.getElementById('8eda38b5-f070-4e75-92f5-2d511006e297');\n",
       "var x = new MutationObserver(function (mutations, observer) {{\n",
       "        var display = window.getComputedStyle(gd).display;\n",
       "        if (!display || display === 'none') {{\n",
       "            console.log([gd, 'removed!']);\n",
       "            Plotly.purge(gd);\n",
       "            observer.disconnect();\n",
       "        }}\n",
       "}});\n",
       "\n",
       "// Listen for the removal of the full notebook cells\n",
       "var notebookContainer = gd.closest('#notebook-container');\n",
       "if (notebookContainer) {{\n",
       "    x.observe(notebookContainer, {childList: true});\n",
       "}}\n",
       "\n",
       "// Listen for the clearing of the current output cell\n",
       "var outputEl = gd.closest('.output');\n",
       "if (outputEl) {{\n",
       "    x.observe(outputEl, {childList: true});\n",
       "}}\n",
       "\n",
       "                        })\n",
       "                };\n",
       "                });\n",
       "            </script>\n",
       "        </div>"
      ]
     },
     "metadata": {},
     "output_type": "display_data"
    }
   ],
   "source": [
    "px.box(df[(df.missing_plan_cnt_planned_time == 0)], y='whole_process_delay')"
   ]
  },
  {
   "cell_type": "code",
   "execution_count": 46,
   "metadata": {},
   "outputs": [
    {
     "data": {
      "application/vnd.plotly.v1+json": {
       "config": {
        "plotlyServerURL": "https://plot.ly"
       },
       "data": [
        {
         "alignmentgroup": "True",
         "hoverlabel": {
          "namelength": 0
         },
         "hovertemplate": "missing_plan_cnt_first_delay=%{y}",
         "legendgroup": "",
         "marker": {
          "color": "#636efa"
         },
         "name": "",
         "notched": false,
         "offsetgroup": "",
         "orientation": "v",
         "showlegend": false,
         "type": "box",
         "x0": " ",
         "xaxis": "x",
         "y": [
          0,
          0,
          1391,
          1415,
          1386,
          1399,
          1391,
          1396,
          1392,
          1387,
          1379,
          1384,
          0,
          1392,
          1391,
          1383,
          1391,
          1391,
          1381,
          1370,
          1379,
          1390,
          1383,
          0,
          1380,
          1384,
          1356,
          1366,
          1383,
          1368,
          1380,
          1369,
          1354,
          1375,
          1355,
          1372,
          1376,
          1373,
          1377,
          1351,
          1375,
          1353,
          1254,
          1357,
          1334,
          1368,
          1370,
          1332,
          1376,
          1334,
          1350,
          1362,
          1282,
          863,
          1334,
          1348,
          1415,
          928,
          1224,
          0,
          0,
          1415,
          42,
          0,
          667,
          1316,
          1257,
          1380,
          1024,
          0,
          0,
          0,
          0,
          0,
          1306,
          0,
          176,
          1324,
          1375,
          0,
          0,
          0,
          0,
          0,
          0,
          0,
          0,
          0,
          0,
          1387,
          0,
          1306,
          0,
          1155,
          0,
          0,
          0,
          0,
          0,
          0,
          1383,
          0,
          0,
          1372,
          1369,
          0,
          1353,
          0,
          1415,
          1395,
          1391,
          0,
          0,
          1392,
          1391,
          1395,
          1389,
          1415,
          1391,
          1386,
          1415,
          1388,
          1383,
          810,
          1387,
          1387,
          1369,
          1393,
          1377,
          1379,
          1385,
          1367,
          1382,
          1415,
          0,
          1363,
          1381,
          1382,
          1373,
          1378,
          1368,
          1415,
          1378,
          1379,
          1415,
          0,
          1384,
          1373,
          1370,
          1359,
          1353,
          1369,
          1361,
          1359,
          1373,
          1360,
          1275,
          1361,
          1368,
          1261,
          1415,
          1168,
          1331,
          1328,
          1359,
          1292,
          1265,
          1359,
          1336,
          1357,
          0,
          402,
          1027,
          635,
          0,
          1244,
          1053,
          1104,
          1364,
          0,
          0,
          0,
          0,
          270,
          0,
          0,
          408,
          0,
          0,
          1368,
          1415,
          1415,
          0,
          0,
          0,
          0,
          0,
          0,
          0,
          0,
          1380,
          0,
          0,
          0,
          1415,
          0,
          0,
          0,
          0,
          0,
          0,
          1382,
          0,
          0,
          0,
          0,
          0,
          0,
          0,
          1395,
          1393,
          1394,
          0,
          1367,
          1395,
          1397,
          1392,
          1395,
          1395,
          1388,
          1388,
          1415,
          1389,
          1415,
          1110,
          1389,
          0,
          1256,
          1390,
          1128,
          0,
          0,
          1211,
          1286,
          1208,
          1254,
          351,
          136,
          98,
          923,
          737,
          0,
          0,
          1305,
          0,
          1415,
          1360,
          1267,
          1104,
          1360,
          1273,
          1295,
          1267,
          1351,
          1093,
          1370,
          1358,
          1360,
          1169,
          1364,
          1368,
          1367,
          1351,
          1372,
          1358,
          1355,
          1362,
          1300,
          1339,
          1376,
          1363,
          1368,
          1371,
          1376,
          1369,
          1415,
          1377,
          1379,
          1367,
          1368,
          1382,
          1369,
          1360,
          1379,
          1392,
          1361,
          1372,
          1378,
          1373,
          1388,
          1415,
          1382,
          1378,
          1385,
          1374,
          1380,
          1370,
          1377,
          1384,
          1385,
          1388,
          1381,
          1380,
          1381,
          1388,
          1375,
          1371,
          1391,
          1386,
          1415,
          1386,
          1388,
          1384,
          1392,
          1385,
          1386,
          1387,
          1384,
          1394,
          1415,
          1397,
          1389,
          1374,
          1351,
          1376,
          1371,
          1380,
          1372,
          1358,
          1106,
          1192,
          1373,
          1280,
          0,
          1415,
          1218,
          1364,
          1350,
          1374,
          1218,
          280,
          0,
          0,
          1273,
          1112,
          1364,
          1327,
          0,
          1402,
          1237,
          867,
          0,
          555,
          0,
          932,
          527,
          1337,
          61,
          821,
          1309,
          0,
          1297,
          778,
          0,
          1009,
          1376,
          897,
          1329,
          0,
          1325,
          1322,
          1331,
          1356,
          1348,
          1364,
          1356,
          1275,
          1380,
          1374,
          1368,
          1363,
          1370,
          1354,
          1375,
          1376,
          1377,
          1358,
          1360,
          1370,
          1415,
          1375,
          1368,
          1375,
          1362,
          1383,
          1370,
          1384,
          1373,
          1290,
          1388,
          1415,
          1377,
          1374,
          1384,
          1391,
          1369,
          1356,
          1383,
          1369,
          1367,
          1387,
          1387,
          1378,
          1370,
          1377,
          1372,
          1389,
          1363,
          1374,
          1415,
          1391,
          1389,
          1384,
          1384,
          1378,
          1379,
          1380,
          1386,
          1381,
          1397,
          1393,
          1368,
          1394,
          1380,
          0,
          1368,
          1405,
          1394,
          1391,
          1336,
          1339,
          1358,
          1382,
          1381,
          1306,
          303,
          1150,
          1353,
          1347,
          884,
          1020,
          198,
          76,
          0,
          1028,
          1356,
          1415,
          1391,
          1373,
          1349,
          869,
          0,
          1379,
          0,
          0,
          1387,
          850,
          1017,
          466,
          1188,
          0,
          910,
          730,
          1000,
          0,
          0,
          1338,
          0,
          1353,
          1081,
          908,
          1373,
          262,
          1275,
          1123,
          1305,
          1360,
          1326,
          404,
          1372,
          400,
          837,
          1364,
          1340,
          1128,
          1332,
          1356,
          1358,
          1348,
          1364,
          1415,
          1390,
          1355,
          1363,
          1375,
          1359,
          1354,
          1358,
          1402,
          1383,
          1381,
          1385,
          1384,
          1391,
          1366,
          1393,
          1375,
          1383,
          1388,
          1376,
          1373,
          1382,
          1382,
          1387,
          1379,
          1371,
          1356,
          1378,
          1372,
          1385,
          1387,
          1393,
          1385,
          1389,
          1387,
          1382,
          1379,
          1395,
          1384,
          1377,
          1397,
          1381,
          1378,
          1393,
          1384,
          0,
          1377,
          1383,
          1388,
          1346,
          1415,
          1364,
          1340,
          1362,
          1368,
          1380,
          0,
          1365,
          1375,
          1375,
          1347,
          1364,
          1247,
          1409,
          1300,
          1226,
          1115,
          1010,
          1378,
          1083,
          1227,
          939,
          1376,
          1415,
          1312,
          1381,
          1116,
          912,
          1357,
          951,
          752,
          716,
          0,
          425,
          1369,
          0,
          754,
          1374,
          994,
          1370,
          1291,
          1354,
          316,
          1178,
          1224,
          0,
          1364,
          0,
          395,
          1410,
          1373,
          1355,
          1367,
          1302,
          1217,
          1385,
          1358,
          0,
          1359,
          1337,
          1368,
          1386,
          1361,
          1295,
          1374,
          1395,
          1370,
          1181,
          1370,
          1386,
          1369,
          1381,
          1383,
          1389,
          1380,
          1370,
          1377,
          1372,
          1367,
          1395,
          1367,
          1381,
          1392,
          1387,
          1388,
          1371,
          1376,
          1380,
          1387,
          1372,
          1383,
          1378,
          1386,
          1383,
          1388,
          1382,
          1392,
          1402,
          1391,
          1386,
          1378,
          1392,
          1387,
          1388,
          1385,
          1400,
          0,
          1387,
          1382,
          1376,
          1381,
          1415,
          1392,
          1359,
          1363,
          1382,
          1381,
          0,
          1381,
          1390,
          1394,
          1385,
          1346,
          1232,
          1367,
          1333,
          1385,
          1376,
          1230,
          1324,
          1305,
          407,
          1354,
          1319,
          1112,
          1312,
          1228,
          1204,
          1307,
          1359,
          1318,
          0,
          0,
          846,
          847,
          0,
          441,
          0,
          891,
          1289,
          1368,
          1357,
          0,
          1068,
          454,
          0,
          0,
          1362,
          0,
          1415,
          1252,
          1381,
          1364,
          0,
          1323,
          790,
          1289,
          1360,
          0,
          1376,
          1351,
          1238,
          1375,
          1390,
          1196,
          1260,
          927,
          642,
          881,
          1363,
          1363,
          1092,
          0,
          1385,
          1389,
          1292,
          1352,
          1390,
          1376,
          1391,
          1344,
          1373,
          1357,
          1351,
          1415,
          1354,
          1387,
          1354,
          1365,
          1398,
          1355,
          1386,
          1374,
          1377,
          1415,
          1382,
          1383,
          1381,
          1354,
          1385,
          1386,
          1404,
          1389,
          1393,
          1388,
          1387,
          1388,
          0,
          1397,
          1375,
          1382,
          1378,
          1374,
          1383,
          1393,
          1378,
          1383,
          1386,
          0,
          1353,
          1294,
          1378,
          1394,
          1345,
          1374,
          1370,
          1378,
          1384,
          1351,
          1357,
          1367,
          1330,
          1375,
          701,
          1351,
          1351,
          1214,
          1358,
          1364,
          1289,
          1369,
          0,
          1385,
          1415,
          1350,
          1280,
          1399,
          1392,
          840,
          686,
          980,
          1415,
          0,
          1382,
          0,
          0,
          0,
          0,
          306,
          895,
          56,
          942,
          1372,
          0,
          0,
          1378,
          0,
          442,
          614,
          1238,
          1329,
          1290,
          1244,
          1381,
          1265,
          961,
          1338,
          1262,
          1341,
          1371,
          206,
          1367,
          1351,
          1207,
          1378,
          1355,
          1363,
          1388,
          1309,
          1365,
          1353,
          1399,
          1379,
          1160,
          1377,
          1415,
          1125,
          1310,
          1226,
          1370,
          1369,
          1372,
          1378,
          1389,
          1393,
          1378,
          1386,
          1386,
          1382,
          1389,
          1395,
          1394,
          1379,
          1387,
          1394,
          1386,
          1394,
          1392,
          1415,
          1380,
          1380,
          1387,
          1395,
          1380,
          1386,
          1392,
          1385,
          1388,
          1365,
          0,
          1362,
          1348,
          1367,
          1415,
          1365,
          1379,
          1360,
          1398,
          1366,
          1362,
          1319,
          1378,
          1362,
          1341,
          1330,
          1368,
          1370,
          1346,
          1357,
          1306,
          1298,
          1415,
          1400,
          1322,
          705,
          1376,
          0,
          810,
          1119,
          985,
          0,
          0,
          1360,
          1070,
          1331,
          1373,
          1415,
          0,
          1254,
          1295,
          1207,
          0,
          1151,
          1376,
          267,
          0,
          1165,
          1361,
          0,
          1396,
          1388,
          1234,
          0,
          1343,
          1381,
          0,
          0,
          0,
          1007,
          0,
          1082,
          1211,
          646,
          977,
          1136,
          1383,
          1382,
          201,
          0,
          1332,
          1403,
          1411,
          1358,
          1387,
          1358,
          1354,
          1381,
          1232,
          1323,
          1365,
          1372,
          1366,
          1389,
          0,
          1383,
          0,
          1401,
          1388,
          1415,
          1386,
          1399,
          1393,
          1383,
          1394,
          1389,
          1393,
          1393,
          1401,
          1388,
          1017,
          1390,
          1390,
          1378,
          1387,
          1391,
          1381,
          1392,
          1379,
          1389,
          1357,
          1318,
          1373,
          1365,
          1389,
          1360,
          1379,
          1392,
          1415,
          1364,
          1353,
          1372,
          1304,
          1346,
          1374,
          1374,
          1376,
          1329,
          1349,
          1380,
          1210,
          1353,
          1351,
          1363,
          1333,
          1293,
          925,
          1301,
          1358,
          1301,
          1415,
          0,
          585,
          0,
          1368,
          0,
          690,
          0,
          773,
          1270,
          0,
          665,
          0,
          0,
          0,
          1382,
          1084,
          1266,
          0,
          0,
          1415,
          0,
          1360,
          0,
          1415,
          0,
          1379,
          1266,
          0,
          0,
          1354,
          0,
          0,
          1345,
          1360,
          1252,
          1398,
          1384,
          0,
          0,
          0,
          1415,
          0,
          1384,
          0,
          1305,
          1317,
          0,
          1386,
          0,
          1396,
          1367,
          0,
          1353,
          1360,
          1374,
          1356,
          1354,
          1359,
          1415,
          1415,
          1398,
          1392,
          1395,
          1393,
          1389,
          1395,
          1388,
          1388,
          1396,
          1389,
          459,
          1379,
          1384,
          1391,
          1381,
          1387,
          1377,
          1387,
          1386,
          1371,
          1383,
          776,
          1364,
          1377,
          1390,
          1376,
          1378,
          1371,
          1390,
          1362,
          1365,
          1373,
          1226,
          1384,
          1359,
          1390,
          1359,
          1375,
          1375,
          1355,
          1362,
          1368,
          1354,
          1377,
          1370,
          1371,
          1335,
          1012,
          1030,
          1240,
          1255,
          1140,
          1363,
          1206,
          1380,
          1351,
          1315,
          1356,
          1352,
          94,
          0,
          0,
          0,
          919,
          812,
          1377,
          0,
          0,
          0,
          0,
          0,
          0,
          0,
          860,
          1415,
          0,
          1379,
          0,
          0,
          0,
          0,
          0,
          0,
          185,
          1271,
          0,
          0,
          1415,
          0,
          1353,
          1347,
          1366,
          0,
          1365,
          1254,
          1403,
          0,
          0,
          1383,
          1388
         ],
         "y0": " ",
         "yaxis": "y"
        }
       ],
       "layout": {
        "boxmode": "group",
        "height": 600,
        "legend": {
         "tracegroupgap": 0
        },
        "margin": {
         "t": 60
        },
        "template": {
         "data": {
          "bar": [
           {
            "error_x": {
             "color": "#2a3f5f"
            },
            "error_y": {
             "color": "#2a3f5f"
            },
            "marker": {
             "line": {
              "color": "#E5ECF6",
              "width": 0.5
             }
            },
            "type": "bar"
           }
          ],
          "barpolar": [
           {
            "marker": {
             "line": {
              "color": "#E5ECF6",
              "width": 0.5
             }
            },
            "type": "barpolar"
           }
          ],
          "carpet": [
           {
            "aaxis": {
             "endlinecolor": "#2a3f5f",
             "gridcolor": "white",
             "linecolor": "white",
             "minorgridcolor": "white",
             "startlinecolor": "#2a3f5f"
            },
            "baxis": {
             "endlinecolor": "#2a3f5f",
             "gridcolor": "white",
             "linecolor": "white",
             "minorgridcolor": "white",
             "startlinecolor": "#2a3f5f"
            },
            "type": "carpet"
           }
          ],
          "choropleth": [
           {
            "colorbar": {
             "outlinewidth": 0,
             "ticks": ""
            },
            "type": "choropleth"
           }
          ],
          "contour": [
           {
            "colorbar": {
             "outlinewidth": 0,
             "ticks": ""
            },
            "colorscale": [
             [
              0,
              "#0d0887"
             ],
             [
              0.1111111111111111,
              "#46039f"
             ],
             [
              0.2222222222222222,
              "#7201a8"
             ],
             [
              0.3333333333333333,
              "#9c179e"
             ],
             [
              0.4444444444444444,
              "#bd3786"
             ],
             [
              0.5555555555555556,
              "#d8576b"
             ],
             [
              0.6666666666666666,
              "#ed7953"
             ],
             [
              0.7777777777777778,
              "#fb9f3a"
             ],
             [
              0.8888888888888888,
              "#fdca26"
             ],
             [
              1,
              "#f0f921"
             ]
            ],
            "type": "contour"
           }
          ],
          "contourcarpet": [
           {
            "colorbar": {
             "outlinewidth": 0,
             "ticks": ""
            },
            "type": "contourcarpet"
           }
          ],
          "heatmap": [
           {
            "colorbar": {
             "outlinewidth": 0,
             "ticks": ""
            },
            "colorscale": [
             [
              0,
              "#0d0887"
             ],
             [
              0.1111111111111111,
              "#46039f"
             ],
             [
              0.2222222222222222,
              "#7201a8"
             ],
             [
              0.3333333333333333,
              "#9c179e"
             ],
             [
              0.4444444444444444,
              "#bd3786"
             ],
             [
              0.5555555555555556,
              "#d8576b"
             ],
             [
              0.6666666666666666,
              "#ed7953"
             ],
             [
              0.7777777777777778,
              "#fb9f3a"
             ],
             [
              0.8888888888888888,
              "#fdca26"
             ],
             [
              1,
              "#f0f921"
             ]
            ],
            "type": "heatmap"
           }
          ],
          "heatmapgl": [
           {
            "colorbar": {
             "outlinewidth": 0,
             "ticks": ""
            },
            "colorscale": [
             [
              0,
              "#0d0887"
             ],
             [
              0.1111111111111111,
              "#46039f"
             ],
             [
              0.2222222222222222,
              "#7201a8"
             ],
             [
              0.3333333333333333,
              "#9c179e"
             ],
             [
              0.4444444444444444,
              "#bd3786"
             ],
             [
              0.5555555555555556,
              "#d8576b"
             ],
             [
              0.6666666666666666,
              "#ed7953"
             ],
             [
              0.7777777777777778,
              "#fb9f3a"
             ],
             [
              0.8888888888888888,
              "#fdca26"
             ],
             [
              1,
              "#f0f921"
             ]
            ],
            "type": "heatmapgl"
           }
          ],
          "histogram": [
           {
            "marker": {
             "colorbar": {
              "outlinewidth": 0,
              "ticks": ""
             }
            },
            "type": "histogram"
           }
          ],
          "histogram2d": [
           {
            "colorbar": {
             "outlinewidth": 0,
             "ticks": ""
            },
            "colorscale": [
             [
              0,
              "#0d0887"
             ],
             [
              0.1111111111111111,
              "#46039f"
             ],
             [
              0.2222222222222222,
              "#7201a8"
             ],
             [
              0.3333333333333333,
              "#9c179e"
             ],
             [
              0.4444444444444444,
              "#bd3786"
             ],
             [
              0.5555555555555556,
              "#d8576b"
             ],
             [
              0.6666666666666666,
              "#ed7953"
             ],
             [
              0.7777777777777778,
              "#fb9f3a"
             ],
             [
              0.8888888888888888,
              "#fdca26"
             ],
             [
              1,
              "#f0f921"
             ]
            ],
            "type": "histogram2d"
           }
          ],
          "histogram2dcontour": [
           {
            "colorbar": {
             "outlinewidth": 0,
             "ticks": ""
            },
            "colorscale": [
             [
              0,
              "#0d0887"
             ],
             [
              0.1111111111111111,
              "#46039f"
             ],
             [
              0.2222222222222222,
              "#7201a8"
             ],
             [
              0.3333333333333333,
              "#9c179e"
             ],
             [
              0.4444444444444444,
              "#bd3786"
             ],
             [
              0.5555555555555556,
              "#d8576b"
             ],
             [
              0.6666666666666666,
              "#ed7953"
             ],
             [
              0.7777777777777778,
              "#fb9f3a"
             ],
             [
              0.8888888888888888,
              "#fdca26"
             ],
             [
              1,
              "#f0f921"
             ]
            ],
            "type": "histogram2dcontour"
           }
          ],
          "mesh3d": [
           {
            "colorbar": {
             "outlinewidth": 0,
             "ticks": ""
            },
            "type": "mesh3d"
           }
          ],
          "parcoords": [
           {
            "line": {
             "colorbar": {
              "outlinewidth": 0,
              "ticks": ""
             }
            },
            "type": "parcoords"
           }
          ],
          "scatter": [
           {
            "marker": {
             "colorbar": {
              "outlinewidth": 0,
              "ticks": ""
             }
            },
            "type": "scatter"
           }
          ],
          "scatter3d": [
           {
            "line": {
             "colorbar": {
              "outlinewidth": 0,
              "ticks": ""
             }
            },
            "marker": {
             "colorbar": {
              "outlinewidth": 0,
              "ticks": ""
             }
            },
            "type": "scatter3d"
           }
          ],
          "scattercarpet": [
           {
            "marker": {
             "colorbar": {
              "outlinewidth": 0,
              "ticks": ""
             }
            },
            "type": "scattercarpet"
           }
          ],
          "scattergeo": [
           {
            "marker": {
             "colorbar": {
              "outlinewidth": 0,
              "ticks": ""
             }
            },
            "type": "scattergeo"
           }
          ],
          "scattergl": [
           {
            "marker": {
             "colorbar": {
              "outlinewidth": 0,
              "ticks": ""
             }
            },
            "type": "scattergl"
           }
          ],
          "scattermapbox": [
           {
            "marker": {
             "colorbar": {
              "outlinewidth": 0,
              "ticks": ""
             }
            },
            "type": "scattermapbox"
           }
          ],
          "scatterpolar": [
           {
            "marker": {
             "colorbar": {
              "outlinewidth": 0,
              "ticks": ""
             }
            },
            "type": "scatterpolar"
           }
          ],
          "scatterpolargl": [
           {
            "marker": {
             "colorbar": {
              "outlinewidth": 0,
              "ticks": ""
             }
            },
            "type": "scatterpolargl"
           }
          ],
          "scatterternary": [
           {
            "marker": {
             "colorbar": {
              "outlinewidth": 0,
              "ticks": ""
             }
            },
            "type": "scatterternary"
           }
          ],
          "surface": [
           {
            "colorbar": {
             "outlinewidth": 0,
             "ticks": ""
            },
            "colorscale": [
             [
              0,
              "#0d0887"
             ],
             [
              0.1111111111111111,
              "#46039f"
             ],
             [
              0.2222222222222222,
              "#7201a8"
             ],
             [
              0.3333333333333333,
              "#9c179e"
             ],
             [
              0.4444444444444444,
              "#bd3786"
             ],
             [
              0.5555555555555556,
              "#d8576b"
             ],
             [
              0.6666666666666666,
              "#ed7953"
             ],
             [
              0.7777777777777778,
              "#fb9f3a"
             ],
             [
              0.8888888888888888,
              "#fdca26"
             ],
             [
              1,
              "#f0f921"
             ]
            ],
            "type": "surface"
           }
          ],
          "table": [
           {
            "cells": {
             "fill": {
              "color": "#EBF0F8"
             },
             "line": {
              "color": "white"
             }
            },
            "header": {
             "fill": {
              "color": "#C8D4E3"
             },
             "line": {
              "color": "white"
             }
            },
            "type": "table"
           }
          ]
         },
         "layout": {
          "annotationdefaults": {
           "arrowcolor": "#2a3f5f",
           "arrowhead": 0,
           "arrowwidth": 1
          },
          "colorscale": {
           "diverging": [
            [
             0,
             "#8e0152"
            ],
            [
             0.1,
             "#c51b7d"
            ],
            [
             0.2,
             "#de77ae"
            ],
            [
             0.3,
             "#f1b6da"
            ],
            [
             0.4,
             "#fde0ef"
            ],
            [
             0.5,
             "#f7f7f7"
            ],
            [
             0.6,
             "#e6f5d0"
            ],
            [
             0.7,
             "#b8e186"
            ],
            [
             0.8,
             "#7fbc41"
            ],
            [
             0.9,
             "#4d9221"
            ],
            [
             1,
             "#276419"
            ]
           ],
           "sequential": [
            [
             0,
             "#0d0887"
            ],
            [
             0.1111111111111111,
             "#46039f"
            ],
            [
             0.2222222222222222,
             "#7201a8"
            ],
            [
             0.3333333333333333,
             "#9c179e"
            ],
            [
             0.4444444444444444,
             "#bd3786"
            ],
            [
             0.5555555555555556,
             "#d8576b"
            ],
            [
             0.6666666666666666,
             "#ed7953"
            ],
            [
             0.7777777777777778,
             "#fb9f3a"
            ],
            [
             0.8888888888888888,
             "#fdca26"
            ],
            [
             1,
             "#f0f921"
            ]
           ],
           "sequentialminus": [
            [
             0,
             "#0d0887"
            ],
            [
             0.1111111111111111,
             "#46039f"
            ],
            [
             0.2222222222222222,
             "#7201a8"
            ],
            [
             0.3333333333333333,
             "#9c179e"
            ],
            [
             0.4444444444444444,
             "#bd3786"
            ],
            [
             0.5555555555555556,
             "#d8576b"
            ],
            [
             0.6666666666666666,
             "#ed7953"
            ],
            [
             0.7777777777777778,
             "#fb9f3a"
            ],
            [
             0.8888888888888888,
             "#fdca26"
            ],
            [
             1,
             "#f0f921"
            ]
           ]
          },
          "colorway": [
           "#636efa",
           "#EF553B",
           "#00cc96",
           "#ab63fa",
           "#FFA15A",
           "#19d3f3",
           "#FF6692",
           "#B6E880",
           "#FF97FF",
           "#FECB52"
          ],
          "font": {
           "color": "#2a3f5f"
          },
          "geo": {
           "bgcolor": "white",
           "lakecolor": "white",
           "landcolor": "#E5ECF6",
           "showlakes": true,
           "showland": true,
           "subunitcolor": "white"
          },
          "hoverlabel": {
           "align": "left"
          },
          "hovermode": "closest",
          "mapbox": {
           "style": "light"
          },
          "paper_bgcolor": "white",
          "plot_bgcolor": "#E5ECF6",
          "polar": {
           "angularaxis": {
            "gridcolor": "white",
            "linecolor": "white",
            "ticks": ""
           },
           "bgcolor": "#E5ECF6",
           "radialaxis": {
            "gridcolor": "white",
            "linecolor": "white",
            "ticks": ""
           }
          },
          "scene": {
           "xaxis": {
            "backgroundcolor": "#E5ECF6",
            "gridcolor": "white",
            "gridwidth": 2,
            "linecolor": "white",
            "showbackground": true,
            "ticks": "",
            "zerolinecolor": "white"
           },
           "yaxis": {
            "backgroundcolor": "#E5ECF6",
            "gridcolor": "white",
            "gridwidth": 2,
            "linecolor": "white",
            "showbackground": true,
            "ticks": "",
            "zerolinecolor": "white"
           },
           "zaxis": {
            "backgroundcolor": "#E5ECF6",
            "gridcolor": "white",
            "gridwidth": 2,
            "linecolor": "white",
            "showbackground": true,
            "ticks": "",
            "zerolinecolor": "white"
           }
          },
          "shapedefaults": {
           "line": {
            "color": "#2a3f5f"
           }
          },
          "ternary": {
           "aaxis": {
            "gridcolor": "white",
            "linecolor": "white",
            "ticks": ""
           },
           "baxis": {
            "gridcolor": "white",
            "linecolor": "white",
            "ticks": ""
           },
           "bgcolor": "#E5ECF6",
           "caxis": {
            "gridcolor": "white",
            "linecolor": "white",
            "ticks": ""
           }
          },
          "title": {
           "x": 0.05
          },
          "xaxis": {
           "automargin": true,
           "gridcolor": "white",
           "linecolor": "white",
           "ticks": "",
           "zerolinecolor": "white",
           "zerolinewidth": 2
          },
          "yaxis": {
           "automargin": true,
           "gridcolor": "white",
           "linecolor": "white",
           "ticks": "",
           "zerolinecolor": "white",
           "zerolinewidth": 2
          }
         }
        },
        "xaxis": {
         "anchor": "y",
         "domain": [
          0,
          0.98
         ]
        },
        "yaxis": {
         "anchor": "x",
         "domain": [
          0,
          1
         ],
         "title": {
          "text": "missing_plan_cnt_first_delay"
         }
        }
       }
      },
      "text/html": [
       "<div>\n",
       "        \n",
       "        \n",
       "            <div id=\"d1b4d596-2def-48ee-abb8-5cd59d44ba29\" class=\"plotly-graph-div\" style=\"height:600px; width:100%;\"></div>\n",
       "            <script type=\"text/javascript\">\n",
       "                require([\"plotly\"], function(Plotly) {\n",
       "                    window.PLOTLYENV=window.PLOTLYENV || {};\n",
       "                    \n",
       "                if (document.getElementById(\"d1b4d596-2def-48ee-abb8-5cd59d44ba29\")) {\n",
       "                    Plotly.newPlot(\n",
       "                        'd1b4d596-2def-48ee-abb8-5cd59d44ba29',\n",
       "                        [{\"alignmentgroup\": \"True\", \"hoverlabel\": {\"namelength\": 0}, \"hovertemplate\": \"missing_plan_cnt_first_delay=%{y}\", \"legendgroup\": \"\", \"marker\": {\"color\": \"#636efa\"}, \"name\": \"\", \"notched\": false, \"offsetgroup\": \"\", \"orientation\": \"v\", \"showlegend\": false, \"type\": \"box\", \"x0\": \" \", \"xaxis\": \"x\", \"y\": [0, 0, 1391, 1415, 1386, 1399, 1391, 1396, 1392, 1387, 1379, 1384, 0, 1392, 1391, 1383, 1391, 1391, 1381, 1370, 1379, 1390, 1383, 0, 1380, 1384, 1356, 1366, 1383, 1368, 1380, 1369, 1354, 1375, 1355, 1372, 1376, 1373, 1377, 1351, 1375, 1353, 1254, 1357, 1334, 1368, 1370, 1332, 1376, 1334, 1350, 1362, 1282, 863, 1334, 1348, 1415, 928, 1224, 0, 0, 1415, 42, 0, 667, 1316, 1257, 1380, 1024, 0, 0, 0, 0, 0, 1306, 0, 176, 1324, 1375, 0, 0, 0, 0, 0, 0, 0, 0, 0, 0, 1387, 0, 1306, 0, 1155, 0, 0, 0, 0, 0, 0, 1383, 0, 0, 1372, 1369, 0, 1353, 0, 1415, 1395, 1391, 0, 0, 1392, 1391, 1395, 1389, 1415, 1391, 1386, 1415, 1388, 1383, 810, 1387, 1387, 1369, 1393, 1377, 1379, 1385, 1367, 1382, 1415, 0, 1363, 1381, 1382, 1373, 1378, 1368, 1415, 1378, 1379, 1415, 0, 1384, 1373, 1370, 1359, 1353, 1369, 1361, 1359, 1373, 1360, 1275, 1361, 1368, 1261, 1415, 1168, 1331, 1328, 1359, 1292, 1265, 1359, 1336, 1357, 0, 402, 1027, 635, 0, 1244, 1053, 1104, 1364, 0, 0, 0, 0, 270, 0, 0, 408, 0, 0, 1368, 1415, 1415, 0, 0, 0, 0, 0, 0, 0, 0, 1380, 0, 0, 0, 1415, 0, 0, 0, 0, 0, 0, 1382, 0, 0, 0, 0, 0, 0, 0, 1395, 1393, 1394, 0, 1367, 1395, 1397, 1392, 1395, 1395, 1388, 1388, 1415, 1389, 1415, 1110, 1389, 0, 1256, 1390, 1128, 0, 0, 1211, 1286, 1208, 1254, 351, 136, 98, 923, 737, 0, 0, 1305, 0, 1415, 1360, 1267, 1104, 1360, 1273, 1295, 1267, 1351, 1093, 1370, 1358, 1360, 1169, 1364, 1368, 1367, 1351, 1372, 1358, 1355, 1362, 1300, 1339, 1376, 1363, 1368, 1371, 1376, 1369, 1415, 1377, 1379, 1367, 1368, 1382, 1369, 1360, 1379, 1392, 1361, 1372, 1378, 1373, 1388, 1415, 1382, 1378, 1385, 1374, 1380, 1370, 1377, 1384, 1385, 1388, 1381, 1380, 1381, 1388, 1375, 1371, 1391, 1386, 1415, 1386, 1388, 1384, 1392, 1385, 1386, 1387, 1384, 1394, 1415, 1397, 1389, 1374, 1351, 1376, 1371, 1380, 1372, 1358, 1106, 1192, 1373, 1280, 0, 1415, 1218, 1364, 1350, 1374, 1218, 280, 0, 0, 1273, 1112, 1364, 1327, 0, 1402, 1237, 867, 0, 555, 0, 932, 527, 1337, 61, 821, 1309, 0, 1297, 778, 0, 1009, 1376, 897, 1329, 0, 1325, 1322, 1331, 1356, 1348, 1364, 1356, 1275, 1380, 1374, 1368, 1363, 1370, 1354, 1375, 1376, 1377, 1358, 1360, 1370, 1415, 1375, 1368, 1375, 1362, 1383, 1370, 1384, 1373, 1290, 1388, 1415, 1377, 1374, 1384, 1391, 1369, 1356, 1383, 1369, 1367, 1387, 1387, 1378, 1370, 1377, 1372, 1389, 1363, 1374, 1415, 1391, 1389, 1384, 1384, 1378, 1379, 1380, 1386, 1381, 1397, 1393, 1368, 1394, 1380, 0, 1368, 1405, 1394, 1391, 1336, 1339, 1358, 1382, 1381, 1306, 303, 1150, 1353, 1347, 884, 1020, 198, 76, 0, 1028, 1356, 1415, 1391, 1373, 1349, 869, 0, 1379, 0, 0, 1387, 850, 1017, 466, 1188, 0, 910, 730, 1000, 0, 0, 1338, 0, 1353, 1081, 908, 1373, 262, 1275, 1123, 1305, 1360, 1326, 404, 1372, 400, 837, 1364, 1340, 1128, 1332, 1356, 1358, 1348, 1364, 1415, 1390, 1355, 1363, 1375, 1359, 1354, 1358, 1402, 1383, 1381, 1385, 1384, 1391, 1366, 1393, 1375, 1383, 1388, 1376, 1373, 1382, 1382, 1387, 1379, 1371, 1356, 1378, 1372, 1385, 1387, 1393, 1385, 1389, 1387, 1382, 1379, 1395, 1384, 1377, 1397, 1381, 1378, 1393, 1384, 0, 1377, 1383, 1388, 1346, 1415, 1364, 1340, 1362, 1368, 1380, 0, 1365, 1375, 1375, 1347, 1364, 1247, 1409, 1300, 1226, 1115, 1010, 1378, 1083, 1227, 939, 1376, 1415, 1312, 1381, 1116, 912, 1357, 951, 752, 716, 0, 425, 1369, 0, 754, 1374, 994, 1370, 1291, 1354, 316, 1178, 1224, 0, 1364, 0, 395, 1410, 1373, 1355, 1367, 1302, 1217, 1385, 1358, 0, 1359, 1337, 1368, 1386, 1361, 1295, 1374, 1395, 1370, 1181, 1370, 1386, 1369, 1381, 1383, 1389, 1380, 1370, 1377, 1372, 1367, 1395, 1367, 1381, 1392, 1387, 1388, 1371, 1376, 1380, 1387, 1372, 1383, 1378, 1386, 1383, 1388, 1382, 1392, 1402, 1391, 1386, 1378, 1392, 1387, 1388, 1385, 1400, 0, 1387, 1382, 1376, 1381, 1415, 1392, 1359, 1363, 1382, 1381, 0, 1381, 1390, 1394, 1385, 1346, 1232, 1367, 1333, 1385, 1376, 1230, 1324, 1305, 407, 1354, 1319, 1112, 1312, 1228, 1204, 1307, 1359, 1318, 0, 0, 846, 847, 0, 441, 0, 891, 1289, 1368, 1357, 0, 1068, 454, 0, 0, 1362, 0, 1415, 1252, 1381, 1364, 0, 1323, 790, 1289, 1360, 0, 1376, 1351, 1238, 1375, 1390, 1196, 1260, 927, 642, 881, 1363, 1363, 1092, 0, 1385, 1389, 1292, 1352, 1390, 1376, 1391, 1344, 1373, 1357, 1351, 1415, 1354, 1387, 1354, 1365, 1398, 1355, 1386, 1374, 1377, 1415, 1382, 1383, 1381, 1354, 1385, 1386, 1404, 1389, 1393, 1388, 1387, 1388, 0, 1397, 1375, 1382, 1378, 1374, 1383, 1393, 1378, 1383, 1386, 0, 1353, 1294, 1378, 1394, 1345, 1374, 1370, 1378, 1384, 1351, 1357, 1367, 1330, 1375, 701, 1351, 1351, 1214, 1358, 1364, 1289, 1369, 0, 1385, 1415, 1350, 1280, 1399, 1392, 840, 686, 980, 1415, 0, 1382, 0, 0, 0, 0, 306, 895, 56, 942, 1372, 0, 0, 1378, 0, 442, 614, 1238, 1329, 1290, 1244, 1381, 1265, 961, 1338, 1262, 1341, 1371, 206, 1367, 1351, 1207, 1378, 1355, 1363, 1388, 1309, 1365, 1353, 1399, 1379, 1160, 1377, 1415, 1125, 1310, 1226, 1370, 1369, 1372, 1378, 1389, 1393, 1378, 1386, 1386, 1382, 1389, 1395, 1394, 1379, 1387, 1394, 1386, 1394, 1392, 1415, 1380, 1380, 1387, 1395, 1380, 1386, 1392, 1385, 1388, 1365, 0, 1362, 1348, 1367, 1415, 1365, 1379, 1360, 1398, 1366, 1362, 1319, 1378, 1362, 1341, 1330, 1368, 1370, 1346, 1357, 1306, 1298, 1415, 1400, 1322, 705, 1376, 0, 810, 1119, 985, 0, 0, 1360, 1070, 1331, 1373, 1415, 0, 1254, 1295, 1207, 0, 1151, 1376, 267, 0, 1165, 1361, 0, 1396, 1388, 1234, 0, 1343, 1381, 0, 0, 0, 1007, 0, 1082, 1211, 646, 977, 1136, 1383, 1382, 201, 0, 1332, 1403, 1411, 1358, 1387, 1358, 1354, 1381, 1232, 1323, 1365, 1372, 1366, 1389, 0, 1383, 0, 1401, 1388, 1415, 1386, 1399, 1393, 1383, 1394, 1389, 1393, 1393, 1401, 1388, 1017, 1390, 1390, 1378, 1387, 1391, 1381, 1392, 1379, 1389, 1357, 1318, 1373, 1365, 1389, 1360, 1379, 1392, 1415, 1364, 1353, 1372, 1304, 1346, 1374, 1374, 1376, 1329, 1349, 1380, 1210, 1353, 1351, 1363, 1333, 1293, 925, 1301, 1358, 1301, 1415, 0, 585, 0, 1368, 0, 690, 0, 773, 1270, 0, 665, 0, 0, 0, 1382, 1084, 1266, 0, 0, 1415, 0, 1360, 0, 1415, 0, 1379, 1266, 0, 0, 1354, 0, 0, 1345, 1360, 1252, 1398, 1384, 0, 0, 0, 1415, 0, 1384, 0, 1305, 1317, 0, 1386, 0, 1396, 1367, 0, 1353, 1360, 1374, 1356, 1354, 1359, 1415, 1415, 1398, 1392, 1395, 1393, 1389, 1395, 1388, 1388, 1396, 1389, 459, 1379, 1384, 1391, 1381, 1387, 1377, 1387, 1386, 1371, 1383, 776, 1364, 1377, 1390, 1376, 1378, 1371, 1390, 1362, 1365, 1373, 1226, 1384, 1359, 1390, 1359, 1375, 1375, 1355, 1362, 1368, 1354, 1377, 1370, 1371, 1335, 1012, 1030, 1240, 1255, 1140, 1363, 1206, 1380, 1351, 1315, 1356, 1352, 94, 0, 0, 0, 919, 812, 1377, 0, 0, 0, 0, 0, 0, 0, 860, 1415, 0, 1379, 0, 0, 0, 0, 0, 0, 185, 1271, 0, 0, 1415, 0, 1353, 1347, 1366, 0, 1365, 1254, 1403, 0, 0, 1383, 1388], \"y0\": \" \", \"yaxis\": \"y\"}],\n",
       "                        {\"boxmode\": \"group\", \"height\": 600, \"legend\": {\"tracegroupgap\": 0}, \"margin\": {\"t\": 60}, \"template\": {\"data\": {\"bar\": [{\"error_x\": {\"color\": \"#2a3f5f\"}, \"error_y\": {\"color\": \"#2a3f5f\"}, \"marker\": {\"line\": {\"color\": \"#E5ECF6\", \"width\": 0.5}}, \"type\": \"bar\"}], \"barpolar\": [{\"marker\": {\"line\": {\"color\": \"#E5ECF6\", \"width\": 0.5}}, \"type\": \"barpolar\"}], \"carpet\": [{\"aaxis\": {\"endlinecolor\": \"#2a3f5f\", \"gridcolor\": \"white\", \"linecolor\": \"white\", \"minorgridcolor\": \"white\", \"startlinecolor\": \"#2a3f5f\"}, \"baxis\": {\"endlinecolor\": \"#2a3f5f\", \"gridcolor\": \"white\", \"linecolor\": \"white\", \"minorgridcolor\": \"white\", \"startlinecolor\": \"#2a3f5f\"}, \"type\": \"carpet\"}], \"choropleth\": [{\"colorbar\": {\"outlinewidth\": 0, \"ticks\": \"\"}, \"type\": \"choropleth\"}], \"contour\": [{\"colorbar\": {\"outlinewidth\": 0, \"ticks\": \"\"}, \"colorscale\": [[0.0, \"#0d0887\"], [0.1111111111111111, \"#46039f\"], [0.2222222222222222, \"#7201a8\"], [0.3333333333333333, \"#9c179e\"], [0.4444444444444444, \"#bd3786\"], [0.5555555555555556, \"#d8576b\"], [0.6666666666666666, \"#ed7953\"], [0.7777777777777778, \"#fb9f3a\"], [0.8888888888888888, \"#fdca26\"], [1.0, \"#f0f921\"]], \"type\": \"contour\"}], \"contourcarpet\": [{\"colorbar\": {\"outlinewidth\": 0, \"ticks\": \"\"}, \"type\": \"contourcarpet\"}], \"heatmap\": [{\"colorbar\": {\"outlinewidth\": 0, \"ticks\": \"\"}, \"colorscale\": [[0.0, \"#0d0887\"], [0.1111111111111111, \"#46039f\"], [0.2222222222222222, \"#7201a8\"], [0.3333333333333333, \"#9c179e\"], [0.4444444444444444, \"#bd3786\"], [0.5555555555555556, \"#d8576b\"], [0.6666666666666666, \"#ed7953\"], [0.7777777777777778, \"#fb9f3a\"], [0.8888888888888888, \"#fdca26\"], [1.0, \"#f0f921\"]], \"type\": \"heatmap\"}], \"heatmapgl\": [{\"colorbar\": {\"outlinewidth\": 0, \"ticks\": \"\"}, \"colorscale\": [[0.0, \"#0d0887\"], [0.1111111111111111, \"#46039f\"], [0.2222222222222222, \"#7201a8\"], [0.3333333333333333, \"#9c179e\"], [0.4444444444444444, \"#bd3786\"], [0.5555555555555556, \"#d8576b\"], [0.6666666666666666, \"#ed7953\"], [0.7777777777777778, \"#fb9f3a\"], [0.8888888888888888, \"#fdca26\"], [1.0, \"#f0f921\"]], \"type\": \"heatmapgl\"}], \"histogram\": [{\"marker\": {\"colorbar\": {\"outlinewidth\": 0, \"ticks\": \"\"}}, \"type\": \"histogram\"}], \"histogram2d\": [{\"colorbar\": {\"outlinewidth\": 0, \"ticks\": \"\"}, \"colorscale\": [[0.0, \"#0d0887\"], [0.1111111111111111, \"#46039f\"], [0.2222222222222222, \"#7201a8\"], [0.3333333333333333, \"#9c179e\"], [0.4444444444444444, \"#bd3786\"], [0.5555555555555556, \"#d8576b\"], [0.6666666666666666, \"#ed7953\"], [0.7777777777777778, \"#fb9f3a\"], [0.8888888888888888, \"#fdca26\"], [1.0, \"#f0f921\"]], \"type\": \"histogram2d\"}], \"histogram2dcontour\": [{\"colorbar\": {\"outlinewidth\": 0, \"ticks\": \"\"}, \"colorscale\": [[0.0, \"#0d0887\"], [0.1111111111111111, \"#46039f\"], [0.2222222222222222, \"#7201a8\"], [0.3333333333333333, \"#9c179e\"], [0.4444444444444444, \"#bd3786\"], [0.5555555555555556, \"#d8576b\"], [0.6666666666666666, \"#ed7953\"], [0.7777777777777778, \"#fb9f3a\"], [0.8888888888888888, \"#fdca26\"], [1.0, \"#f0f921\"]], \"type\": \"histogram2dcontour\"}], \"mesh3d\": [{\"colorbar\": {\"outlinewidth\": 0, \"ticks\": \"\"}, \"type\": \"mesh3d\"}], \"parcoords\": [{\"line\": {\"colorbar\": {\"outlinewidth\": 0, \"ticks\": \"\"}}, \"type\": \"parcoords\"}], \"scatter\": [{\"marker\": {\"colorbar\": {\"outlinewidth\": 0, \"ticks\": \"\"}}, \"type\": \"scatter\"}], \"scatter3d\": [{\"line\": {\"colorbar\": {\"outlinewidth\": 0, \"ticks\": \"\"}}, \"marker\": {\"colorbar\": {\"outlinewidth\": 0, \"ticks\": \"\"}}, \"type\": \"scatter3d\"}], \"scattercarpet\": [{\"marker\": {\"colorbar\": {\"outlinewidth\": 0, \"ticks\": \"\"}}, \"type\": \"scattercarpet\"}], \"scattergeo\": [{\"marker\": {\"colorbar\": {\"outlinewidth\": 0, \"ticks\": \"\"}}, \"type\": \"scattergeo\"}], \"scattergl\": [{\"marker\": {\"colorbar\": {\"outlinewidth\": 0, \"ticks\": \"\"}}, \"type\": \"scattergl\"}], \"scattermapbox\": [{\"marker\": {\"colorbar\": {\"outlinewidth\": 0, \"ticks\": \"\"}}, \"type\": \"scattermapbox\"}], \"scatterpolar\": [{\"marker\": {\"colorbar\": {\"outlinewidth\": 0, \"ticks\": \"\"}}, \"type\": \"scatterpolar\"}], \"scatterpolargl\": [{\"marker\": {\"colorbar\": {\"outlinewidth\": 0, \"ticks\": \"\"}}, \"type\": \"scatterpolargl\"}], \"scatterternary\": [{\"marker\": {\"colorbar\": {\"outlinewidth\": 0, \"ticks\": \"\"}}, \"type\": \"scatterternary\"}], \"surface\": [{\"colorbar\": {\"outlinewidth\": 0, \"ticks\": \"\"}, \"colorscale\": [[0.0, \"#0d0887\"], [0.1111111111111111, \"#46039f\"], [0.2222222222222222, \"#7201a8\"], [0.3333333333333333, \"#9c179e\"], [0.4444444444444444, \"#bd3786\"], [0.5555555555555556, \"#d8576b\"], [0.6666666666666666, \"#ed7953\"], [0.7777777777777778, \"#fb9f3a\"], [0.8888888888888888, \"#fdca26\"], [1.0, \"#f0f921\"]], \"type\": \"surface\"}], \"table\": [{\"cells\": {\"fill\": {\"color\": \"#EBF0F8\"}, \"line\": {\"color\": \"white\"}}, \"header\": {\"fill\": {\"color\": \"#C8D4E3\"}, \"line\": {\"color\": \"white\"}}, \"type\": \"table\"}]}, \"layout\": {\"annotationdefaults\": {\"arrowcolor\": \"#2a3f5f\", \"arrowhead\": 0, \"arrowwidth\": 1}, \"colorscale\": {\"diverging\": [[0, \"#8e0152\"], [0.1, \"#c51b7d\"], [0.2, \"#de77ae\"], [0.3, \"#f1b6da\"], [0.4, \"#fde0ef\"], [0.5, \"#f7f7f7\"], [0.6, \"#e6f5d0\"], [0.7, \"#b8e186\"], [0.8, \"#7fbc41\"], [0.9, \"#4d9221\"], [1, \"#276419\"]], \"sequential\": [[0.0, \"#0d0887\"], [0.1111111111111111, \"#46039f\"], [0.2222222222222222, \"#7201a8\"], [0.3333333333333333, \"#9c179e\"], [0.4444444444444444, \"#bd3786\"], [0.5555555555555556, \"#d8576b\"], [0.6666666666666666, \"#ed7953\"], [0.7777777777777778, \"#fb9f3a\"], [0.8888888888888888, \"#fdca26\"], [1.0, \"#f0f921\"]], \"sequentialminus\": [[0.0, \"#0d0887\"], [0.1111111111111111, \"#46039f\"], [0.2222222222222222, \"#7201a8\"], [0.3333333333333333, \"#9c179e\"], [0.4444444444444444, \"#bd3786\"], [0.5555555555555556, \"#d8576b\"], [0.6666666666666666, \"#ed7953\"], [0.7777777777777778, \"#fb9f3a\"], [0.8888888888888888, \"#fdca26\"], [1.0, \"#f0f921\"]]}, \"colorway\": [\"#636efa\", \"#EF553B\", \"#00cc96\", \"#ab63fa\", \"#FFA15A\", \"#19d3f3\", \"#FF6692\", \"#B6E880\", \"#FF97FF\", \"#FECB52\"], \"font\": {\"color\": \"#2a3f5f\"}, \"geo\": {\"bgcolor\": \"white\", \"lakecolor\": \"white\", \"landcolor\": \"#E5ECF6\", \"showlakes\": true, \"showland\": true, \"subunitcolor\": \"white\"}, \"hoverlabel\": {\"align\": \"left\"}, \"hovermode\": \"closest\", \"mapbox\": {\"style\": \"light\"}, \"paper_bgcolor\": \"white\", \"plot_bgcolor\": \"#E5ECF6\", \"polar\": {\"angularaxis\": {\"gridcolor\": \"white\", \"linecolor\": \"white\", \"ticks\": \"\"}, \"bgcolor\": \"#E5ECF6\", \"radialaxis\": {\"gridcolor\": \"white\", \"linecolor\": \"white\", \"ticks\": \"\"}}, \"scene\": {\"xaxis\": {\"backgroundcolor\": \"#E5ECF6\", \"gridcolor\": \"white\", \"gridwidth\": 2, \"linecolor\": \"white\", \"showbackground\": true, \"ticks\": \"\", \"zerolinecolor\": \"white\"}, \"yaxis\": {\"backgroundcolor\": \"#E5ECF6\", \"gridcolor\": \"white\", \"gridwidth\": 2, \"linecolor\": \"white\", \"showbackground\": true, \"ticks\": \"\", \"zerolinecolor\": \"white\"}, \"zaxis\": {\"backgroundcolor\": \"#E5ECF6\", \"gridcolor\": \"white\", \"gridwidth\": 2, \"linecolor\": \"white\", \"showbackground\": true, \"ticks\": \"\", \"zerolinecolor\": \"white\"}}, \"shapedefaults\": {\"line\": {\"color\": \"#2a3f5f\"}}, \"ternary\": {\"aaxis\": {\"gridcolor\": \"white\", \"linecolor\": \"white\", \"ticks\": \"\"}, \"baxis\": {\"gridcolor\": \"white\", \"linecolor\": \"white\", \"ticks\": \"\"}, \"bgcolor\": \"#E5ECF6\", \"caxis\": {\"gridcolor\": \"white\", \"linecolor\": \"white\", \"ticks\": \"\"}}, \"title\": {\"x\": 0.05}, \"xaxis\": {\"automargin\": true, \"gridcolor\": \"white\", \"linecolor\": \"white\", \"ticks\": \"\", \"zerolinecolor\": \"white\", \"zerolinewidth\": 2}, \"yaxis\": {\"automargin\": true, \"gridcolor\": \"white\", \"linecolor\": \"white\", \"ticks\": \"\", \"zerolinecolor\": \"white\", \"zerolinewidth\": 2}}}, \"xaxis\": {\"anchor\": \"y\", \"domain\": [0.0, 0.98]}, \"yaxis\": {\"anchor\": \"x\", \"domain\": [0.0, 1.0], \"title\": {\"text\": \"missing_plan_cnt_first_delay\"}}},\n",
       "                        {\"responsive\": true}\n",
       "                    ).then(function(){\n",
       "                            \n",
       "var gd = document.getElementById('d1b4d596-2def-48ee-abb8-5cd59d44ba29');\n",
       "var x = new MutationObserver(function (mutations, observer) {{\n",
       "        var display = window.getComputedStyle(gd).display;\n",
       "        if (!display || display === 'none') {{\n",
       "            console.log([gd, 'removed!']);\n",
       "            Plotly.purge(gd);\n",
       "            observer.disconnect();\n",
       "        }}\n",
       "}});\n",
       "\n",
       "// Listen for the removal of the full notebook cells\n",
       "var notebookContainer = gd.closest('#notebook-container');\n",
       "if (notebookContainer) {{\n",
       "    x.observe(notebookContainer, {childList: true});\n",
       "}}\n",
       "\n",
       "// Listen for the clearing of the current output cell\n",
       "var outputEl = gd.closest('.output');\n",
       "if (outputEl) {{\n",
       "    x.observe(outputEl, {childList: true});\n",
       "}}\n",
       "\n",
       "                        })\n",
       "                };\n",
       "                });\n",
       "            </script>\n",
       "        </div>"
      ]
     },
     "metadata": {},
     "output_type": "display_data"
    }
   ],
   "source": [
    "px.box(df, y='missing_plan_cnt_first_delay')"
   ]
  }
 ],
 "metadata": {
  "kernelspec": {
   "display_name": "Python 3",
   "language": "python",
   "name": "python3"
  },
  "language_info": {
   "codemirror_mode": {
    "name": "ipython",
    "version": 3
   },
   "file_extension": ".py",
   "mimetype": "text/x-python",
   "name": "python",
   "nbconvert_exporter": "python",
   "pygments_lexer": "ipython3",
   "version": "3.7.4"
  }
 },
 "nbformat": 4,
 "nbformat_minor": 2
}
